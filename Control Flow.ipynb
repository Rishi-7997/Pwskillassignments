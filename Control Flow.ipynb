{
 "cells": [
  {
   "cell_type": "markdown",
   "metadata": {},
   "source": [
    "### TOPIC: Basic If-Else Statements"
   ]
  },
  {
   "cell_type": "markdown",
   "metadata": {},
   "source": [
    "-----------------------------------------------------------------------------\n",
    "1. Write a Python program to check if a given number is positive or negative."
   ]
  },
  {
   "cell_type": "code",
   "execution_count": 7,
   "metadata": {},
   "outputs": [
    {
     "name": "stdout",
     "output_type": "stream",
     "text": [
      "['Positive']\n"
     ]
    }
   ],
   "source": [
    "def num(x):\n",
    "    return [\"Positive\" if x > 0 else \"Negative\"]\n",
    "x = int(input(\"Check Number is Positive or Negative: \"))\n",
    "print(num(x))"
   ]
  },
  {
   "cell_type": "markdown",
   "metadata": {},
   "source": [
    "-----------------------------------------------------------------------------\n",
    "2. Create a program that determines if a person is eligible to vote based on their age."
   ]
  },
  {
   "cell_type": "code",
   "execution_count": 8,
   "metadata": {},
   "outputs": [
    {
     "name": "stdout",
     "output_type": "stream",
     "text": [
      "['Eligible for vote!']\n"
     ]
    }
   ],
   "source": [
    "def vote_age(n):\n",
    "    return [\"Eligible for vote!\" if n > 18 else \"Not Eligible for vote!\" ]\n",
    "n = int(input(\"Checking voter is eligible: \"))\n",
    "print(vote_age(n))"
   ]
  },
  {
   "cell_type": "markdown",
   "metadata": {},
   "source": [
    "-----------------------------------------------------------------------------\n",
    "3. Develop a program to find the maximum of two numbers using if-else statements."
   ]
  },
  {
   "cell_type": "code",
   "execution_count": 8,
   "metadata": {},
   "outputs": [
    {
     "name": "stdout",
     "output_type": "stream",
     "text": [
      "The maximum number is:  2\n"
     ]
    }
   ],
   "source": [
    "def numbers(num1, num2):\n",
    "    if num1 > num2:\n",
    "        return num1\n",
    "    else:\n",
    "        return num2\n",
    "\n",
    "num1 = int(input(\"Enter number 1: \"))\n",
    "num2 = int(input(\"Enter number 2: \"))\n",
    "\n",
    "\n",
    "max_num = numbers(num1, num2)\n",
    "print(\"The maximum number is: \",max_num)"
   ]
  },
  {
   "cell_type": "markdown",
   "metadata": {},
   "source": [
    "-----------------------------------------------------------------------------\n",
    "4. Write a Python script to classify a given year as a leap year or not."
   ]
  },
  {
   "cell_type": "code",
   "execution_count": 2,
   "metadata": {},
   "outputs": [
    {
     "name": "stdout",
     "output_type": "stream",
     "text": [
      "17 is not a leap year.\n"
     ]
    }
   ],
   "source": [
    "def leap_year(x):\n",
    "    if (x % 4 == 0 and x % 100 != 0) or (x % 400 == 0):\n",
    "        return True\n",
    "    else:\n",
    "        return False\n",
    "\n",
    "# Input a year from the user\n",
    "x = int(input(\"Enter a year: \"))\n",
    "\n",
    "# Check if it's a leap year and display the result\n",
    "\n",
    "if leap_year(x):\n",
    "    print(x, \"is a leap year.\")\n",
    "else:\n",
    "    print(x, \"is not a leap year.\")"
   ]
  },
  {
   "cell_type": "markdown",
   "metadata": {},
   "source": [
    "-----------------------------------------------------------------------------\n",
    "5. Create a program that checks whether a character is a vowel or a consonant."
   ]
  },
  {
   "cell_type": "code",
   "execution_count": null,
   "metadata": {},
   "outputs": [],
   "source": [
    "# Define a string of vowels\n",
    "vowels = \"aeiouAEIOU\"\n",
    "\n",
    "# Ask the user to enter a character\n",
    "character = input(\"Enter a character: \")\n",
    "\n",
    "# Check if the character is a vowel or a consonant\n",
    "if vowels.count(character) > 0:\n",
    "    print(character, \"is a vowel.\")\n",
    "else:\n",
    "    print(character, \"is a consonant.\")"
   ]
  },
  {
   "cell_type": "markdown",
   "metadata": {},
   "source": [
    "-----------------------------------------------------------------------------\n",
    "6. Implement a program to determine whether a given number is even or odd."
   ]
  },
  {
   "cell_type": "code",
   "execution_count": 2,
   "metadata": {},
   "outputs": [
    {
     "name": "stdout",
     "output_type": "stream",
     "text": [
      "3 is odd\n"
     ]
    }
   ],
   "source": [
    "number = int(input(\"Enter a number: \"))\n",
    "if number % 2 == 0:\n",
    "    print(number,\"is even\")\n",
    "else:\n",
    "    print(number, \"is odd\")"
   ]
  },
  {
   "cell_type": "markdown",
   "metadata": {},
   "source": [
    "-----------------------------------------------------------------------------\n",
    "7. Write a Python function to calculate the absolute value of a number without using the `abs()` function."
   ]
  },
  {
   "cell_type": "code",
   "execution_count": 4,
   "metadata": {},
   "outputs": [
    {
     "name": "stdout",
     "output_type": "stream",
     "text": [
      "The absolute value of 4 is [4]\n"
     ]
    }
   ],
   "source": [
    "# absolute value means multiplying negative number with -1 to make it positve.\n",
    "def absolute_value(number):\n",
    "    return number * -1 if number < 0 else number\n",
    "\n",
    "number = int(input(\"Enter a number: \"))\n",
    "print(\"The absolute value of {} is {}\".format(number, absolute_value(number)))\n"
   ]
  },
  {
   "cell_type": "markdown",
   "metadata": {},
   "source": [
    "-----------------------------------------------------------------------------\n",
    "8. Develop a program that determines the largest of three given numbers using if-else statements.\n"
   ]
  },
  {
   "cell_type": "code",
   "execution_count": 9,
   "metadata": {},
   "outputs": [
    {
     "name": "stdout",
     "output_type": "stream",
     "text": [
      "12 is the largest number\n"
     ]
    }
   ],
   "source": [
    "num1 = int(input(\"Enter value of num2: \"))\n",
    "num2 = int(input(\"Enter value of num2: \"))\n",
    "num3 = int(input(\"Enter value of num2: \"))\n",
    "if num1 > num2 and num1 > num3:\n",
    "    # print num1 if its largest\n",
    "    print(num1, \"is the largest number\")\n",
    "elif num2 > num1 and num2 > num3:\n",
    "    # print num2 if its largest\n",
    "    print(num2, \"is the largest number\")\n",
    "else:\n",
    "    # If none of the above conditions are true, then num3 is the largest\n",
    "    print(num3, \"is the largest number\")"
   ]
  },
  {
   "cell_type": "markdown",
   "metadata": {},
   "source": [
    "-----------------------------------------------------------------------------\n",
    "9. Create a program that checks if a given string is a palindrome.\n"
   ]
  },
  {
   "cell_type": "code",
   "execution_count": 9,
   "metadata": {},
   "outputs": [
    {
     "name": "stdout",
     "output_type": "stream",
     "text": [
      "sr's palindrome is False\n"
     ]
    }
   ],
   "source": [
    "def check_palindrome(x):\n",
    "    return True if x == x[::-1] else False\n",
    "str1 = str(input(\"Enter a number: \"))\n",
    "print(\"{}'s palindrome is {}\".format(str1, check_palindrome(str1)))"
   ]
  },
  {
   "cell_type": "markdown",
   "metadata": {},
   "source": [
    "-----------------------------------------------------------------------------\n",
    "10. Write a Python program to calculate the grade based on a student's score."
   ]
  },
  {
   "cell_type": "code",
   "execution_count": null,
   "metadata": {},
   "outputs": [],
   "source": [
    "def average(score):\n",
    "    if 90 <= score <= 100:\n",
    "        return \"A\"\n",
    "    elif 80 <= score < 90:\n",
    "        return \"B\"\n",
    "    elif 70 <= score < 80:\n",
    "        return \"C\"\n",
    "    elif 60 <= score < 70:\n",
    "        return \"D\"\n",
    "    else:\n",
    "        return \"F\""
   ]
  },
  {
   "cell_type": "markdown",
   "metadata": {},
   "source": [
    "### Nested If-Else Statements:"
   ]
  },
  {
   "cell_type": "markdown",
   "metadata": {},
   "source": [
    "-----------------------------------------------------------------------------\n",
    "11. Write a program to find the largest among three numbers using nested if-else statements."
   ]
  },
  {
   "cell_type": "code",
   "execution_count": null,
   "metadata": {},
   "outputs": [],
   "source": [
    "num1 = int(input(\"Enter num1's value\"))\n",
    "num2 = int(input(\"Enter num2's value\"))\n",
    "num3 = int(input(\"Enter num3's value\"))\n",
    "\n",
    "if num1 >= num2:\n",
    "    if num1 >= num3:\n",
    "        largest = num1\n",
    "    else:\n",
    "        largest = num3\n",
    "else:\n",
    "    if num2 >= num3:\n",
    "        largest = num2\n",
    "    else:\n",
    "        largest = num3\n",
    "\n",
    "# Display the largest number\n",
    "print(\"The largest number among\", num1, \",\", num2, \"and\", num3, \"is\", largest)"
   ]
  },
  {
   "cell_type": "markdown",
   "metadata": {},
   "source": [
    "-----------------------------------------------------------------------------\n",
    "12. Implement a program to determine if a triangle is equilateral, isosceles, or scalene."
   ]
  },
  {
   "cell_type": "code",
   "execution_count": 10,
   "metadata": {},
   "outputs": [
    {
     "name": "stdout",
     "output_type": "stream",
     "text": [
      "It is an equilateral triangle.\n"
     ]
    }
   ],
   "source": [
    "side1 = int(input(\"Enter side1's value of the triangle\"))\n",
    "side2 = int(input(\"Enter side2's value of the triangle\"))\n",
    "side3 = int(input(\"Enter side3's value of the triangle\"))\n",
    "\n",
    "def triangle():\n",
    "    if side1 + side2 > side3 and side1 + side3 > side2 and side2 + side3 > side1:\n",
    "        # Check for equilateral triangle\n",
    "        if side1 == side2 == side3:\n",
    "            print(\"It is an equilateral triangle.\")\n",
    "        # Check for isosceles triangle\n",
    "        elif side1 == side2 or side1 == side3 or side2 == side3:\n",
    "            print(\"It is an isosceles triangle.\")\n",
    "        # It's neither equilateral nor isosceles, so it must be scalene\n",
    "        else:\n",
    "            print(\"It is a scalene triangle.\")\n",
    "    else:\n",
    "        print(\"It is not a valid triangle.\")\n",
    "\n",
    "# Call the function to classify the triangle\n",
    "triangle()\n"
   ]
  },
  {
   "cell_type": "markdown",
   "metadata": {},
   "source": [
    "-----------------------------------------------------------------------------\n",
    "13. Develop a program that checks if a year is a leap year and also if it is a century year."
   ]
  },
  {
   "cell_type": "code",
   "execution_count": 12,
   "metadata": {},
   "outputs": [
    {
     "name": "stdout",
     "output_type": "stream",
     "text": [
      "233 is not a leap year.\n"
     ]
    }
   ],
   "source": [
    "def leap_century_year(x):\n",
    "    if (x % 4 == 0 and x % 100 != 0) or (x % 400 == 0 and x % 100 == 0):\n",
    "        return True\n",
    "    else:\n",
    "        return False\n",
    "\n",
    "# Input a year from the user\n",
    "x = int(input(\"Enter a year: \"))\n",
    "\n",
    "# Check if it's a leap year and display the result\n",
    "\n",
    "if leap_century_year(x):\n",
    "    print(x, \"is a leap year and also a century year\")\n",
    "else:\n",
    "    print(x, \"is not a leap year.\")"
   ]
  },
  {
   "cell_type": "markdown",
   "metadata": {},
   "source": [
    "-----------------------------------------------------------------------------\n",
    "14. Write a Python script to determine if a number is positive, negative, or zero."
   ]
  },
  {
   "cell_type": "code",
   "execution_count": 14,
   "metadata": {},
   "outputs": [
    {
     "name": "stdout",
     "output_type": "stream",
     "text": [
      "Number is negative\n"
     ]
    }
   ],
   "source": [
    "x = int(input(\"Enter a number: \"))\n",
    "if x >= 0:\n",
    "    print(\"Number is positive\")\n",
    "elif x == 0:\n",
    "    print(\"Number is zero\")\n",
    "else:\n",
    "    print(\"Number is negative\")"
   ]
  },
  {
   "cell_type": "markdown",
   "metadata": {},
   "source": [
    "-----------------------------------------------------------------------------\n",
    "15. Create a program to check if a person is a teenager (between 13 and 19 years old)."
   ]
  },
  {
   "cell_type": "code",
   "execution_count": 16,
   "metadata": {},
   "outputs": [
    {
     "name": "stdout",
     "output_type": "stream",
     "text": [
      "Person's age is between 13 and 19.\n"
     ]
    }
   ],
   "source": [
    "n = int(input(\"Enter age of a person: \"))\n",
    "if 13 <= n <= 19:\n",
    "    print(\"Person's age is between 13 and 19.\")\n",
    "else:\n",
    "    print(\"Person's age is not between 13 and 19.\")"
   ]
  },
  {
   "cell_type": "markdown",
   "metadata": {},
   "source": [
    "-----------------------------------------------------------------------------\n",
    "16. Develop a program that determines the type of angle based on its measure (acute, obtuse, or right)."
   ]
  },
  {
   "cell_type": "code",
   "execution_count": 56,
   "metadata": {},
   "outputs": [
    {
     "name": "stdout",
     "output_type": "stream",
     "text": [
      "50 degree angle means = Acute\n"
     ]
    }
   ],
   "source": [
    "angle = int(input(\"Enter angle of the triangle\"))\n",
    "\n",
    "\n",
    "def determine_angle():\n",
    "    if angle < 90:\n",
    "        print(f\"{angle} degree angle means = Acute\")\n",
    "    elif angle == 90:\n",
    "        print(f\"{angle} degree angle means = Right\")\n",
    "    elif angle > 90 and angle < 180:\n",
    "        print(f\"{angle} degree angle means = Obtuse\")\n",
    "    else:\n",
    "        print(f\"{angle} degree angle means = Reflex\")\n",
    "\n",
    "# Call the function to determine the angle\n",
    "determine_angle()"
   ]
  },
  {
   "cell_type": "markdown",
   "metadata": {},
   "source": [
    "-----------------------------------------------------------------------------\n",
    "17. Write a Python program to calculate the roots of a quadratic equation."
   ]
  },
  {
   "cell_type": "code",
   "execution_count": 5,
   "metadata": {},
   "outputs": [
    {
     "name": "stdout",
     "output_type": "stream",
     "text": [
      "The roots of 2.0x^2 + 2.0x + 2.0 are ((-0.5+0.8660254037844386j), (-0.5-0.8660254037844386j))\n"
     ]
    }
   ],
   "source": [
    "import math\n",
    "\n",
    "# Input coefficients a, b, and c from the user\n",
    "a = float(input(\"Enter coefficient a: \"))\n",
    "b = float(input(\"Enter coefficient b: \"))\n",
    "c = float(input(\"Enter coefficient c: \"))\n",
    "\n",
    "def quadratic(a, b, c):\n",
    "    d = b**2 - 4*a*c\n",
    "    if d > 0:  \n",
    "        x1 = (-b + math.sqrt(d)) / (2*a)\n",
    "        x2 = (-b - math.sqrt(d)) / (2*a)\n",
    "        return (x1, x2)\n",
    "\n",
    "  # If d is zero, return one real root\n",
    "    elif d == 0:\n",
    "        x = -b / (2*a)\n",
    "        return x\n",
    "\n",
    "  # If d is negative, return two complex roots\n",
    "    else:\n",
    "        x1 = complex(-b / (2*a), math.sqrt(-d) / (2*a))\n",
    "        x2 = complex(-b / (2*a), -math.sqrt(-d) / (2*a))\n",
    "        return (x1, x2)\n",
    "\n",
    "roots = quadratic(a, b, c)\n",
    "\n",
    "# Print result\n",
    "print(f\"The roots of {a}x^2 + {b}x + {c} are {roots}\")"
   ]
  },
  {
   "cell_type": "markdown",
   "metadata": {},
   "source": [
    "-----------------------------------------------------------------------------\n",
    "18. Implement a program to determine the day of the week based on a user-provided number (1 for Monday, 2\n",
    "for Tuesday, etc.)."
   ]
  },
  {
   "cell_type": "code",
   "execution_count": 46,
   "metadata": {},
   "outputs": [
    {
     "name": "stdout",
     "output_type": "stream",
     "text": [
      "The day of the week is Tuesday.\n"
     ]
    }
   ],
   "source": [
    "days = {1: \"Monday\", 2: \"Tuesday\", 3: \"Wednesday\", 4: \"Thursday\", 5: \"Friday\", 6: \"Saturday\", 7: \"Sunday\"}\n",
    "\n",
    "# Ask the user to enter a number\n",
    "number = int(input(\"Enter a number from 1 to 7: \"))\n",
    "\n",
    "# Check if the number is valid\n",
    "if (1 > number) | (number > 7):\n",
    "    print(\"Invalid number. Please try again.\")\n",
    "else:\n",
    "    # Get day from the dictionary\n",
    "    day = days[number]\n",
    "    # Print the result\n",
    "    print(f\"The day of the week is {day}.\")"
   ]
  },
  {
   "cell_type": "markdown",
   "metadata": {},
   "source": [
    "-----------------------------------------------------------------------------\n",
    "19. Create a program that determines if a year is a leap year and also if it is evenly divisible by 400."
   ]
  },
  {
   "cell_type": "code",
   "execution_count": null,
   "metadata": {},
   "outputs": [],
   "source": [
    "def leap_year(year):\n",
    "    if (year % 4 == 0 and year % 100 != 0) | (year % 400 == 0):\n",
    "        return True\n",
    "    else:\n",
    "        return False\n",
    "\n",
    "year = int(input(\"Enter a year: \"))\n",
    "\n",
    "if leap_year(year):\n",
    "    print(f\"{year} is a leap year and evenly divisible by 400.\")\n",
    "else:\n",
    "    print(f\"{year} is not a leap year or not evenly divisible by 400.\")"
   ]
  },
  {
   "cell_type": "markdown",
   "metadata": {},
   "source": [
    "-----------------------------------------------------------------------------\n",
    "20. Develop a program that checks if a given number is prime or not using nested if-else statements."
   ]
  },
  {
   "cell_type": "code",
   "execution_count": 8,
   "metadata": {},
   "outputs": [
    {
     "name": "stdout",
     "output_type": "stream",
     "text": [
      "4 given number is not prime.\n"
     ]
    }
   ],
   "source": [
    "from math import sqrt\n",
    "def is_prime(num):\n",
    "    if num <= 1:\n",
    "        return False\n",
    "    i = 2\n",
    "    while i <= sqrt(num):    \n",
    "        if num%i == 0:\n",
    "            return False\n",
    "        i += 1\n",
    "    return True "
   ]
  },
  {
   "cell_type": "markdown",
   "metadata": {},
   "source": [
    "### Elif Statements:"
   ]
  },
  {
   "cell_type": "markdown",
   "metadata": {},
   "source": [
    "-----------------------------------------------------------------------------\n",
    "21. Write a Python program to assign grades based on different ranges of scores using elif statements."
   ]
  },
  {
   "cell_type": "code",
   "execution_count": null,
   "metadata": {},
   "outputs": [],
   "source": [
    "def average(score):\n",
    "    if 90 <= score <= 100:\n",
    "        return \"A\"\n",
    "    elif 80 <= score < 90:\n",
    "        return \"B\"\n",
    "    elif 70 <= score < 80:\n",
    "        return \"C\"\n",
    "    elif 60 <= score < 70:\n",
    "        return \"D\"\n",
    "    else:\n",
    "        return \"F\""
   ]
  },
  {
   "cell_type": "markdown",
   "metadata": {},
   "source": [
    "-----------------------------------------------------------------------------\n",
    "22. Implement a program to determine the type of a triangle based on its angles."
   ]
  },
  {
   "cell_type": "code",
   "execution_count": null,
   "metadata": {},
   "outputs": [],
   "source": [
    "def triangle_type(angle1, angle2, angle3):\n",
    "    # Check if the sum of angles is 180 degrees (valid triangle)\n",
    "    if angle1 + angle2 + angle3 != 180:\n",
    "        return \"Invalid Triangle\"\n",
    "\n",
    "    # Check for right triangle (one angle is 90 degrees)\n",
    "    elif angle1 == 90 | angle2 == 90 | angle3 == 90:\n",
    "        return \"Right Triangle\"\n",
    "\n",
    "    # Check for obtuse triangle (one angle is greater than 90 degrees)\n",
    "    elif angle1 > 90 | angle2 > 90 | angle3 > 90:\n",
    "        return \"Obtuse Triangle\"\n",
    "\n",
    "    # If none of the above conditions are met, it's an acute triangle\n",
    "    else:\n",
    "        return \"Acute Triangle\"\n",
    "\n",
    "# Input from the user\n",
    "angle1 = int(input(\"Enter the first angle: \"))\n",
    "angle2 = int(input(\"Enter the second angle: \"))\n",
    "angle3 = int(input(\"Enter the third angle: \"))\n",
    "\n",
    "# Determine and print the type of triangle\n",
    "result = triangle_type(angle1, angle2, angle3)\n",
    "print(\"The triangle is a\", result)\n"
   ]
  },
  {
   "cell_type": "markdown",
   "metadata": {},
   "source": [
    "-----------------------------------------------------------------------------\n",
    "23. Develop a program to categorize a given person's BMI into underweight, normal, overweight, or obese using\n",
    "elif statements."
   ]
  },
  {
   "cell_type": "code",
   "execution_count": 1,
   "metadata": {},
   "outputs": [
    {
     "name": "stdout",
     "output_type": "stream",
     "text": [
      "Given person's BMI is: Underweight\n"
     ]
    }
   ],
   "source": [
    "def bmi(weight, height):\n",
    "    bmi = weight / height ** 2\n",
    "    if bmi <= 18.5:\n",
    "        return \"Underweight\"\n",
    "    elif bmi <= 25:\n",
    "        return \"Normal\"\n",
    "    elif bmi <= 30:\n",
    "        return \"Overweight\"\n",
    "    else:\n",
    "        return \"Obese\"\n",
    "\n",
    "weight = int(input(\"Enter the weight of desired person: \"))\n",
    "height = int(input(\"Enter the height of desired person: \"))\n",
    "# Determine and print the BMI\n",
    "result = bmi(weight, height)\n",
    "\n",
    "print(\"Given person's BMI is:\", result)"
   ]
  },
  {
   "cell_type": "markdown",
   "metadata": {},
   "source": [
    "-----------------------------------------------------------------------------\n",
    "24. Create a program that determines whether a given number is positive, negative, or zero using elif\n",
    "statements."
   ]
  },
  {
   "cell_type": "code",
   "execution_count": 9,
   "metadata": {},
   "outputs": [
    {
     "name": "stdout",
     "output_type": "stream",
     "text": [
      "Given number number is positive.\n"
     ]
    }
   ],
   "source": [
    "def number(x):\n",
    "    if x == 0:\n",
    "        return \"number is zero.\"\n",
    "    elif x > 0:\n",
    "        return \"number is positive.\"\n",
    "    else:\n",
    "        return \"number is negative.\"\n",
    "\n",
    "n = int(input(\"Enter the number: \"))\n",
    "result = number(n)\n",
    "print(\"Given number\", result)"
   ]
  },
  {
   "cell_type": "markdown",
   "metadata": {},
   "source": [
    "-----------------------------------------------------------------------------\n",
    "25. Write a Python script to determine the type of a character (uppercase, lowercase, or special) using elif\n",
    "statements."
   ]
  },
  {
   "cell_type": "code",
   "execution_count": 12,
   "metadata": {},
   "outputs": [
    {
     "name": "stdout",
     "output_type": "stream",
     "text": [
      "rahil character is lower case\n"
     ]
    }
   ],
   "source": [
    "x = input(\"Enter a character: \")\n",
    "if x.lower():\n",
    "    print(x,\"character is lower case\")\n",
    "elif x.upper():\n",
    "    print(x,\"character is upper case\")\n",
    "else:\n",
    "    print(x,\"character is special case\")"
   ]
  },
  {
   "cell_type": "markdown",
   "metadata": {},
   "source": [
    "-----------------------------------------------------------------------------\n",
    "26. Implement a program to calculate the discounted price based on different purchase amounts using elif\n",
    "statements."
   ]
  },
  {
   "cell_type": "code",
   "execution_count": 1,
   "metadata": {},
   "outputs": [],
   "source": [
    "def discounted_price(original, discount):\n",
    "    # Calculate the discount amount by multiplying the original price and the discount rate\n",
    "    discounted_price = original - (original * discount)\n",
    "    # Return the discounted price\n",
    "    return discounted_price\n",
    "\n",
    "\n",
    "def discount_rate(purchase_amount):\n",
    "    # Use elif statements to check the purchase amount and return the corresponding discount rate\n",
    "    if purchase_amount < 100:\n",
    "        return 0 # No discount for purchases below 100\n",
    "    elif purchase_amount >= 100 and purchase_amount < 500:\n",
    "        return 0.1 # 10% discount for purchases between 100 and 500\n",
    "    elif purchase_amount >= 500 and purchase_amount < 1000:\n",
    "        return 0.2 # 20% discount for purchases between 500 and 1000\n",
    "    else:\n",
    "        return 0.3 # 30% discount for purchases above 1000\n",
    "    \n",
    "# Get user input for the original price\n",
    "original_price = float(input(\"Enter the original price: \"))\n",
    "\n",
    "# Get user input for the purchase amount\n",
    "purchase_amount = float(input(\"Enter the purchase amount: \"))\n",
    "\n",
    "# Calculate the discount rate based on the purchase amount\n",
    "discount = discount_rate(purchase_amount)\n",
    "\n",
    "# Calculate and display the discounted price\n",
    "discounted = discounted_price(original_price, discount)\n",
    "print(f\"Discounted Price: ${discounted:.2f}\")"
   ]
  },
  {
   "cell_type": "markdown",
   "metadata": {},
   "source": [
    "-----------------------------------------------------------------------------\n",
    "27. Develop a program to calculate the electricity bill based on different consumption slabs using elif\n",
    "statements."
   ]
  },
  {
   "cell_type": "code",
   "execution_count": null,
   "metadata": {},
   "outputs": [],
   "source": [
    "units = int(input(\"Please enter the number of units consumed: \"))\n",
    "\n",
    "if units < 50:\n",
    "    amount = units * 2.60\n",
    "    surcharge = 25\n",
    "elif units <= 100:\n",
    "    amount = 130 + ((units - 50) * 3.25)\n",
    "    surcharge = 35\n",
    "elif units <= 200:\n",
    "    amount = 130 + 162.50 + ((units - 100) * 5.26)\n",
    "    surcharge = 45\n",
    "else:\n",
    "    amount = 130 + 162.50 + 526 + ((units - 200) * 8.45)\n",
    "    surcharge = 75\n",
    "\n",
    "total = amount + surcharge\n",
    "\n",
    "print(f\"\\nElectricity Bill: {total:.2f}\")"
   ]
  },
  {
   "cell_type": "markdown",
   "metadata": {},
   "source": [
    "-----------------------------------------------------------------------------\n",
    "28. Create a program to determine the type of quadrilateral based on its angles and sides using elif\n",
    "statements."
   ]
  },
  {
   "cell_type": "code",
   "execution_count": null,
   "metadata": {},
   "outputs": [],
   "source": [
    "# Get the lengths of the four sides from the user\n",
    "side1 = float(input(\"Enter the length of side 1: \"))\n",
    "side2 = float(input(\"Enter the length of side 2: \"))\n",
    "side3 = float(input(\"Enter the length of side 3: \"))\n",
    "side4 = float(input(\"Enter the length of side 4: \"))\n",
    "\n",
    "# Get the measures of the four angles from the user\n",
    "angle1 = float(input(\"Enter the measure of angle 1 (in degrees): \"))\n",
    "angle2 = float(input(\"Enter the measure of angle 2 (in degrees): \"))\n",
    "angle3 = float(input(\"Enter the measure of angle 3 (in degrees): \"))\n",
    "angle4 = float(input(\"Enter the measure of angle 4 (in degrees): \"))\n",
    "\n",
    "# Check if the sum of angles is 360 degrees (a necessary condition for a quadrilateral)\n",
    "if angle1 + angle2 + angle3 + angle4 == 360:\n",
    "    # Check the type of quadrilateral based on angles and sides\n",
    "    if angle1 == angle2 == angle3 == angle4 == 90:\n",
    "        print(\"It's a square.\")\n",
    "    elif (angle1 == angle3 and angle2 == angle4) or (angle1 == angle2 and angle3 == angle4):\n",
    "        if side1 == side2 == side3 == side4:\n",
    "            print(\"It's a rectangle.\")\n",
    "        else:\n",
    "            print(\"It's a parallelogram.\")\n",
    "    else:\n",
    "        print(\"It's a general quadrilateral.\")\n",
    "else:\n",
    "    print(\"Invalid input: The sum of angles is not 360 degrees.\")"
   ]
  },
  {
   "cell_type": "markdown",
   "metadata": {},
   "source": [
    "-----------------------------------------------------------------------------\n",
    "29. Write a Python script to determine the season based on a user-provided month using elif statements."
   ]
  },
  {
   "cell_type": "code",
   "execution_count": null,
   "metadata": {},
   "outputs": [],
   "source": [
    "# Get the month from the user\n",
    "month = input(\"Enter a month (e.g., January, February, etc.): \").capitalize()\n",
    "\n",
    "# Check the season based on the month\n",
    "if month in (\"December\", \"January\", \"February\"):\n",
    "    season = \"Winter\"\n",
    "elif month in (\"March\", \"April\", \"May\"):\n",
    "    season = \"Summer\"\n",
    "elif month in (\"June\", \"July\", \"August\", \"September\"):\n",
    "    season = \"Monsoon\"\n",
    "elif month in (\"October\", \"November\"):\n",
    "    season = \"Post Monsoon\"\n",
    "else:\n",
    "    season = \"Invalid month\"\n",
    "\n",
    "# Print the result\n",
    "if season != \"Invalid month\":\n",
    "    print(f\"{month} is in the {season} season.\")\n",
    "else:\n",
    "    print(\"Invalid input: Please enter a valid month.\")"
   ]
  },
  {
   "cell_type": "markdown",
   "metadata": {},
   "source": [
    "-----------------------------------------------------------------------------\n",
    "30. Implement a program to determine the type of a year (leap or common) and month (30 or 31 days) using\n",
    "elif statements."
   ]
  },
  {
   "cell_type": "code",
   "execution_count": null,
   "metadata": {},
   "outputs": [],
   "source": [
    "# Get the year from the user\n",
    "year = int(input(\"Enter a year: \"))\n",
    "\n",
    "# Check if it's a leap year or a common year\n",
    "if (year % 4 == 0 and year % 100 != 0) or (year % 400 == 0):\n",
    "    year_type = \"Leap Year\"\n",
    "else:\n",
    "    year_type = \"Common Year\"\n",
    "\n",
    "# Get the month from the user\n",
    "month = int(input(\"Enter a month (1-12): \"))\n",
    "\n",
    "# Check the number of days in the month\n",
    "if month == 2:\n",
    "    if year_type == \"Leap Year\":\n",
    "        days_in_month = 29\n",
    "    else:\n",
    "        days_in_month = 28\n",
    "elif month in (4, 6, 9, 11):\n",
    "    days_in_month = 30\n",
    "else:\n",
    "    days_in_month = 31\n",
    "\n",
    "# Print the results\n",
    "print(f\"{year} is a {year_type}.\")\n",
    "print(f\"Month {month} has {days_in_month} days.\")"
   ]
  },
  {
   "cell_type": "markdown",
   "metadata": {},
   "source": [
    "### Basic Level"
   ]
  },
  {
   "cell_type": "markdown",
   "metadata": {},
   "source": [
    "-----------------------------------------------------------------------------\n",
    "1. Write a Python program that checks if a given number is positive, negative, or zero."
   ]
  },
  {
   "cell_type": "code",
   "execution_count": 3,
   "metadata": {},
   "outputs": [
    {
     "name": "stdout",
     "output_type": "stream",
     "text": [
      "22 is positive number.\n"
     ]
    }
   ],
   "source": [
    "x = int(input(\"Enter the number: \"))\n",
    "\n",
    "if x > 0:\n",
    "    print(f\"{x} is positive number.\")\n",
    "elif x == 0:\n",
    "    print(f\"{x} is zero.\")\n",
    "else:\n",
    "    print(f\"{x} is negative number.\")\n"
   ]
  },
  {
   "cell_type": "markdown",
   "metadata": {},
   "source": [
    "-----------------------------------------------------------------------------\n",
    "2. Create a program to determine if a person is eligible to vote based on their age."
   ]
  },
  {
   "cell_type": "code",
   "execution_count": null,
   "metadata": {},
   "outputs": [],
   "source": [
    "def vote_age(n):\n",
    "    return [\"Eligible for vote!\" if n > 18 else \"Not Eligible for vote!\" ]\n",
    "n = int(input(\"Checking voter is eligible: \"))\n",
    "print(vote_age(n))"
   ]
  },
  {
   "cell_type": "markdown",
   "metadata": {},
   "source": [
    "-----------------------------------------------------------------------------\n",
    "3. Write a program to find the maximum of two given numbers using conditional statements."
   ]
  },
  {
   "cell_type": "code",
   "execution_count": 8,
   "metadata": {},
   "outputs": [
    {
     "name": "stdout",
     "output_type": "stream",
     "text": [
      "1 is greater\n"
     ]
    }
   ],
   "source": [
    "x = int(input(\"Enter number x: \"))\n",
    "y = int(input(\"Enter number y: \"))\n",
    "def num(x, y):\n",
    "    return x if x > y else y\n",
    "print(num(x, y), \"is greater\")"
   ]
  },
  {
   "cell_type": "markdown",
   "metadata": {},
   "source": [
    "-----------------------------------------------------------------------------\n",
    "4. Develop a program that calculates the grade of a student based on their exam score."
   ]
  },
  {
   "cell_type": "code",
   "execution_count": null,
   "metadata": {},
   "outputs": [],
   "source": [
    "def average(score):\n",
    "    if 90 <= score <= 100:\n",
    "        return \"A\"\n",
    "    elif 80 <= score < 90:\n",
    "        return \"B\"\n",
    "    elif 70 <= score < 80:\n",
    "        return \"C\"\n",
    "    elif 60 <= score < 70:\n",
    "        return \"D\"\n",
    "    else:\n",
    "        return \"F\"\n",
    "print(average(sum), \"is the grade of the student.\")"
   ]
  },
  {
   "cell_type": "markdown",
   "metadata": {},
   "source": [
    "-----------------------------------------------------------------------------\n",
    "5. Create a program that checks if a year is a leap year or not."
   ]
  },
  {
   "cell_type": "code",
   "execution_count": 27,
   "metadata": {},
   "outputs": [
    {
     "name": "stdout",
     "output_type": "stream",
     "text": [
      "2024 is a leap year.\n"
     ]
    }
   ],
   "source": [
    "x = int(input(\"Enter a year: \"))\n",
    "def is_leap_year(x):\n",
    "    return f\"{x} is a leap year.\" if (x % 4 == 0 and x % 100 != 0) or (x % 400 == 0) else f\"{x} is not a leap year.\"\n",
    "print(is_leap_year(x))"
   ]
  },
  {
   "cell_type": "markdown",
   "metadata": {},
   "source": [
    "-----------------------------------------------------------------------------\n",
    "6. Write a program to classify a triangle based on its sides' lengths."
   ]
  },
  {
   "cell_type": "code",
   "execution_count": null,
   "metadata": {},
   "outputs": [],
   "source": [
    "side1 = int(input(\"Enter side1's value of the triangle\"))\n",
    "side2 = int(input(\"Enter side2's value of the triangle\"))\n",
    "side3 = int(input(\"Enter side3's value of the triangle\"))\n",
    "\n",
    "def triangle():\n",
    "    if side1 + side2 > side3 and side1 + side3 > side2 and side2 + side3 > side1:\n",
    "        # Check for equilateral triangle\n",
    "        if side1 == side2 == side3:\n",
    "            print(\"It is an equilateral triangle.\")\n",
    "        # Check for isosceles triangle\n",
    "        elif side1 == side2 or side1 == side3 or side2 == side3:\n",
    "            print(\"It is an isosceles triangle.\")\n",
    "        # It's neither equilateral nor isosceles, so it must be scalene\n",
    "        else:\n",
    "            print(\"It is a scalene triangle.\")\n",
    "    else:\n",
    "        print(\"It is not a valid triangle.\")\n",
    "\n",
    "# Call the function to classify the triangle\n",
    "triangle()"
   ]
  },
  {
   "cell_type": "markdown",
   "metadata": {},
   "source": [
    "-----------------------------------------------------------------------------\n",
    "7. Build a program that determines the largest of three given numbers."
   ]
  },
  {
   "cell_type": "code",
   "execution_count": null,
   "metadata": {},
   "outputs": [],
   "source": [
    "x = int(input(\"Enter number x: \"))\n",
    "y = int(input(\"Enter number y: \"))\n",
    "z = int(input(\"Enter number z: \"))\n",
    "def num(x, y, z):\n",
    "    if x > y and x > z:\n",
    "        return x\n",
    "    elif y > z:\n",
    "        return y\n",
    "    else:\n",
    "        return z\n",
    "\n",
    "print(num(x, y, z), \"is greater\")"
   ]
  },
  {
   "cell_type": "markdown",
   "metadata": {},
   "source": [
    "-----------------------------------------------------------------------------\n",
    "8. Develop a program that checks whether a character is a vowel or a consonant."
   ]
  },
  {
   "cell_type": "code",
   "execution_count": 11,
   "metadata": {},
   "outputs": [
    {
     "name": "stdout",
     "output_type": "stream",
     "text": [
      "cat is a consonant.\n"
     ]
    }
   ],
   "source": [
    "# Define a string of vowels\n",
    "vowels = \"aeiouAEIOU\"\n",
    "\n",
    "# Ask the user to enter a character\n",
    "character = input(\"Enter a character: \")\n",
    "\n",
    "# Check if the character is a vowel or a consonant\n",
    "if character in vowels:\n",
    "    print(character, \"is a vowel.\")\n",
    "else:\n",
    "    print(character, \"is a consonant.\")"
   ]
  },
  {
   "cell_type": "markdown",
   "metadata": {},
   "source": [
    "-----------------------------------------------------------------------------\n",
    "9. Create a program to calculate the total cost of a shopping cart based on discounts.\n"
   ]
  },
  {
   "cell_type": "code",
   "execution_count": 4,
   "metadata": {},
   "outputs": [
    {
     "name": "stdout",
     "output_type": "stream",
     "text": [
      "Total Cost: 1600.00\n"
     ]
    }
   ],
   "source": [
    "def discounted_price(original, discount):\n",
    "    # Calculate the discount amount by multiplying the original price and the discount rate\n",
    "    discounted_price = original - (original * discount)\n",
    "    # Return the discounted price\n",
    "    return discounted_price\n",
    "\n",
    "# Get the original price and discount rate from the user\n",
    "original = float(input(\"Enter original price: \"))\n",
    "discount = float(input(\"Enter discount rate (as a decimal e.g = 0.2) : \"))\n",
    "\n",
    "# Initialize an empty list to store items\n",
    "items = []\n",
    "\n",
    "# Set the maximum number of items allowed in the list\n",
    "MAX_ITEMS = int(input(\"Enter the maximum number of items: \"))\n",
    "\n",
    "# Add items to the list until the list is full\n",
    "for i in range(MAX_ITEMS):\n",
    "    key = input(\"Enter an item name: \")\n",
    "    value = float(input(f\"Enter the quantity of {key}: \"))\n",
    "    items.append((key, value))\n",
    "\n",
    "# Calculate the total cost with discounts\n",
    "total_cost = 0\n",
    "for item, quantity in items:\n",
    "    total_cost += discounted_price(original * quantity, discount)\n",
    "\n",
    "print(f\"Total Cost: {total_cost:.2f}\")\n"
   ]
  },
  {
   "cell_type": "markdown",
   "metadata": {},
   "source": [
    "-----------------------------------------------------------------------------\n",
    "10. Write a program that checks if a given number is even or odd."
   ]
  },
  {
   "cell_type": "code",
   "execution_count": 6,
   "metadata": {},
   "outputs": [
    {
     "name": "stdout",
     "output_type": "stream",
     "text": [
      "22 number is even.\n"
     ]
    }
   ],
   "source": [
    "def given_number(x):\n",
    "    return f\"{x} number is even.\" if x % 2 == 0 else f\"{x} number is odd.\"\n",
    "x = int(input(\"Enter the number: \"))\n",
    "print(given_number(x))"
   ]
  },
  {
   "cell_type": "markdown",
   "metadata": {},
   "source": [
    "### Intermediate Level"
   ]
  },
  {
   "cell_type": "markdown",
   "metadata": {},
   "source": [
    "-----------------------------------------------------------------------------\n",
    "11. Write a program that calculates the roots of a quadratic equation ."
   ]
  },
  {
   "cell_type": "code",
   "execution_count": null,
   "metadata": {},
   "outputs": [],
   "source": [
    "import math\n",
    "\n",
    "# Input coefficients a, b, and c from the user\n",
    "a = float(input(\"Enter coefficient a: \"))\n",
    "b = float(input(\"Enter coefficient b: \"))\n",
    "c = float(input(\"Enter coefficient c: \"))\n",
    "\n",
    "def quadratic(a, b, c):\n",
    "    d = b**2 - 4*a*c\n",
    "    if d > 0:  \n",
    "        x1 = (-b + math.sqrt(d)) / (2*a)\n",
    "        x2 = (-b - math.sqrt(d)) / (2*a)\n",
    "        return (x1, x2)\n",
    "\n",
    "  # If d is zero, return one real root\n",
    "    elif d == 0:\n",
    "        x = -b / (2*a)\n",
    "        return x\n",
    "\n",
    "  # If d is negative, return two complex roots\n",
    "    else:\n",
    "        x1 = complex(-b / (2*a), math.sqrt(-d) / (2*a))\n",
    "        x2 = complex(-b / (2*a), -math.sqrt(-d) / (2*a))\n",
    "        return (x1, x2)\n",
    "\n",
    "roots = quadratic(a, b, c)\n",
    "\n",
    "# Print result\n",
    "print(f\"The roots of {a}x^2 + {b}x + {c} are {roots}\")"
   ]
  },
  {
   "cell_type": "markdown",
   "metadata": {},
   "source": [
    "-----------------------------------------------------------------------------\n",
    "12. Create a program that determines the day of the week based on the day number (1-7)."
   ]
  },
  {
   "cell_type": "code",
   "execution_count": null,
   "metadata": {},
   "outputs": [],
   "source": [
    "days = {1: \"Monday\", 2: \"Tuesday\", 3: \"Wednesday\", 4: \"Thursday\", 5: \"Friday\", 6: \"Saturday\", 7: \"Sunday\"}\n",
    "\n",
    "# Ask the user to enter a number\n",
    "number = int(input(\"Enter a number from 1 to 7: \"))\n",
    "\n",
    "# Check if the number is valid\n",
    "if (1 > number) | (number > 7):\n",
    "    print(\"Invalid number. Please try again.\")\n",
    "else:\n",
    "    # Get day from the dictionary\n",
    "    day = days[number]\n",
    "    # Print the result\n",
    "    print(f\"The day of the week is {day}.\")"
   ]
  },
  {
   "cell_type": "markdown",
   "metadata": {},
   "source": [
    "-----------------------------------------------------------------------------\n",
    "13. Develop a program that calculates the factorial of a given number using recursion.\n"
   ]
  },
  {
   "cell_type": "code",
   "execution_count": null,
   "metadata": {},
   "outputs": [],
   "source": [
    "def factorial(n):\n",
    "    if n == 0:\n",
    "        return 1\n",
    "    else:\n",
    "        return n * factorial(n - 1)\n",
    "\n",
    "# Get the number from the user\n",
    "num = int(input(\"Enter a non-negative integer: \"))\n",
    "\n",
    "# Check if the input is non-negative\n",
    "if num < 0:\n",
    "    print(\"Factorial is not defined for negative numbers.\")\n",
    "else:\n",
    "    result = factorial(num)\n",
    "    print(f\"The factorial of {num} is {result}\")"
   ]
  },
  {
   "cell_type": "markdown",
   "metadata": {},
   "source": [
    "-----------------------------------------------------------------------------\n",
    "14. Write a program to find the largest among three numbers without using the `max()` function.\n"
   ]
  },
  {
   "cell_type": "code",
   "execution_count": null,
   "metadata": {},
   "outputs": [],
   "source": [
    "num1 = int(input(\"Enter num1's value\"))\n",
    "num2 = int(input(\"Enter num2's value\"))\n",
    "num3 = int(input(\"Enter num3's value\"))\n",
    "\n",
    "if num1 >= num2:\n",
    "    if num1 >= num3:\n",
    "        largest = num1\n",
    "    else:\n",
    "        largest = num3\n",
    "else:\n",
    "    if num2 >= num3:\n",
    "        largest = num2\n",
    "    else:\n",
    "        largest = num3\n",
    "\n",
    "# Display the largest number\n",
    "print(\"The largest number among\", num1, \",\", num2, \"and\", num3, \"is\", largest)"
   ]
  },
  {
   "cell_type": "markdown",
   "metadata": {},
   "source": [
    "-----------------------------------------------------------------------------\n",
    "15. Create a program that simulates a basic ATM transaction menu.\n"
   ]
  },
  {
   "cell_type": "code",
   "execution_count": 5,
   "metadata": {},
   "outputs": [
    {
     "name": "stdout",
     "output_type": "stream",
     "text": [
      "Welcome to the ATM!\n",
      "Please choose an option:\n",
      "1. Check balance\n",
      "2. Withdraw cash\n",
      "3. Deposit cash\n",
      "4. Exit\n",
      "Invalid choice\n",
      "Welcome to the ATM!\n",
      "Please choose an option:\n",
      "1. Check balance\n",
      "2. Withdraw cash\n",
      "3. Deposit cash\n",
      "4. Exit\n",
      "Invalid choice\n",
      "Welcome to the ATM!\n",
      "Please choose an option:\n",
      "1. Check balance\n",
      "2. Withdraw cash\n",
      "3. Deposit cash\n",
      "4. Exit\n",
      "Invalid choice\n",
      "Welcome to the ATM!\n",
      "Please choose an option:\n",
      "1. Check balance\n",
      "2. Withdraw cash\n",
      "3. Deposit cash\n",
      "4. Exit\n",
      "Invalid choice\n",
      "Welcome to the ATM!\n",
      "Please choose an option:\n",
      "1. Check balance\n",
      "2. Withdraw cash\n",
      "3. Deposit cash\n",
      "4. Exit\n",
      "Invalid choice\n",
      "Welcome to the ATM!\n",
      "Please choose an option:\n",
      "1. Check balance\n",
      "2. Withdraw cash\n",
      "3. Deposit cash\n",
      "4. Exit\n",
      "Invalid choice\n",
      "Welcome to the ATM!\n",
      "Please choose an option:\n",
      "1. Check balance\n",
      "2. Withdraw cash\n",
      "3. Deposit cash\n",
      "4. Exit\n",
      "Invalid choice\n",
      "Welcome to the ATM!\n",
      "Please choose an option:\n",
      "1. Check balance\n",
      "2. Withdraw cash\n",
      "3. Deposit cash\n",
      "4. Exit\n",
      "Invalid choice\n",
      "Welcome to the ATM!\n",
      "Please choose an option:\n",
      "1. Check balance\n",
      "2. Withdraw cash\n",
      "3. Deposit cash\n",
      "4. Exit\n",
      "Invalid choice\n",
      "Welcome to the ATM!\n",
      "Please choose an option:\n",
      "1. Check balance\n",
      "2. Withdraw cash\n",
      "3. Deposit cash\n",
      "4. Exit\n",
      "Invalid choice\n",
      "Welcome to the ATM!\n",
      "Please choose an option:\n",
      "1. Check balance\n",
      "2. Withdraw cash\n",
      "3. Deposit cash\n",
      "4. Exit\n",
      "Invalid choice\n",
      "Welcome to the ATM!\n",
      "Please choose an option:\n",
      "1. Check balance\n",
      "2. Withdraw cash\n",
      "3. Deposit cash\n",
      "4. Exit\n",
      "Invalid choice\n",
      "Welcome to the ATM!\n",
      "Please choose an option:\n",
      "1. Check balance\n",
      "2. Withdraw cash\n",
      "3. Deposit cash\n",
      "4. Exit\n",
      "Invalid choice\n",
      "Welcome to the ATM!\n",
      "Please choose an option:\n",
      "1. Check balance\n",
      "2. Withdraw cash\n",
      "3. Deposit cash\n",
      "4. Exit\n",
      "Invalid choice\n",
      "Welcome to the ATM!\n",
      "Please choose an option:\n",
      "1. Check balance\n",
      "2. Withdraw cash\n",
      "3. Deposit cash\n",
      "4. Exit\n",
      "Invalid choice\n",
      "Welcome to the ATM!\n",
      "Please choose an option:\n",
      "1. Check balance\n",
      "2. Withdraw cash\n",
      "3. Deposit cash\n",
      "4. Exit\n",
      "Invalid choice\n",
      "Welcome to the ATM!\n",
      "Please choose an option:\n",
      "1. Check balance\n",
      "2. Withdraw cash\n",
      "3. Deposit cash\n",
      "4. Exit\n",
      "Invalid choice\n",
      "Welcome to the ATM!\n",
      "Please choose an option:\n",
      "1. Check balance\n",
      "2. Withdraw cash\n",
      "3. Deposit cash\n",
      "4. Exit\n",
      "Invalid choice\n",
      "Welcome to the ATM!\n",
      "Please choose an option:\n",
      "1. Check balance\n",
      "2. Withdraw cash\n",
      "3. Deposit cash\n",
      "4. Exit\n"
     ]
    }
   ],
   "source": [
    "# Define a function to display the menu and get the user's choice\n",
    "def display_menu():\n",
    "  # Print the menu options\n",
    "  print(\"Welcome to the ATM!\")\n",
    "  print(\"Please choose an option:\")\n",
    "  print(\"1. Check balance\")\n",
    "  print(\"2. Withdraw cash\")\n",
    "  print(\"3. Deposit cash\")\n",
    "  print(\"4. Exit\")\n",
    "  # Get the user's input as an integer\n",
    "  choice = str(input(\"Enter your choice: \"))\n",
    "  # Return the user's choice\n",
    "  return choice\n",
    "\n",
    "# Define a function to check the balance\n",
    "def check_balance(balance):\n",
    "  # Print the current balance\n",
    "  print(f\"Your current balance is {balance:.2f}\")\n",
    "\n",
    "# Define a function to withdraw cash\n",
    "def withdraw_cash(balance):\n",
    "  # Get the amount to withdraw from the user\n",
    "  amount = float(input(\"Enter the amount to withdraw: \"))\n",
    "  # Check if the amount is valid and less than or equal to the balance\n",
    "  if amount > 0 and amount <= balance:\n",
    "    # Deduct the amount from the balance\n",
    "    balance -= amount\n",
    "    # Print a success message and the new balance\n",
    "    print(f\"Successfully withdrew {amount:.2f}\")\n",
    "    print(f\"Your new balance is {balance:.2f}\")\n",
    "  else:\n",
    "    # Print an error message\n",
    "    print(\"Invalid amount\")\n",
    "  # Pass to prevent the program from crashing\n",
    "  pass\n",
    "\n",
    "# Define a function to deposit cash\n",
    "def deposit_cash(balance):\n",
    "  # Get the amount to deposit from the user\n",
    "  amount = float(input(\"Enter the amount to deposit: \"))\n",
    "  # Check if the amount is valid and positive\n",
    "  if amount > 0:\n",
    "    # Add the amount to the balance\n",
    "    balance += amount\n",
    "    # Print a success message and the new balance\n",
    "    print(f\"Successfully deposited {amount:.2f}\")\n",
    "    print(f\"Your new balance is {balance:.2f}\")\n",
    "  else:\n",
    "    # Print an error message\n",
    "    print(\"Invalid amount\")\n",
    "  # Pass to prevent the program from crashing\n",
    "  pass\n",
    "\n",
    "# Define a variable to store the initial balance\n",
    "balance = 1000\n",
    "\n",
    "# Define a variable to store the user's choice\n",
    "choice = display_menu()\n",
    "\n",
    "# Use a while loop to repeat until the user chooses to exit\n",
    "while choice != 4:\n",
    "  # Use if-elif-else statements to perform different actions based on the user's choice\n",
    "  if choice == 1:\n",
    "    # Call the check_balance function\n",
    "    check_balance(balance)\n",
    "  elif choice == 2:\n",
    "    # Call the withdraw_cash function and update the balance\n",
    "    withdraw_cash(balance)\n",
    "  elif choice == 3:\n",
    "    # Call the deposit_cash function and update the balance\n",
    "    deposit_cash(balance)\n",
    "  else:\n",
    "    # Print an invalid choice message\n",
    "    print(\"Invalid choice\")\n",
    "\n",
    "  # Display the menu again and get the user's choice again\n",
    "  choice = display_menu()\n",
    "\n",
    "# Print a goodbye message when the user chooses to exit\n",
    "print(\"Thank you for using the ATM. Goodbye!\")"
   ]
  },
  {
   "cell_type": "markdown",
   "metadata": {},
   "source": [
    "-----------------------------------------------------------------------------\n",
    "16. Build a program that checks if a given string is a palindrome or not.\n"
   ]
  },
  {
   "cell_type": "code",
   "execution_count": null,
   "metadata": {},
   "outputs": [],
   "source": [
    "x = str(input())\n",
    "def given_string(x):\n",
    "    return f\"{x} is palindrome\" if x == x[::-1] else f\"{x} is not a palindrome\"\n",
    "print(given_string(x))"
   ]
  },
  {
   "cell_type": "markdown",
   "metadata": {},
   "source": [
    "-----------------------------------------------------------------------------\n",
    "17. Write a program that calculates the average of a list of numbers, excluding the smallest and largest values.\n"
   ]
  },
  {
   "cell_type": "code",
   "execution_count": 16,
   "metadata": {},
   "outputs": [
    {
     "name": "stdout",
     "output_type": "stream",
     "text": [
      "5.0\n"
     ]
    }
   ],
   "source": [
    "def average_num(x):\n",
    "    sorted_x = sorted(x)\n",
    "    middle_values = sorted_x[1:-1]\n",
    "    return sum(middle_values) / len(middle_values)\n",
    "\n",
    "numbers = [1, 5, 3, 7, 2, 9, 4, 6, 8]\n",
    "\n",
    "average = average_num(numbers)\n",
    "\n",
    "print(average)"
   ]
  },
  {
   "cell_type": "markdown",
   "metadata": {},
   "source": [
    "-----------------------------------------------------------------------------\n",
    "18. Develop a program that converts a given temperature from Celsius to Fahrenheit.\n"
   ]
  },
  {
   "cell_type": "code",
   "execution_count": 19,
   "metadata": {},
   "outputs": [
    {
     "name": "stdout",
     "output_type": "stream",
     "text": [
      "22 degrees Celsius is equal to 71.6 degrees Fahrenheit.\n"
     ]
    }
   ],
   "source": [
    "n = int(input(\"Enter the temperature in Celsius\"))\n",
    "def given_temperature(n):\n",
    "    return (n * 9/5) + 32\n",
    "print(f\"{n} degrees Celsius is equal to\", given_temperature(n) ,\"degrees Fahrenheit.\")"
   ]
  },
  {
   "cell_type": "markdown",
   "metadata": {},
   "source": [
    "-----------------------------------------------------------------------------\n",
    "19. Create a program that simulates a basic calculator for addition, subtraction, multiplication, and division.\n"
   ]
  },
  {
   "cell_type": "code",
   "execution_count": 21,
   "metadata": {},
   "outputs": [
    {
     "name": "stdout",
     "output_type": "stream",
     "text": [
      "Calculator Menu:\n",
      "1. Addition\n",
      "2. Subtraction\n",
      "3. Multiplication\n",
      "4. Division\n",
      "Addition of x and y:  4\n",
      "The result of addition is: None\n"
     ]
    }
   ],
   "source": [
    "x = int(input(\"Enter Number 1: \"))\n",
    "y = int(input(\"Enter number 2: \"))\n",
    "\n",
    "# Function to add two numbers\n",
    "def add(x, y):\n",
    "    print(\"Addition of x and y: \",x+y)\n",
    "\n",
    "# Function to subtract two numbers\n",
    "def subtract(x, y):\n",
    "    print(\"Subtraction of x and y: \",x-y)\n",
    "\n",
    "# Function to multiply two numbers\n",
    "def multiply(x, y):\n",
    "    print(\"Multiplication of x and y: \",x*y)\n",
    "\n",
    "# Function to divide two numbers\n",
    "def divide(x, y):\n",
    "    if y == 0:\n",
    "       print(\"Cannot divide by zero\")\n",
    "    else:\n",
    "        print(\"Multiplication of x and y: \",x*y)\n",
    "\n",
    "# Display the calculator menu\n",
    "print(\"Calculator Menu:\")\n",
    "print(\"1. Addition\")\n",
    "print(\"2. Subtraction\")\n",
    "print(\"3. Multiplication\")\n",
    "print(\"4. Division\")\n",
    "\n",
    "# Get the user's choice\n",
    "choice = input(\"Enter choice (1/2/3/4): \")\n",
    "\n",
    "\n",
    "# Perform the selected operation based on the user's choice\n",
    "if choice == '1':\n",
    "    result = add(x, y)\n",
    "    operation = \"addition\"\n",
    "elif choice == '2':\n",
    "    result = subtract(x, y)\n",
    "    operation = \"subtraction\"\n",
    "elif choice == '3':\n",
    "    result = multiply(x, y)\n",
    "    operation = \"multiplication\"\n",
    "elif choice == '4':\n",
    "    result = divide(x, y)\n",
    "    operation = \"division\"\n",
    "else:\n",
    "    result = \"Invalid choice\"\n",
    "    operation = \"N/A\"\n"
   ]
  },
  {
   "cell_type": "markdown",
   "metadata": {},
   "source": [
    "-----------------------------------------------------------------------------\n",
    "20. Write a program that determines the roots of a cubic equation using the Cardano formula."
   ]
  },
  {
   "cell_type": "code",
   "execution_count": null,
   "metadata": {},
   "outputs": [],
   "source": [
    "import cmath\n",
    "\n",
    "def solve_cubic(a, b, c, d):\n",
    "  \"\"\"Solve a cubic equation using the Cardano formula.\n",
    "\n",
    "  Args:\n",
    "    a: The coefficient of the $x^3$ term.\n",
    "    b: The coefficient of the $x^2$ term.\n",
    "    c: The coefficient of the $x$ term.\n",
    "    d: The constant term.\n",
    "\n",
    "  Returns:\n",
    "    A list of three complex numbers, the roots of the cubic equation.\n",
    "  \"\"\"\n",
    "\n",
    "  # Calculate the discriminant.\n",
    "  discriminant = b**2 - 4 * a * c\n",
    "\n",
    "  # If the discriminant is negative, there are no real roots.\n",
    "  if discriminant < 0:\n",
    "    return []\n",
    "\n",
    "  # Calculate the cubic term coefficient.\n",
    "  q = (b**2 - 4 * a * c) / 12\n",
    "\n",
    "  # Calculate the radical.\n",
    "  radical = cmath.sqrt(q**2 - discriminant / 4)\n",
    "\n",
    "  # Calculate the three roots.\n",
    "  roots = [\n",
    "      -b / 6 + radical / 2 + cmath.sqrt(3) * q / 2,\n",
    "      -b / 6 + radical / 2 - cmath.sqrt(3) * q / 2,\n",
    "      -b / 6 - radical / 2\n",
    "  ]\n",
    "\n",
    "  return roots\n",
    "\n",
    "\n",
    "a = 1\n",
    "b = -2\n",
    "c = -3\n",
    "d = 1\n",
    "\n",
    "roots = solve_cubic(a, b, c, d)\n",
    "\n",
    "print(roots)"
   ]
  },
  {
   "cell_type": "markdown",
   "metadata": {},
   "source": [
    "### Advanced Level"
   ]
  },
  {
   "cell_type": "markdown",
   "metadata": {},
   "source": [
    "-----------------------------------------------------------------------------\n",
    "21. Create a program that calculates the income tax based on the user's income and tax brackets.\n"
   ]
  },
  {
   "cell_type": "code",
   "execution_count": 1,
   "metadata": {},
   "outputs": [
    {
     "name": "stdout",
     "output_type": "stream",
     "text": [
      "0 is the tax user needs to pay\n"
     ]
    }
   ],
   "source": [
    "\n",
    "def calculate(amount, percent):\n",
    "    return (amount * percent) / 100\n",
    "\n",
    "def income_tax(total_income):  \n",
    "    if total_income <= 250000:\n",
    "        return 0\n",
    "    elif total_income <= 500000:\n",
    "        return calculate(total_income - 250000, 5)\n",
    "    elif total_income <= 750000:\n",
    "        return calculate(total_income - 500000, 10) + 12500\n",
    "    elif total_income <= 1000000:\n",
    "        return calculate(total_income - 750000, 15) + 37500\n",
    "    elif total_income <= 1250000:\n",
    "        return calculate(total_income - 1000000, 20) + 75000\n",
    "    elif total_income <= 1500000:\n",
    "        return calculate(total_income - 1250000, 25) + 125000\n",
    "    else:\n",
    "        return calculate(total_income - 1500000, 30) + 187500\n",
    "\n",
    "total_income = int(input(\"Enter the income of the person: \"))\n",
    "print(income_tax(total_income), \"is the tax user needs to pay\")"
   ]
  },
  {
   "cell_type": "markdown",
   "metadata": {},
   "source": [
    "-----------------------------------------------------------------------------\n",
    "22. Write a program that simulates a rock-paper-scissors game against the computer.\n"
   ]
  },
  {
   "cell_type": "code",
   "execution_count": null,
   "metadata": {},
   "outputs": [],
   "source": [
    "import random\n",
    "\n",
    "user_action = input(\"Enter a choice (rock, paper, scissors): \")\n",
    "possible_actions = [\"rock\", \"paper\", \"scissors\"]\n",
    "computer_action = random.choice(possible_actions)\n",
    "print(f\"\\nYou chose {user_action}, computer chose {computer_action}.\\n\")\n",
    "\n",
    "if user_action == computer_action:\n",
    "    print(f\"Both players selected {user_action}. It's a tie!\")\n",
    "elif user_action == \"rock\":\n",
    "    if computer_action == \"scissors\":\n",
    "        print(\"Rock smashes scissors! You win!\")\n",
    "    else:\n",
    "        print(\"Paper covers rock! You lose.\")\n",
    "elif user_action == \"paper\":\n",
    "    if computer_action == \"rock\":\n",
    "        print(\"Paper covers rock! You win!\")\n",
    "    else:\n",
    "        print(\"Scissors cuts paper! You lose.\")\n",
    "elif user_action == \"scissors\":\n",
    "    if computer_action == \"paper\":\n",
    "        print(\"Scissors cuts paper! You win!\")\n",
    "    else:\n",
    "        print(\"Rock smashes scissors! You lose.\")"
   ]
  },
  {
   "cell_type": "markdown",
   "metadata": {},
   "source": [
    "-----------------------------------------------------------------------------\n",
    "23. Develop a program that generates a random password based on user preferences (length, complexity).\n"
   ]
  },
  {
   "cell_type": "code",
   "execution_count": 3,
   "metadata": {},
   "outputs": [
    {
     "name": "stdout",
     "output_type": "stream",
     "text": [
      "Your number should be at least 8.\n",
      "Your number should be at least 8.\n",
      "Strong Password:  pe@/1AW3\n"
     ]
    }
   ],
   "source": [
    "import string\n",
    "import random\n",
    "# store all characters in lists\n",
    "s1 = list(string.ascii_lowercase)\n",
    "s2 = list(string.ascii_uppercase)\n",
    "s3 = list(string.digits)\n",
    "s4 = list(string.punctuation)\n",
    "# Ask user about the number of characters\n",
    "user_input = input(\"How many characters do you want in your password? \")\n",
    "# check this input is it number? is it more than 8?\n",
    "while True: \n",
    "    try: \n",
    "        characters_number = int(user_input) \n",
    "        if characters_number < 8: \n",
    "            print(\"Your number should be at least 8.\") \n",
    "            user_input = input(\"Please, Enter your number again: \") \n",
    "        else: \n",
    "            break\n",
    "    except:\n",
    "        print(\"Please, Enter numbers only.\") \n",
    "        user_input = input(\"How many characters do you want in your password? \")\n",
    "# shuffle all lists\n",
    "random.shuffle(s1)\n",
    "random.shuffle(s2)\n",
    "random.shuffle(s3)\n",
    "random.shuffle(s4)\n",
    "# calculate 30% & 20% of number of characters\n",
    "part1 = round(characters_number * (30/100))\n",
    "part2 = round(characters_number * (20/100))\n",
    "# generation of the password (60% letters and 40% digits & punctuations)\n",
    "result = [] \n",
    "for x in range(part1): \n",
    "    result.append(s1[x])\n",
    "    result.append(s2[x]) \n",
    "for x in range(part2): \n",
    "    result.append(s3[x])\n",
    "    result.append(s4[x]) \n",
    "# shuffle result\n",
    "random.shuffle(result)\n",
    "# join result\n",
    "password = \"\".join(result)\n",
    "print(\"Strong Password: \", password)"
   ]
  },
  {
   "cell_type": "markdown",
   "metadata": {},
   "source": [
    "-----------------------------------------------------------------------------\n",
    "24. Create a program that implements a simple text-based adventure game with branching scenarios.\n"
   ]
  },
  {
   "cell_type": "code",
   "execution_count": null,
   "metadata": {},
   "outputs": [],
   "source": []
  },
  {
   "cell_type": "markdown",
   "metadata": {},
   "source": [
    "-----------------------------------------------------------------------------\n",
    "25. Build a program that solves a linear equation for x, considering different cases.\n"
   ]
  },
  {
   "cell_type": "code",
   "execution_count": 1,
   "metadata": {},
   "outputs": [
    {
     "name": "stdout",
     "output_type": "stream",
     "text": [
      "The solution is x = -1.5\n"
     ]
    }
   ],
   "source": [
    "def linear_equation(a,b):\n",
    "     if a == 0:\n",
    "        if b == 0:\n",
    "            return \"Infinite solutions (any value of x)\"\n",
    "        else:\n",
    "            return \"No solution (contradiction)\"\n",
    "     else:\n",
    "          x = -b / a\n",
    "          return f\"The solution is x = {x}\"\n",
    "\n",
    "# Input coefficients a and b of the linear equation ax + b = 0\n",
    "a = float(input(\"Enter the coefficient 'a': \"))\n",
    "b = float(input(\"Enter the coefficient 'b': \"))\n",
    "\n",
    "print(linear_equation(a, b))"
   ]
  },
  {
   "cell_type": "markdown",
   "metadata": {},
   "source": [
    "-----------------------------------------------------------------------------\n",
    "26. Write a program that simulates a basic quiz game with multiple-choice questions and scoring.\n"
   ]
  },
  {
   "cell_type": "markdown",
   "metadata": {},
   "source": [
    "-----------------------------------------------------------------------------\n",
    "27. Develop a program that determines whether a given year is a prime number or not."
   ]
  },
  {
   "cell_type": "code",
   "execution_count": null,
   "metadata": {},
   "outputs": [],
   "source": [
    "from math import sqrt\n",
    "def is_prime(num):\n",
    "    if num <= 1:\n",
    "        return False\n",
    "    i = 2\n",
    "    while i <= sqrt(num):\n",
    "        if num % i == 0:\n",
    "            return False\n",
    "        i += 1\n",
    "    return True\n",
    "\n",
    "def is_year_prime(year):\n",
    "    if is_prime(year):\n",
    "        return f\"{year} is a prime year.\"\n",
    "    else:\n",
    "        return f\"{year} is not a prime year.\"\n",
    "\n",
    "# Input a year\n",
    "year = int(input(\"Enter a year: \"))\n",
    "\n",
    "result = is_year_prime(year)\n",
    "print(result)"
   ]
  },
  {
   "cell_type": "markdown",
   "metadata": {},
   "source": [
    "-----------------------------------------------------------------------------\n",
    "28. Create a program that sorts three numbers in ascending order using conditional statements."
   ]
  },
  {
   "cell_type": "code",
   "execution_count": null,
   "metadata": {},
   "outputs": [],
   "source": [
    "a = float(input(\"Enter a: \"))\n",
    "b = float(input(\"Enter b: \"))\n",
    "c = float(input(\"Enter c: \"))\n",
    "\n",
    "if a > b:\n",
    "    a,b = b,a\n",
    "if a > c:\n",
    "    a,c = c,a\n",
    "if b > c:\n",
    "    b,c = c,b\n",
    "    \n",
    "print (a, \"<\", b, \"<\", c)"
   ]
  },
  {
   "cell_type": "markdown",
   "metadata": {},
   "source": [
    "-----------------------------------------------------------------------------\n",
    "29. Build a program that determines the roots of a quartic equation using numerical methods."
   ]
  },
  {
   "cell_type": "code",
   "execution_count": null,
   "metadata": {},
   "outputs": [],
   "source": [
    "import math\n",
    "\n",
    "# Input coefficients a, b, and c from the user\n",
    "a = float(input(\"Enter coefficient a: \"))\n",
    "b = float(input(\"Enter coefficient b: \"))\n",
    "c = float(input(\"Enter coefficient c: \"))\n",
    "\n",
    "def quadratic(a, b, c):\n",
    "    d = b**2 - 4*a*c\n",
    "    if d > 0:  \n",
    "        x1 = (-b + math.sqrt(d)) / (2*a)\n",
    "        x2 = (-b - math.sqrt(d)) / (2*a)\n",
    "        return (x1, x2)\n",
    "\n",
    "  # If d is zero, return one real root\n",
    "    elif d == 0:\n",
    "        x = -b / (2*a)\n",
    "        return x\n",
    "\n",
    "  # If d is negative, return two complex roots\n",
    "    else:\n",
    "        x1 = complex(-b / (2*a), math.sqrt(-d) / (2*a))\n",
    "        x2 = complex(-b / (2*a), -math.sqrt(-d) / (2*a))\n",
    "        return (x1, x2)\n",
    "\n",
    "roots = quadratic(a, b, c)\n",
    "\n",
    "# Print result\n",
    "print(f\"The roots of {a}x^2 + {b}x + {c} are {roots}\")"
   ]
  },
  {
   "cell_type": "markdown",
   "metadata": {},
   "source": [
    "-----------------------------------------------------------------------------\n",
    "30. Write a program that calculates the BMI (Body Mass Index) and provides health recommendations based\n",
    "on the user's input."
   ]
  },
  {
   "cell_type": "code",
   "execution_count": 2,
   "metadata": {},
   "outputs": [
    {
     "name": "stdout",
     "output_type": "stream",
     "text": [
      "BMI Calculator and Health Recommendation Program!\n",
      "Your BMI is 0.00\n",
      "You are underweight.\n"
     ]
    }
   ],
   "source": [
    "def calculate_bmi(weight_kg, height_m):\n",
    "    \"\"\"\n",
    "    Calculate the Body Mass Index (BMI).\n",
    "    float: BMI value.\n",
    "    \"\"\"\n",
    "    return weight_kg / (height_m ** 2)\n",
    "\n",
    "def get_health_recommendation(bmi):\n",
    "    \"\"\"\n",
    "    Provide health recommendations based on BMI..\n",
    "    \"\"\"\n",
    "    if bmi < 18.5:\n",
    "        return \"You are underweight.\"\n",
    "    elif 18.5 <= bmi < 24.9:\n",
    "        return \"Your BMI is in the healthy range.\"\n",
    "    elif 24.9 <= bmi < 29.9:\n",
    "        return \"You are overweight.\"\n",
    "    else:\n",
    "        return \"You are obese.\"\n",
    "\n",
    "\n",
    "print(\"BMI Calculator and Health Recommendation Program!\")\n",
    "weight_kg = float(input(\"Enter your weight in kilograms: \"))\n",
    "height_m = float(input(\"Enter your height in meters: \"))\n",
    "\n",
    "    # Calculate BMI\n",
    "bmi = calculate_bmi(weight_kg, height_m)\n",
    "\n",
    "    # Provide health recommendation\n",
    "recommendation = get_health_recommendation(bmi)\n",
    "\n",
    "    # Display the results\n",
    "print(f\"Your BMI is {bmi:.2f}\")\n",
    "print(recommendation)"
   ]
  },
  {
   "cell_type": "markdown",
   "metadata": {},
   "source": [
    "### Challenge Level"
   ]
  },
  {
   "cell_type": "markdown",
   "metadata": {},
   "source": [
    "-----------------------------------------------------------------------------\n",
    "31. Create a program that validates a password based on complexity rules (length, characters, etc.).\n"
   ]
  },
  {
   "cell_type": "code",
   "execution_count": null,
   "metadata": {},
   "outputs": [],
   "source": [
    "import string\n",
    "import random\n",
    "\n",
    "# Store all characters in lists\n",
    "s1 = list(string.ascii_lowercase)\n",
    "s2 = list(string.ascii_uppercase)\n",
    "s3 = list(string.digits)\n",
    "s4 = list(string.punctuation)\n",
    "\n",
    "# Ask the user about the number of characters\n",
    "user_input = input(\"How many characters do you want in your password? \")\n",
    "\n",
    "# Check this input: Is it a number? Is it more than 8?\n",
    "while True:\n",
    "    try:\n",
    "        characters_number = int(user_input)\n",
    "        if characters_number < 8:\n",
    "            print(\"Your number should be at least 8.\")\n",
    "            user_input = input(\"Please, enter your number again: \")\n",
    "        else:\n",
    "            break\n",
    "    except:\n",
    "        print(\"Please, enter numbers only.\")\n",
    "        user_input = input(\"How many characters do you want in your password? \")\n",
    "\n",
    "# Shuffle all lists\n",
    "random.shuffle(s1)\n",
    "random.shuffle(s2)\n",
    "random.shuffle(s3)\n",
    "random.shuffle(s4)\n",
    "\n",
    "# Calculate 30% & 20% of the number of characters\n",
    "part1 = round(characters_number * (30 / 100))\n",
    "part2 = round(characters_number * (20 / 100))\n",
    "\n",
    "# Generation of the password (60% letters and 40% digits & punctuations)\n",
    "result = []\n",
    "for x in range(part1):\n",
    "    result.append(s1[x])\n",
    "    result.append(s2[x])\n",
    "for x in range(part2):\n",
    "    result.append(s3[x])\n",
    "    result.append(s4[x])\n",
    "\n",
    "# Shuffle the result\n",
    "random.shuffle(result)\n",
    "\n",
    "# Join the result\n",
    "password = \"\".join(result)\n",
    "print(\"Strong Password: \", password)"
   ]
  },
  {
   "cell_type": "markdown",
   "metadata": {},
   "source": [
    "-----------------------------------------------------------------------------\n",
    "32. Develop a program that performs matrix addition and subtraction based on user input."
   ]
  },
  {
   "cell_type": "code",
   "execution_count": 5,
   "metadata": {},
   "outputs": [
    {
     "name": "stdout",
     "output_type": "stream",
     "text": [
      "Addition of two matrix\n",
      "[[12  9]\n",
      " [11  6]]\n"
     ]
    }
   ],
   "source": [
    "import numpy as np\n",
    " \n",
    "# creating first matrix\n",
    "A = np.array([[3, 2], [6, 4]])\n",
    " \n",
    "# creating second matrix\n",
    "B = np.array([[9, 7], [5, 2]])\n",
    " \n",
    "# adding two matrix\n",
    "print(\"Addition of two matrix\")\n",
    "print(np.add(A, B))"
   ]
  },
  {
   "cell_type": "markdown",
   "metadata": {},
   "source": [
    "-----------------------------------------------------------------------------\n",
    "33. Write a program that calculates the greatest common divisor (GCD) of two numbers using the Euclidean\n",
    "algorithm.\n"
   ]
  },
  {
   "cell_type": "code",
   "execution_count": 6,
   "metadata": {},
   "outputs": [
    {
     "name": "stdout",
     "output_type": "stream",
     "text": [
      "The gcd of 12 and 15 is : 3\n"
     ]
    }
   ],
   "source": [
    "import math\n",
    " \n",
    "print(\"The gcd of 12 and 15 is : \", end=\"\")\n",
    "print(math.gcd(12, 15))"
   ]
  },
  {
   "cell_type": "markdown",
   "metadata": {},
   "source": [
    "-----------------------------------------------------------------------------\n",
    "34. Build a program that performs matrix multiplication using nested loops and conditional statements.\n"
   ]
  },
  {
   "cell_type": "markdown",
   "metadata": {},
   "source": [
    "-----------------------------------------------------------------------------\n",
    "35. Create a program that simulates a basic text-based tic-tac-toe game against the computer.\n"
   ]
  },
  {
   "cell_type": "markdown",
   "metadata": {},
   "source": [
    "-----------------------------------------------------------------------------\n",
    "36. Write a program that generates Fibonacci numbers up to a specified term using iterative methods.\n"
   ]
  },
  {
   "cell_type": "code",
   "execution_count": null,
   "metadata": {},
   "outputs": [],
   "source": [
    "def fibonacci(n):\n",
    "    # Initialize the first two terms of the sequence as 0 and 1\n",
    "    a = 0\n",
    "    b = 1\n",
    "    # Print the first term\n",
    "    print(a, end=\" \")\n",
    "    # Loop from 1 to n\n",
    "    for i in range(1, n):\n",
    "        # Print the next term\n",
    "        print(b, end=\" \")\n",
    "        # Update the next term as the sum of the previous two terms\n",
    "        c = a + b\n",
    "        # Swap the values of a and b\n",
    "        a = b\n",
    "        b = c\n",
    "    # Print a new line\n",
    "    print()\n",
    "\n",
    "# Ask the user to enter the number of terms\n",
    "n = int(input(\"Enter the number of terms: \"))\n",
    "# Call the function with the user input\n",
    "fibonacci(n)"
   ]
  },
  {
   "cell_type": "markdown",
   "metadata": {},
   "source": [
    "-----------------------------------------------------------------------------\n",
    "37. Develop a program that calculates the nth term of the Fibonacci sequence using memoization.\n"
   ]
  },
  {
   "cell_type": "markdown",
   "metadata": {},
   "source": [
    "-----------------------------------------------------------------------------\n",
    "38. Create a program that generates a calendar for a given month and year using conditional statements.\n"
   ]
  },
  {
   "cell_type": "code",
   "execution_count": 2,
   "metadata": {},
   "outputs": [
    {
     "name": "stdout",
     "output_type": "stream",
     "text": [
      "0\n",
      "1\n"
     ]
    }
   ],
   "source": [
    "#Iterative means you writing iterations instead writing recursive functions in your code.\n",
    "num=int(input(\"Enter number : \"))\n",
    "a,b=0,1\n",
    "for i in range(0,num):\n",
    "    if i<=1:\n",
    "        print(i)\n",
    "    else:\n",
    "        result=a+b\n",
    "        a=b\n",
    "        b=result\n",
    "        print(result)"
   ]
  },
  {
   "cell_type": "markdown",
   "metadata": {},
   "source": [
    "-----------------------------------------------------------------------------\n",
    "39. Build a program that simulates a basic text-based blackjack game against the computer.\n"
   ]
  },
  {
   "cell_type": "markdown",
   "metadata": {},
   "source": [
    "-----------------------------------------------------------------------------\n",
    "40. Write a program that generates the prime factors of a given number using trial division."
   ]
  },
  {
   "cell_type": "code",
   "execution_count": 4,
   "metadata": {},
   "outputs": [
    {
     "name": "stdout",
     "output_type": "stream",
     "text": [
      "Prime factors of 6 are: [2, 3]\n"
     ]
    }
   ],
   "source": [
    "def prime_factors(n):\n",
    "    factors = []\n",
    "    divisor = 2\n",
    "    \n",
    "    while n > 1:\n",
    "        while n % divisor == 0:\n",
    "            factors.append(divisor)\n",
    "            n //= divisor\n",
    "        divisor += 1\n",
    "    \n",
    "    return factors\n",
    "\n",
    "# Input a number\n",
    "num = int(input(\"Enter a number: \"))\n",
    "\n",
    "if num < 2:\n",
    "    print(\"Prime factors are not defined for numbers less than 2.\")\n",
    "else:\n",
    "    factors = prime_factors(num)\n",
    "    print(f\"Prime factors of {num} are: {factors}\")"
   ]
  }
 ],
 "metadata": {
  "kernelspec": {
   "display_name": "base",
   "language": "python",
   "name": "python3"
  },
  "language_info": {
   "codemirror_mode": {
    "name": "ipython",
    "version": 3
   },
   "file_extension": ".py",
   "mimetype": "text/x-python",
   "name": "python",
   "nbconvert_exporter": "python",
   "pygments_lexer": "ipython3",
   "version": "3.11.4"
  },
  "orig_nbformat": 4
 },
 "nbformat": 4,
 "nbformat_minor": 2
}
