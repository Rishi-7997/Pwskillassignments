{
 "cells": [
  {
   "cell_type": "markdown",
   "metadata": {},
   "source": [
    "### TOPIC: Python Basics Variable"
   ]
  },
  {
   "cell_type": "markdown",
   "metadata": {},
   "source": [
    "1. Declare two variables, `x` and `y`, and assign them integer values. Swap the\n",
    "values of these variables without using any temporary variable."
   ]
  },
  {
   "cell_type": "code",
   "execution_count": 1,
   "metadata": {},
   "outputs": [],
   "source": [
    "#Define a function called 'two_var' that takes two arguments, 'x' and 'y'.\n",
    "def two_var(x, y):\n",
    "    # Inside the function, return a tuple with 'y' as the first element and 'x' as the second element.\n",
    "    return (y, x)"
   ]
  },
  {
   "cell_type": "code",
   "execution_count": 2,
   "metadata": {},
   "outputs": [
    {
     "data": {
      "text/plain": [
       "(5, 4)"
      ]
     },
     "execution_count": 2,
     "metadata": {},
     "output_type": "execute_result"
    }
   ],
   "source": [
    "# Call the 'two_var' function with the arguments 4 and 5.\n",
    "two_var(4,5)"
   ]
  },
  {
   "cell_type": "markdown",
   "metadata": {},
   "source": [
    "2. Create a program that calculates the area of a rectangle. Take the length and\n",
    "width as inputs from the user and store them in variables. Calculate and\n",
    "display the area."
   ]
  },
  {
   "cell_type": "code",
   "execution_count": 3,
   "metadata": {},
   "outputs": [
    {
     "name": "stdout",
     "output_type": "stream",
     "text": [
      "The area of rectangle is : 484.0\n"
     ]
    }
   ],
   "source": [
    "# Enter the length of the rectangle as a floating-point number.\n",
    "length = float(input(\"Enter length of the rectangle\"))\n",
    "\n",
    "# Enter the width of the rectangle as a floating-point number.\n",
    "width = float(input(\"Enter width of the rectangle\"))\n",
    "\n",
    "# Calculate the area of the rectangle by multiplying its length and width, and store it in the 'area' variable.\n",
    "print(\"The area of rectangle is : {}\".format(length*width))"
   ]
  },
  {
   "cell_type": "markdown",
   "metadata": {},
   "source": [
    "3. Write a Python program that converts temperatures from Celsius to\n",
    "Fahrenheit. Take the temperature in Celsius as input, store it in a variable,\n",
    "convert it to Fahrenheit, and display the result."
   ]
  },
  {
   "cell_type": "code",
   "execution_count": 4,
   "metadata": {},
   "outputs": [
    {
     "name": "stdout",
     "output_type": "stream",
     "text": [
      "Temperature in Fahrenheit : 73.4\n"
     ]
    }
   ],
   "source": [
    "# Enter the temperature in Celsius as a floating-point number.\n",
    "temp_in_celsius = float(input(\"Enter temperature in celsius\"))\n",
    "# Calculate the temperature in Fahrenheit by applying the formula: (Celsius * 9/5) + 32.\n",
    "# Print the converted temperature in Fahrenheit using string formatting.\n",
    "print(\"Temperature in Fahrenheit : {}\".format((temp_in_celsius*9/5)+32))"
   ]
  },
  {
   "cell_type": "markdown",
   "metadata": {},
   "source": [
    "### TOPIC: String Based Questions"
   ]
  },
  {
   "cell_type": "markdown",
   "metadata": {},
   "source": [
    "1. Write a Python program that takes a string as input and prints the length of\n",
    "the string."
   ]
  },
  {
   "cell_type": "code",
   "execution_count": 5,
   "metadata": {},
   "outputs": [
    {
     "name": "stdout",
     "output_type": "stream",
     "text": [
      "Length of string is : 14\n"
     ]
    }
   ],
   "source": [
    "# Enter a string and store it in the 'input_string' variable.\n",
    "input_string = input(\"Enter a string\")\n",
    "\n",
    "# Calculate the length of the entered string using the 'len' function, and store it in the 'length' variable.\n",
    "# Print the length of the string using string formatting.\n",
    "print(\"Length of string is : {}\".format(len(input_string)))"
   ]
  },
  {
   "cell_type": "markdown",
   "metadata": {},
   "source": [
    "-----------------------------------------------------------------------------\n",
    "2. Create a program that takes a sentence from the user and counts the number\n",
    "of vowels (a, e, i, o, u) in the string."
   ]
  },
  {
   "cell_type": "code",
   "execution_count": 11,
   "metadata": {},
   "outputs": [],
   "source": [
    "# Define a function called 'sentence' that takes one argument 'x'.\n",
    "def sentence(x):\n",
    "    # Convert the input string 'x' to lowercase. Note: This does not modify 'x' in place.\n",
    "    x.lower()\n",
    "    \n",
    "    # Create a list comprehension that counts the occurrences of each vowel ('a', 'e', 'i', 'o', 'u') in the lowercase 'x'.\n",
    "    # The result is a list containing the counts of each vowel in the input string.\n",
    "    vowel_counts = [x.count(c) for c in \"aeiou\"]\n",
    "    \n",
    "    # Return the list of vowel counts.\n",
    "    return vowel_counts"
   ]
  },
  {
   "cell_type": "markdown",
   "metadata": {},
   "source": [
    "-----------------------------------------------------------------------------\n",
    "2. Given a string, reverse the order of characters using string slicing and print\n",
    "the reversed string."
   ]
  },
  {
   "cell_type": "code",
   "execution_count": 25,
   "metadata": {},
   "outputs": [],
   "source": [
    "# Define a function called 'reverse_words' that takes one argument 'word'.\n",
    "def reverse_words(word):\n",
    "\n",
    "    # Split the input 'word' into a list of words based on spaces and iterate over each words.\n",
    "    # For each word, use slicing (word[::-1]) to reverse it, and join the reversed words with spaces.\n",
    "    return \" \".join(word[::-1] for words in word.split(\" \"))"
   ]
  },
  {
   "cell_type": "code",
   "execution_count": 26,
   "metadata": {},
   "outputs": [
    {
     "data": {
      "text/plain": [
       "'atad'"
      ]
     },
     "execution_count": 26,
     "metadata": {},
     "output_type": "execute_result"
    }
   ],
   "source": [
    "reverse_words(\"data\")"
   ]
  },
  {
   "cell_type": "markdown",
   "metadata": {},
   "source": [
    "-----------------------------------------------------------------------------\n",
    "3. Write a program that takes a string as input and checks if it is a palindrome\n",
    " (reads the same forwards and backwards)."
   ]
  },
  {
   "cell_type": "code",
   "execution_count": 8,
   "metadata": {},
   "outputs": [
    {
     "name": "stdout",
     "output_type": "stream",
     "text": [
      "The input word is not a palindrome.\n"
     ]
    }
   ],
   "source": [
    "# Define a function called 'palindrome' that takes one argument 'word'.\n",
    "def palindrome(word):\n",
    "    # Remove spaces from the input word and convert it to lowercase.\n",
    "    word = word.replace(\" \", \"\").lower()\n",
    "     # Check if word is equal to its reverse. If they are equal, it's a palindrome.\n",
    "    return word == word[::-1]\n",
    "\n",
    "# Enter a word.\n",
    "input_string = input(\"Enter a word: \")\n",
    "# Call the 'palindrome' function with the input word and check if it's a palindrome.\n",
    "if palindrome(input_string):\n",
    "    print(\"The input word is a palindrome.\")\n",
    "else:\n",
    "    print(\"The input word is not a palindrome.\")"
   ]
  },
  {
   "cell_type": "markdown",
   "metadata": {},
   "source": [
    "-----------------------------------------------------------------------------\n",
    "4. Create a program that takes a string as input and removes all the spaces from\n",
    "it. Print the modified string without spaces."
   ]
  },
  {
   "cell_type": "code",
   "execution_count": 9,
   "metadata": {},
   "outputs": [],
   "source": [
    "# Define a function called 'remove_space' that takes one argument 'x'.\n",
    "def remove_space(x):\n",
    "    # Remove spaces from the input 'x'.\n",
    "    return x.replace(\" \",\"\")"
   ]
  },
  {
   "cell_type": "code",
   "execution_count": 10,
   "metadata": {},
   "outputs": [
    {
     "data": {
      "text/plain": [
       "'Testingstringwithoutspaces'"
      ]
     },
     "execution_count": 10,
     "metadata": {},
     "output_type": "execute_result"
    }
   ],
   "source": [
    "remove_space(\"Testing string without spaces\")"
   ]
  }
 ],
 "metadata": {
  "kernelspec": {
   "display_name": "base",
   "language": "python",
   "name": "python3"
  },
  "language_info": {
   "codemirror_mode": {
    "name": "ipython",
    "version": 3
   },
   "file_extension": ".py",
   "mimetype": "text/x-python",
   "name": "python",
   "nbconvert_exporter": "python",
   "pygments_lexer": "ipython3",
   "version": "3.11.4"
  },
  "orig_nbformat": 4
 },
 "nbformat": 4,
 "nbformat_minor": 2
}
