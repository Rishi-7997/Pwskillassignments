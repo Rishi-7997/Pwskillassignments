{
 "cells": [
  {
   "cell_type": "markdown",
   "metadata": {},
   "source": [
    "### For Loop :-"
   ]
  },
  {
   "cell_type": "markdown",
   "metadata": {},
   "source": [
    "1. Write a Python program to print numbers from 1 to 10 using a for loop."
   ]
  },
  {
   "cell_type": "code",
   "execution_count": 1,
   "metadata": {},
   "outputs": [
    {
     "name": "stdout",
     "output_type": "stream",
     "text": [
      "1\n",
      "2\n",
      "3\n",
      "4\n",
      "5\n",
      "6\n",
      "7\n",
      "8\n",
      "9\n",
      "10\n"
     ]
    }
   ],
   "source": [
    "for i in range(1,11):\n",
    "     print(i)"
   ]
  },
  {
   "cell_type": "markdown",
   "metadata": {},
   "source": [
    "2. Explain the difference between a for loop and a while loop in Python."
   ]
  },
  {
   "cell_type": "markdown",
   "metadata": {},
   "source": [
    "for loop doesnt need to initialize the loop varialble \n",
    "also for loop will autmatically update_display\n",
    "While loop variables must be defined and updated.\n"
   ]
  },
  {
   "cell_type": "markdown",
   "metadata": {},
   "source": [
    "3. Write a Python program to calculate the sum of all numbers from 1 to 100 using a for loop."
   ]
  },
  {
   "cell_type": "code",
   "execution_count": 2,
   "metadata": {},
   "outputs": [
    {
     "name": "stdout",
     "output_type": "stream",
     "text": [
      "1\n",
      "3\n",
      "6\n",
      "10\n",
      "15\n",
      "21\n",
      "28\n",
      "36\n",
      "45\n",
      "55\n",
      "66\n",
      "78\n",
      "91\n",
      "105\n",
      "120\n",
      "136\n",
      "153\n",
      "171\n",
      "190\n",
      "210\n",
      "231\n",
      "253\n",
      "276\n",
      "300\n",
      "325\n",
      "351\n",
      "378\n",
      "406\n",
      "435\n",
      "465\n",
      "496\n",
      "528\n",
      "561\n",
      "595\n",
      "630\n",
      "666\n",
      "703\n",
      "741\n",
      "780\n",
      "820\n",
      "861\n",
      "903\n",
      "946\n",
      "990\n",
      "1035\n",
      "1081\n",
      "1128\n",
      "1176\n",
      "1225\n",
      "1275\n",
      "1326\n",
      "1378\n",
      "1431\n",
      "1485\n",
      "1540\n",
      "1596\n",
      "1653\n",
      "1711\n",
      "1770\n",
      "1830\n",
      "1891\n",
      "1953\n",
      "2016\n",
      "2080\n",
      "2145\n",
      "2211\n",
      "2278\n",
      "2346\n",
      "2415\n",
      "2485\n",
      "2556\n",
      "2628\n",
      "2701\n",
      "2775\n",
      "2850\n",
      "2926\n",
      "3003\n",
      "3081\n",
      "3160\n",
      "3240\n",
      "3321\n",
      "3403\n",
      "3486\n",
      "3570\n",
      "3655\n",
      "3741\n",
      "3828\n",
      "3916\n",
      "4005\n",
      "4095\n",
      "4186\n",
      "4278\n",
      "4371\n",
      "4465\n",
      "4560\n",
      "4656\n",
      "4753\n",
      "4851\n",
      "4950\n",
      "5050\n"
     ]
    }
   ],
   "source": [
    "sum = 0\n",
    "for i in range(1, 101):\n",
    "     sum+=i\n",
    "     print(sum)"
   ]
  },
  {
   "cell_type": "markdown",
   "metadata": {},
   "source": [
    "4. How do you iterate through a list using a for loop in Python?"
   ]
  },
  {
   "cell_type": "code",
   "execution_count": 3,
   "metadata": {},
   "outputs": [
    {
     "name": "stdout",
     "output_type": "stream",
     "text": [
      "1\n",
      "2\n",
      "9\n",
      "6\n"
     ]
    }
   ],
   "source": [
    "lst =  [1, 2, 9, 6]\n",
    "for i in lst:\n",
    "     print(i)\n",
    "     "
   ]
  },
  {
   "cell_type": "markdown",
   "metadata": {},
   "source": [
    "5. Write a Python program to find the product of all elements in a list using a for loop."
   ]
  },
  {
   "cell_type": "code",
   "execution_count": 4,
   "metadata": {},
   "outputs": [
    {
     "name": "stdout",
     "output_type": "stream",
     "text": [
      "2\n",
      "8\n",
      "56\n",
      "504\n"
     ]
    }
   ],
   "source": [
    "product = 1 \n",
    "lst = [2,4,7,9]\n",
    "for i in lst:\n",
    "     \n",
    "     product = i*product\n",
    "     print(product)"
   ]
  },
  {
   "cell_type": "markdown",
   "metadata": {},
   "source": [
    "6. Create a Python program that prints all even numbers from 1 to 20 using a for loop."
   ]
  },
  {
   "cell_type": "code",
   "execution_count": 5,
   "metadata": {},
   "outputs": [
    {
     "name": "stdout",
     "output_type": "stream",
     "text": [
      "2\n",
      "4\n",
      "6\n",
      "8\n",
      "10\n",
      "12\n",
      "14\n",
      "16\n",
      "18\n",
      "20\n"
     ]
    }
   ],
   "source": [
    "for i in range(1,21):\n",
    "     if i%2==0:\n",
    "          print(i)"
   ]
  },
  {
   "cell_type": "markdown",
   "metadata": {},
   "source": [
    "7. Write a Python program that calculates the factorial of a number using a for loop."
   ]
  },
  {
   "cell_type": "code",
   "execution_count": 6,
   "metadata": {},
   "outputs": [
    {
     "name": "stdout",
     "output_type": "stream",
     "text": [
      "The factorial of a 12 is 2\n",
      "The factorial of a 12 is 6\n",
      "The factorial of a 12 is 24\n",
      "The factorial of a 12 is 120\n",
      "The factorial of a 12 is 720\n",
      "The factorial of a 12 is 5040\n",
      "The factorial of a 12 is 40320\n",
      "The factorial of a 12 is 362880\n",
      "The factorial of a 12 is 3628800\n",
      "The factorial of a 12 is 39916800\n",
      "The factorial of a 12 is 479001600\n"
     ]
    }
   ],
   "source": [
    "n = int(input(\"Enter a number: \"))\n",
    "fact = 1\n",
    "for i in range(2, n+1):\n",
    "     fact = fact*i\n",
    "     print(f\"The factorial of a {n} is {fact}\")"
   ]
  },
  {
   "cell_type": "markdown",
   "metadata": {},
   "source": [
    "8. How can you iterate through the characters of a string using a for loop in Python?"
   ]
  },
  {
   "cell_type": "code",
   "execution_count": 7,
   "metadata": {},
   "outputs": [
    {
     "name": "stdout",
     "output_type": "stream",
     "text": [
      "s\n",
      "t\n",
      "r\n",
      "i\n",
      "n\n",
      "g\n"
     ]
    }
   ],
   "source": [
    "s = input(\"Enter the character: \")\n",
    "for i in range(0, len(s)):\n",
    "     print(s[i])"
   ]
  },
  {
   "cell_type": "markdown",
   "metadata": {},
   "source": [
    "9. Write a Python program to find the largest number in a list using a for loop."
   ]
  },
  {
   "cell_type": "code",
   "execution_count": 8,
   "metadata": {},
   "outputs": [
    {
     "ename": "ValueError",
     "evalue": "invalid literal for int() with base 10: ''",
     "output_type": "error",
     "traceback": [
      "\u001b[1;31m---------------------------------------------------------------------------\u001b[0m",
      "\u001b[1;31mValueError\u001b[0m                                Traceback (most recent call last)",
      "\u001b[1;32mc:\\Users\\RS\\OneDrive\\Documents\\DS\\Ineuron Assignment\\Untitled-1.ipynb Cell 19\u001b[0m line \u001b[0;36m4\n\u001b[0;32m      <a href='vscode-notebook-cell:/c%3A/Users/RS/OneDrive/Documents/DS/Ineuron%20Assignment/Untitled-1.ipynb#X24sZmlsZQ%3D%3D?line=1'>2</a>\u001b[0m l \u001b[39m=\u001b[39m []\n\u001b[0;32m      <a href='vscode-notebook-cell:/c%3A/Users/RS/OneDrive/Documents/DS/Ineuron%20Assignment/Untitled-1.ipynb#X24sZmlsZQ%3D%3D?line=2'>3</a>\u001b[0m \u001b[39mfor\u001b[39;00m i \u001b[39min\u001b[39;00m \u001b[39mrange\u001b[39m(\u001b[39m0\u001b[39m, s):\n\u001b[1;32m----> <a href='vscode-notebook-cell:/c%3A/Users/RS/OneDrive/Documents/DS/Ineuron%20Assignment/Untitled-1.ipynb#X24sZmlsZQ%3D%3D?line=3'>4</a>\u001b[0m      l\u001b[39m.\u001b[39mappend(\u001b[39mint\u001b[39m(\u001b[39minput\u001b[39m()))\n\u001b[0;32m      <a href='vscode-notebook-cell:/c%3A/Users/RS/OneDrive/Documents/DS/Ineuron%20Assignment/Untitled-1.ipynb#X24sZmlsZQ%3D%3D?line=4'>5</a>\u001b[0m \u001b[39mprint\u001b[39m(\u001b[39mmax\u001b[39m(l))\n",
      "\u001b[1;31mValueError\u001b[0m: invalid literal for int() with base 10: ''"
     ]
    }
   ],
   "source": [
    "s = int(input(\"Enter the number: \"))\n",
    "l = []\n",
    "for i in range(0, s):\n",
    "     l.append(int(input()))\n",
    "print(max(l))"
   ]
  },
  {
   "cell_type": "markdown",
   "metadata": {},
   "source": [
    "10. Create a Python program that prints the Fibonacci sequence up to a specified limit using a for loop.\n"
   ]
  },
  {
   "cell_type": "code",
   "execution_count": null,
   "metadata": {},
   "outputs": [
    {
     "name": "stdout",
     "output_type": "stream",
     "text": [
      "21\n"
     ]
    }
   ],
   "source": [
    "n = int(input(\"Enter the number for fibonacci series: \"))\n",
    "a,b = 0,1\n",
    "limit = 0\n",
    "if n <=0:\n",
    "     print(\"Please enter a positive integer\")\n",
    "elif n == 1:\n",
    "     print(\"Fibonacci sequence upto\",n,\":\")\n",
    "else:\n",
    "     print(\"Fibonacci sequence:\")\n",
    "     while limit < n:\n",
    "         print(a)\n",
    "         c = a + b\n",
    "         a = b\n",
    "         b = c\n",
    "         limit += 1"
   ]
  },
  {
   "cell_type": "markdown",
   "metadata": {},
   "source": [
    "11. Write a Python program to count the number of vowels in a given string using a for loop."
   ]
  },
  {
   "cell_type": "code",
   "execution_count": null,
   "metadata": {},
   "outputs": [],
   "source": [
    "n = input(\"Enter the string: \")\n",
    "vowels = \"aeiouAEIOU\"\n",
    "for i in range(0, len(n)):\n",
    "     if n[i] in vowels:\n",
    "          print(n[i], \"is a vowel\")\n",
    "          break\n",
    "     else:\n",
    "          print(n[i], \"is a consonant\")\n",
    "     "
   ]
  },
  {
   "cell_type": "markdown",
   "metadata": {},
   "source": [
    "12. Create a Python program that generates a multiplication table for a given number using a for loop."
   ]
  },
  {
   "cell_type": "code",
   "execution_count": null,
   "metadata": {},
   "outputs": [
    {
     "name": "stdout",
     "output_type": "stream",
     "text": [
      "2 x 1 = 2\n",
      "2 x 2 = 4\n",
      "2 x 3 = 6\n",
      "2 x 4 = 8\n",
      "2 x 5 = 10\n",
      "2 x 6 = 12\n",
      "2 x 7 = 14\n",
      "2 x 8 = 16\n",
      "2 x 9 = 18\n",
      "2 x 10 = 20\n"
     ]
    }
   ],
   "source": [
    "n = int(input(\"Enter the number: \"))\n",
    "for i in range(1,11):\n",
    "     print(n,\"x\",i,\"=\",n*i)"
   ]
  },
  {
   "cell_type": "markdown",
   "metadata": {},
   "source": [
    "13. Write a Python program to reverse a list using a for loop."
   ]
  },
  {
   "cell_type": "code",
   "execution_count": null,
   "metadata": {},
   "outputs": [
    {
     "name": "stdout",
     "output_type": "stream",
     "text": [
      "5\n",
      "4\n",
      "3\n",
      "2\n",
      "1\n"
     ]
    }
   ],
   "source": [
    "lst = [1, 2, 3, 4, 5]\n",
    "for i in range(len(lst[::-1])-1, -1, -1):\n",
    "     print(lst[i])"
   ]
  },
  {
   "cell_type": "markdown",
   "metadata": {},
   "source": [
    "14. Write a Python program to find the common elements between two lists using a for loop."
   ]
  },
  {
   "cell_type": "code",
   "execution_count": null,
   "metadata": {},
   "outputs": [
    {
     "name": "stdout",
     "output_type": "stream",
     "text": [
      "[2, 2]\n"
     ]
    }
   ],
   "source": [
    "lst1 = [2,6,8,2]\n",
    "lst2 = [1,5,4,2]\n",
    "def common(lst1, lst2):\n",
    "     return [i for i in lst1 if i in lst2]\n",
    "print(common(lst1, lst2))"
   ]
  },
  {
   "cell_type": "markdown",
   "metadata": {},
   "source": [
    "15. Explain how to use a for loop to iterate through the keys and values of a dictionary in Python."
   ]
  },
  {
   "cell_type": "code",
   "execution_count": null,
   "metadata": {},
   "outputs": [
    {
     "name": "stdout",
     "output_type": "stream",
     "text": [
      "a : 1\n",
      "b : 2\n",
      "c : 3\n",
      "d : 4\n"
     ]
    }
   ],
   "source": [
    "dict = {'a': 1, 'b': 2, 'c': 3, 'd': 4}\n",
    "for key, value in dict.items():\n",
    "     print(key, \":\", value)"
   ]
  },
  {
   "cell_type": "markdown",
   "metadata": {},
   "source": [
    "16. Write a Python program to find the GCD (Greatest Common Divisor) of two numbers using a for loop."
   ]
  },
  {
   "cell_type": "code",
   "execution_count": null,
   "metadata": {},
   "outputs": [
    {
     "name": "stdout",
     "output_type": "stream",
     "text": [
      "GCD of 22 and 22 is 1\n",
      "GCD of 22 and 22 is 2\n",
      "GCD of 22 and 22 is 11\n",
      "GCD of 22 and 22 is 22\n"
     ]
    }
   ],
   "source": [
    "a = int(input(\"Enter the first number: \"))\n",
    "b = int(input(\"Enter the second number: \"))\n",
    "for i in range(1, min(a, b) + 1):\n",
    "     if a % i == 0 and b % i == 0:\n",
    "          print(\"GCD of\", a, \"and\", b, \"is\", i)"
   ]
  },
  {
   "cell_type": "markdown",
   "metadata": {},
   "source": [
    "17. Create a Python program that checks if a string is a palindrome using a for loop.\n"
   ]
  },
  {
   "cell_type": "code",
   "execution_count": null,
   "metadata": {},
   "outputs": [
    {
     "name": "stdout",
     "output_type": "stream",
     "text": [
      "The string is a palindrome.\n"
     ]
    }
   ],
   "source": [
    "s = input(\"Enter the string: \")\n",
    "for i in range(0, len(s)//2):\n",
    "     if s[i] != s[len(s[::-1])-1-i]:\n",
    "          print(\"The string is not a palindrome.\")\n",
    "     else:\n",
    "          print(\"The string is a palindrome.\")"
   ]
  },
  {
   "cell_type": "markdown",
   "metadata": {},
   "source": [
    "18. Write a Python program to remove duplicates from a list using a for loop."
   ]
  },
  {
   "cell_type": "code",
   "execution_count": null,
   "metadata": {},
   "outputs": [
    {
     "name": "stdout",
     "output_type": "stream",
     "text": [
      "['1', '2', '3']\n"
     ]
    }
   ],
   "source": [
    "s = int(input(\"Enter the number: \"))\n",
    "l = []\n",
    "\n",
    "\n",
    "for digit in str(s):\n",
    "    \n",
    "    if digit not in l:\n",
    "        l.append(digit)\n",
    "\n",
    "\n",
    "print(l)"
   ]
  },
  {
   "cell_type": "markdown",
   "metadata": {},
   "source": [
    "19. Create a Python program that counts the number of words in a sentence using a for loop."
   ]
  },
  {
   "cell_type": "code",
   "execution_count": null,
   "metadata": {},
   "outputs": [
    {
     "name": "stdout",
     "output_type": "stream",
     "text": [
      "Number of words: 1\n"
     ]
    }
   ],
   "source": [
    "sentence = input(\"Enter a sentence: \")\n",
    "for word in sentence.split():\n",
    "     print(word)"
   ]
  },
  {
   "cell_type": "markdown",
   "metadata": {},
   "source": [
    "20. Write a Python program to find the sum of all odd numbers from 1 to 50 using a for loop."
   ]
  },
  {
   "cell_type": "code",
   "execution_count": null,
   "metadata": {},
   "outputs": [
    {
     "name": "stdout",
     "output_type": "stream",
     "text": [
      "2\n",
      "6\n",
      "10\n",
      "14\n",
      "18\n",
      "22\n",
      "26\n",
      "30\n",
      "34\n",
      "38\n",
      "42\n",
      "46\n",
      "50\n",
      "54\n",
      "58\n",
      "62\n",
      "66\n",
      "70\n",
      "74\n",
      "78\n",
      "82\n",
      "86\n",
      "90\n",
      "94\n",
      "98\n"
     ]
    }
   ],
   "source": [
    "for i in range(1, 51):\n",
    "     if i%2!=0:\n",
    "          i += i\n",
    "          print(i)"
   ]
  },
  {
   "cell_type": "markdown",
   "metadata": {},
   "source": [
    "21. Write a Python program that checks if a given year is a leap year using a for loop.\n",
    "\n"
   ]
  },
  {
   "cell_type": "code",
   "execution_count": null,
   "metadata": {},
   "outputs": [
    {
     "name": "stdout",
     "output_type": "stream",
     "text": [
      "25 is a leap year\n"
     ]
    }
   ],
   "source": [
    "def is_leap_year(year):\n",
    "  for i in range(1, year + 1):\n",
    "    if (i % 4 == 0 and i % 100 != 0) or i % 400 == 0:\n",
    "      return True\n",
    "  return False\n",
    "\n",
    "year = int(input(\"Enter the year: \"))\n",
    "\n",
    "if is_leap_year(year):\n",
    "  print(year, \"is a leap year\")\n",
    "else:\n",
    "  print(year, \"is not a leap year\")"
   ]
  },
  {
   "cell_type": "markdown",
   "metadata": {},
   "source": [
    "22. Create a Python program that calculates the square root of a number using a for loop.\n"
   ]
  },
  {
   "cell_type": "code",
   "execution_count": null,
   "metadata": {},
   "outputs": [
    {
     "name": "stdout",
     "output_type": "stream",
     "text": [
      "3 is not a leap year\n"
     ]
    }
   ],
   "source": [
    "number = int(input(\"Enter the number: \"))\n",
    "def is_square_root(number):\n",
    "  for i in range(1, number + 1):\n",
    "    if i * i == number:\n",
    "      return True\n",
    "  return False\n",
    "\n",
    "if is_square_root(number):\n",
    "  print(number, \"is a square root\")\n",
    "else:\n",
    "  print(number, \"is not a square root\")"
   ]
  },
  {
   "cell_type": "markdown",
   "metadata": {},
   "source": [
    "23. Write a Python program to find the LCM (Least Common Multiple) of two numbers using a for loop."
   ]
  },
  {
   "cell_type": "code",
   "execution_count": null,
   "metadata": {},
   "outputs": [],
   "source": [
    "def lcm(x, y):\n",
    "    if x > y:\n",
    "        greater = x\n",
    "    else:\n",
    "        greater = y\n",
    "\n",
    "    while True:\n",
    "        if (greater % x == 0) and (greater % y == 0):\n",
    "            lcm = greater\n",
    "            break\n",
    "        greater += 1\n",
    "\n",
    "    return lcm\n",
    "\n",
    "num1 = int(input(\"Enter the first number: \"))\n",
    "num2 = int(input(\"Enter the second number: \"))\n",
    "\n",
    "print(\"The LCM of\", num1, \"and\", num2, \"is\", lcm(num1, num2))"
   ]
  },
  {
   "cell_type": "markdown",
   "metadata": {},
   "source": [
    "### If else :"
   ]
  },
  {
   "cell_type": "markdown",
   "metadata": {},
   "source": [
    "1. Write a Python program to check if a number is positive, negative, or zero using an if-else statement.\n",
    "\n"
   ]
  },
  {
   "cell_type": "code",
   "execution_count": null,
   "metadata": {},
   "outputs": [],
   "source": [
    "def check(num):\n",
    "  if num > 0:\n",
    "    print(num, \"is positive\")\n",
    "  elif num < 0:\n",
    "    print(num, \"is negative\")\n",
    "  else:\n",
    "    print(num, \"is zero\")\n",
    "\n",
    "num = int(input(\"Enter the number: \"))\n",
    "check(num)"
   ]
  },
  {
   "cell_type": "markdown",
   "metadata": {},
   "source": [
    "2. Create a Python program that checks if a given number is even or odd using an if-else statement.\n"
   ]
  },
  {
   "cell_type": "code",
   "execution_count": null,
   "metadata": {},
   "outputs": [],
   "source": [
    "def given_number(num):\n",
    "  if num % 2 == 0:\n",
    "    print(num, \"is even\")\n",
    "  else:\n",
    "    print(num, \"is odd\")\n",
    "\n",
    "num = int(input(\"Enter the number: \"))\n",
    "given_number(num)"
   ]
  },
  {
   "cell_type": "markdown",
   "metadata": {},
   "source": [
    "3. How can you use nested if-else statements in Python, and provide an example?\n"
   ]
  },
  {
   "cell_type": "code",
   "execution_count": null,
   "metadata": {},
   "outputs": [],
   "source": [
    "number = int(input(\"Enter a number: \"))\n",
    "\n",
    "if number > 0:\n",
    "  if number % 2 == 0:\n",
    "    print(\"The number is positive and even.\")\n",
    "  else:\n",
    "    print(\"The number is positive and odd.\")\n",
    "else:\n",
    "  print(\"The number is not positive.\")"
   ]
  },
  {
   "cell_type": "markdown",
   "metadata": {},
   "source": [
    "4. Write a Python program to determine the largest of three numbers using if-else.\n"
   ]
  },
  {
   "cell_type": "code",
   "execution_count": null,
   "metadata": {},
   "outputs": [],
   "source": [
    "a = int(input(\"Enter the first number: \"))\n",
    "b = int(input(\"Enter the second number: \"))\n",
    "c = int(input(\"Enter the third number: \"))\n",
    "def largest(a, b, c):\n",
    "  if a > b and a > c:\n",
    "    return a\n",
    "  elif b > c:\n",
    "    return b\n",
    "  else:\n",
    "    return c\n",
    "print(largest(a, b, c))"
   ]
  },
  {
   "cell_type": "markdown",
   "metadata": {},
   "source": [
    "5. Write a Python program that calculates the absolute value of a number using if-else.\n"
   ]
  },
  {
   "cell_type": "code",
   "execution_count": null,
   "metadata": {},
   "outputs": [
    {
     "name": "stdout",
     "output_type": "stream",
     "text": [
      "1\n"
     ]
    }
   ],
   "source": [
    "def absolute_value(num):\n",
    "  if num >= 0:\n",
    "    return num\n",
    "  else:\n",
    "    return -num\n",
    "\n",
    "num = int(input(\"Enter the number: \"))\n",
    "print(absolute_value(num))"
   ]
  },
  {
   "cell_type": "markdown",
   "metadata": {},
   "source": [
    "6. Create a Python program that checks if a given character is a vowel or consonant using if-else.\n"
   ]
  },
  {
   "cell_type": "code",
   "execution_count": null,
   "metadata": {},
   "outputs": [],
   "source": [
    "def is_vowel(char):\n",
    "  vowels = ['a', 'e', 'i', 'o', 'u']\n",
    "  if char in vowels:\n",
    "    return True\n",
    "  else:\n",
    "    return False\n",
    "\n",
    "char = input(\"Enter a character: \")\n",
    "print(is_vowel(char))"
   ]
  },
  {
   "cell_type": "markdown",
   "metadata": {},
   "source": [
    "7. Write a Python program to determine if a user is eligible to vote based on their age using if-else.\n"
   ]
  },
  {
   "cell_type": "code",
   "execution_count": null,
   "metadata": {},
   "outputs": [],
   "source": [
    "def eligible_to_vote(age):\n",
    "  if age >= 18:\n",
    "    return True\n",
    "  else:\n",
    "    return False\n",
    "\n",
    "age = int(input(\"Enter your age: \"))\n",
    "print(eligible_to_vote(age))"
   ]
  },
  {
   "cell_type": "markdown",
   "metadata": {},
   "source": [
    "8. Create a Python program that calculates the discount amount based on the purchase amount using if-else.\n"
   ]
  },
  {
   "cell_type": "code",
   "execution_count": null,
   "metadata": {},
   "outputs": [],
   "source": [
    "def discount(amount):\n",
    "  if amount > 1000:\n",
    "    return amount * 0.1\n",
    "  else:\n",
    "    return amount * 0.05\n",
    "\n",
    "amount = float(input(\"Enter the purchase amount: \"))\n",
    "print(\"The discount amount is:\", discount(amount))"
   ]
  },
  {
   "cell_type": "markdown",
   "metadata": {},
   "source": [
    "9. Write a Python program to check if a number is within a specified range using if-else.\n"
   ]
  },
  {
   "cell_type": "code",
   "execution_count": null,
   "metadata": {},
   "outputs": [],
   "source": [
    "def check_range(num):\n",
    "  if num >= 1 and num <= 20:\n",
    "    return True\n",
    "  else:\n",
    "    return False\n",
    "\n",
    "num = int(input(\"Enter a number: \"))\n",
    "print(check_range(num))"
   ]
  },
  {
   "cell_type": "markdown",
   "metadata": {},
   "source": [
    "10. Create a Python program that determines the grade of a student based on their score using if-else.\n"
   ]
  },
  {
   "cell_type": "code",
   "execution_count": null,
   "metadata": {},
   "outputs": [],
   "source": [
    "def grade(score):\n",
    "  if score >= 90:\n",
    "    return \"A\"\n",
    "  elif score >= 80:\n",
    "    return \"B\"\n",
    "  elif score >= 70:\n",
    "    return \"C\"\n",
    "  elif score >= 60:\n",
    "    return \"D\"\n",
    "  else:\n",
    "    return \"F\"\n",
    "\n",
    "score = int(input(\"Enter your score: \"))\n",
    "print(grade(score))"
   ]
  },
  {
   "cell_type": "markdown",
   "metadata": {},
   "source": [
    "11. Write a Python program to check if a string is empty or not using if-else.\n"
   ]
  },
  {
   "cell_type": "code",
   "execution_count": null,
   "metadata": {},
   "outputs": [],
   "source": [
    "def is_string_empty(string):\n",
    "  if string == \"\":\n",
    "    return True\n",
    "  else:\n",
    "    return False\n",
    "\n",
    "string = input(\"Enter a string: \")\n",
    "print(is_string_empty(string))"
   ]
  },
  {
   "cell_type": "markdown",
   "metadata": {},
   "source": [
    "12. Create a Python program that identifies the type of a triangle (e.g., equilateral, isosceles, or scalene) based on input values using if-else.\n"
   ]
  },
  {
   "cell_type": "code",
   "execution_count": null,
   "metadata": {},
   "outputs": [],
   "source": [
    "side1 = int(input(\"Enter side1's value of the triangle\"))\n",
    "side2 = int(input(\"Enter side2's value of the triangle\"))\n",
    "side3 = int(input(\"Enter side3's value of the triangle\"))\n",
    "\n",
    "def triangle():\n",
    "    if side1 + side2 > side3 and side1 + side3 > side2 and side2 + side3 > side1:\n",
    "        # Check for equilateral triangle\n",
    "        if side1 == side2 == side3:\n",
    "            print(\"It is an equilateral triangle.\")\n",
    "        # Check for isosceles triangle\n",
    "        elif side1 == side2 or side1 == side3 or side2 == side3:\n",
    "            print(\"It is an isosceles triangle.\")\n",
    "        # It's neither equilateral nor isosceles, so it must be scalene\n",
    "        else:\n",
    "            print(\"It is a scalene triangle.\")\n",
    "    else:\n",
    "        print(\"It is not a valid triangle.\")\n",
    "\n",
    "# Call the function to classify the triangle\n",
    "triangle()"
   ]
  },
  {
   "cell_type": "markdown",
   "metadata": {},
   "source": [
    "13. Write a Python program to determine the day of the week based on a user-provided number using if-else.\n"
   ]
  },
  {
   "cell_type": "code",
   "execution_count": null,
   "metadata": {},
   "outputs": [],
   "source": [
    "days = {1: \"Monday\", 2: \"Tuesday\", 3: \"Wednesday\", 4: \"Thursday\", 5: \"Friday\", 6: \"Saturday\", 7: \"Sunday\"}\n",
    "\n",
    "# Ask the user to enter a number\n",
    "number = int(input(\"Enter a number from 1 to 7: \"))\n",
    "\n",
    "# Check if the number is valid\n",
    "if (1 > number) | (number > 7):\n",
    "    print(\"Invalid number. Please try again.\")\n",
    "else:\n",
    "    # Get day from the dictionary\n",
    "    day = days[number]\n",
    "    # Print the result\n",
    "    print(f\"The day of the week is {day}.\")\n",
    "     "
   ]
  },
  {
   "cell_type": "markdown",
   "metadata": {},
   "source": [
    "14. Create a Python program that checks if a given year is a leap year using both if-else and a function.\n"
   ]
  },
  {
   "cell_type": "code",
   "execution_count": null,
   "metadata": {},
   "outputs": [],
   "source": [
    "def leap_year(year):\n",
    "    if year % 4 == 0:\n",
    "        if year % 100 == 0:\n",
    "            if year % 400 == 0:\n",
    "                return True\n",
    "            else:\n",
    "                return False\n",
    "        else:\n",
    "            return True\n",
    "    else:\n",
    "        return False\n",
    "year = int(input(\"Enter the year: \"))\n",
    "print(leap_year(year))"
   ]
  },
  {
   "cell_type": "markdown",
   "metadata": {},
   "source": [
    "15. How do you use the \"assert\" statement in Python to add debugging checks within if-else blocks?\n"
   ]
  },
  {
   "cell_type": "code",
   "execution_count": null,
   "metadata": {},
   "outputs": [],
   "source": [
    "x = 2\n",
    "if x >=5:\n",
    "     assert x == 5 #assert statement to check for conditions that are likely to be true, but not guaranteed to be true. If the condition is false, an AssertionError is raised.\n",
    "     print(\"x is equal to 5\")\n",
    "else:\n",
    "     print(\"x is not equal to 5\")"
   ]
  },
  {
   "cell_type": "markdown",
   "metadata": {},
   "source": [
    "16. Create a Python program that determines the eligibility of a person for a senior citizen discount based on age using if-else.\n"
   ]
  },
  {
   "cell_type": "code",
   "execution_count": null,
   "metadata": {},
   "outputs": [],
   "source": [
    "def discount_amount(amount):\n",
    "  if amount > 1000:\n",
    "    return amount * 0.1\n",
    "  else:\n",
    "    return amount * 0.05"
   ]
  },
  {
   "cell_type": "markdown",
   "metadata": {},
   "source": [
    "17. Write a Python program to categorize a given character as uppercase, lowercase, or neither using if-else.\n"
   ]
  },
  {
   "cell_type": "code",
   "execution_count": null,
   "metadata": {},
   "outputs": [],
   "source": [
    "def given_character(char):\n",
    "  if char.isupper():\n",
    "    print(char, \"is uppercase\")\n",
    "  elif char.islower():\n",
    "    print(char, \"is lowercase\")\n",
    "  else:\n",
    "    print(char, \"is neither uppercase nor lowercase\")"
   ]
  },
  {
   "cell_type": "markdown",
   "metadata": {},
   "source": [
    "18. Write a Python program to determine the roots of a quadratic equation using if-else.\n"
   ]
  },
  {
   "cell_type": "code",
   "execution_count": null,
   "metadata": {},
   "outputs": [
    {
     "name": "stdout",
     "output_type": "stream",
     "text": [
      "-12 Roots are imaginary\n"
     ]
    }
   ],
   "source": [
    "def quadratic_equation(a, b, c, q):\n",
    "  if q > 0:\n",
    "    print(f\"{q} which are real and different\")\n",
    "  elif q == 0:\n",
    "    print(f\"{q} which are real and equal\")\n",
    "  else:\n",
    "    print(f\"{q} which are imaginary\")\n",
    "\n",
    "b = int(input(\"Enter the value of b: \"))\n",
    "a = int(input(\"Enter the value of a: \"))\n",
    "c = int(input(\"Enter the value of c: \"))\n",
    "q = b^2 - 4*a*c\n",
    "quadratic_equation(a, b, c, q)"
   ]
  },
  {
   "cell_type": "markdown",
   "metadata": {},
   "source": [
    "19. Create a Python program that checks if a given year is a century year or not using if-else.\n"
   ]
  },
  {
   "cell_type": "code",
   "execution_count": null,
   "metadata": {},
   "outputs": [
    {
     "name": "stdout",
     "output_type": "stream",
     "text": [
      "13\n"
     ]
    }
   ],
   "source": [
    "def century_year(year):\n",
    "\n",
    "  if year % 100 == 0:\n",
    "    return year // 100\n",
    "  else:\n",
    "    return year // 100 + 1"
   ]
  },
  {
   "cell_type": "markdown",
   "metadata": {},
   "source": [
    "20. Write a Python program to determine if a given number is a perfect square using if-else.\n"
   ]
  },
  {
   "cell_type": "code",
   "execution_count": null,
   "metadata": {},
   "outputs": [
    {
     "name": "stdout",
     "output_type": "stream",
     "text": [
      "True\n"
     ]
    }
   ],
   "source": [
    "def given_number(number):\n",
    "  if number**0.5 == int(number**0.5):\n",
    "    return True\n",
    "  else:\n",
    "    return False\n",
    "number = int(input(\"Enter a number: \"))\n",
    "print(given_number(number))"
   ]
  },
  {
   "cell_type": "markdown",
   "metadata": {},
   "source": [
    "21. Explain the purpose of the \"continue\" and \"break\" statements within if-else loops.\n"
   ]
  },
  {
   "cell_type": "markdown",
   "metadata": {},
   "source": [
    " 1. Continue is used to skip the current iteration of the loop and move on to the next iteration.\n",
    " 2. Break is used to skip the loop completely."
   ]
  },
  {
   "cell_type": "markdown",
   "metadata": {},
   "source": [
    "22. Create a Python program that calculates the BMI (Body Mass Index) of a person based on their weight and height using if-else.\n"
   ]
  },
  {
   "cell_type": "code",
   "execution_count": null,
   "metadata": {},
   "outputs": [],
   "source": [
    "def calculate_bmi(weight, height):\n",
    "  bmi = weight / (height**2)\n",
    "  if bmi < 18.5:\n",
    "    return \"Underweight\"\n",
    "  elif bmi < 25:\n",
    "    return \"Normal\"\n",
    "  elif bmi < 30:\n",
    "    return \"Overweight\"\n",
    "  else:\n",
    "    return \"Obese\"\n",
    "weight = float(input(\"Enter your weight in kg: \"))\n",
    "height = float(input(\"Enter your height in m: \"))\n",
    "print(calculate_bmi(weight, height))"
   ]
  },
  {
   "cell_type": "markdown",
   "metadata": {},
   "source": [
    "23. How can you use the \"filter()\" function with if-else statements to filter elements from a list?\n"
   ]
  },
  {
   "cell_type": "markdown",
   "metadata": {},
   "source": [
    "filter() function is used to filter elements from a list."
   ]
  },
  {
   "cell_type": "code",
   "execution_count": null,
   "metadata": {},
   "outputs": [],
   "source": [
    "lst = [1, 2, 3, 4, 5, 6, 7, 8, 9, 10]\n",
    "filtered = filter(lambda x: x % 2 == 0, lst)\n",
    "print(list(filtered))"
   ]
  },
  {
   "cell_type": "markdown",
   "metadata": {},
   "source": [
    "24. Write a Python program to determine if a given number is prime or not using if-else."
   ]
  },
  {
   "cell_type": "code",
   "execution_count": null,
   "metadata": {},
   "outputs": [],
   "source": [
    "def is_prime(x):\n",
    "  for i in range(2, x):\n",
    "    if x % i == 0:\n",
    "      return False\n",
    "  return True"
   ]
  },
  {
   "cell_type": "markdown",
   "metadata": {},
   "source": [
    "Map :-"
   ]
  },
  {
   "cell_type": "markdown",
   "metadata": {},
   "source": [
    "\n",
    "\n",
    "\n",
    "1. Explain the purpose of the `map()` function in Python and provide an example of how it can be used to apply a function to each element of an iterable.\n"
   ]
  },
  {
   "cell_type": "markdown",
   "metadata": {},
   "source": [
    "Map() function is used to apply a given function to all the elements of an iterable (tuple, lists, etc.)\n"
   ]
  },
  {
   "cell_type": "code",
   "execution_count": null,
   "metadata": {},
   "outputs": [
    {
     "name": "stdout",
     "output_type": "stream",
     "text": [
      "[1, 4, 9]\n"
     ]
    }
   ],
   "source": [
    "number = int(input(\"Enter a number: \"))\n",
    "\n",
    "def given_function(number, function):\n",
    "  print(list(map(function, range(1, number + 1))))\n",
    "\n",
    "given_function(number, lambda x: x ** 2)"
   ]
  },
  {
   "cell_type": "markdown",
   "metadata": {},
   "source": [
    "2. Write a Python program that uses the `map()` function to square each element of a list of numbers.\n"
   ]
  },
  {
   "cell_type": "code",
   "execution_count": null,
   "metadata": {},
   "outputs": [],
   "source": [
    "def square(x):\n",
    "  return x**2\n",
    "x = [1, 2, 3, 4, 5]\n",
    "print(list(map(square, x)))"
   ]
  },
  {
   "cell_type": "markdown",
   "metadata": {},
   "source": [
    "3. How does the `map()` function differ from a list comprehension in Python, and when would you choose one over the other?\n"
   ]
  },
  {
   "cell_type": "code",
   "execution_count": null,
   "metadata": {},
   "outputs": [],
   "source": [
    "numbers = [1, 2, 3, 4, 5]\n",
    "\n",
    "def square(x):\n",
    "    return x ** 2\n",
    "\n",
    "squared_numbers = map(square, numbers)\n",
    "print(list(squared_numbers))  \n",
    "\n",
    "# Using a list comprehension\n",
    "squared_numbers = [square(x) for x in numbers]\n",
    "print(squared_numbers)"
   ]
  },
  {
   "cell_type": "markdown",
   "metadata": {},
   "source": [
    "4. Create a Python program that uses the `map()` function to convert a list of names to uppercase.\n"
   ]
  },
  {
   "cell_type": "code",
   "execution_count": null,
   "metadata": {},
   "outputs": [
    {
     "name": "stdout",
     "output_type": "stream",
     "text": [
      "['APPLE', 'BANANA', 'CHERRY']\n"
     ]
    }
   ],
   "source": [
    "l = [\"apple\", \"banana\", \"cherry\"]\n",
    "print(list(map(str.upper, l)))"
   ]
  },
  {
   "cell_type": "markdown",
   "metadata": {},
   "source": [
    "5. Write a Python program that uses the `map()` function to calculate the length of each word in a list of strings.\n"
   ]
  },
  {
   "cell_type": "code",
   "execution_count": null,
   "metadata": {},
   "outputs": [
    {
     "name": "stdout",
     "output_type": "stream",
     "text": [
      "[5, 6, 6]\n"
     ]
    }
   ],
   "source": [
    "l = [\"apple\", \"banana\", \"cherry\"]\n",
    "print(list(map(len, l)))"
   ]
  },
  {
   "cell_type": "markdown",
   "metadata": {},
   "source": [
    "6. How can you use the `map()` function to apply a custom function to elements of multiple lists simultaneously in Python?\n"
   ]
  },
  {
   "cell_type": "code",
   "execution_count": null,
   "metadata": {},
   "outputs": [],
   "source": [
    "def square_list(x, y):\n",
    "  return x*y\n",
    "x = [1, 2, 3, 4]\n",
    "y = [5, 6, 7, 8]\n",
    "print(list(map(square_list, x, y)))\n",
    " "
   ]
  },
  {
   "cell_type": "markdown",
   "metadata": {},
   "source": [
    "7. Create a Python program that uses `map()` to convert a list of temperatures from Celsius to Fahrenheit."
   ]
  },
  {
   "cell_type": "code",
   "execution_count": null,
   "metadata": {},
   "outputs": [],
   "source": [
    "c = [0, 10, 20, 40]\n",
    "f = list(map(lambda x: (x * 9/5) + 32, c))"
   ]
  },
  {
   "cell_type": "markdown",
   "metadata": {},
   "source": [
    "8. Write a Python program that uses the `map()` function to round each element of a list of floating-point numbers to the nearest integer."
   ]
  },
  {
   "cell_type": "code",
   "execution_count": null,
   "metadata": {},
   "outputs": [],
   "source": [
    "def rounder(x):\n",
    "  return round(x)\n",
    "numbers = [1.5, 2.5, 3.5, 4.5]\n",
    "print(list(map(rounder, numbers)))"
   ]
  },
  {
   "cell_type": "markdown",
   "metadata": {},
   "source": [
    "Reduce :-\n",
    "\n",
    "\n"
   ]
  },
  {
   "cell_type": "markdown",
   "metadata": {},
   "source": [
    "1. What is the `reduce()` function in Python, and what module should you import to use it? Provide an example of its basic usage.\n"
   ]
  },
  {
   "cell_type": "markdown",
   "metadata": {},
   "source": [
    "reduce() is a higher-order function in Python that takes a function and an iterable as arguments and returns a single value.\n",
    "import functools is used to import the reduce() function"
   ]
  },
  {
   "cell_type": "markdown",
   "metadata": {},
   "source": [
    "2. Write a Python program that uses the `reduce()` function to find the product of all elements in a list.\n"
   ]
  },
  {
   "cell_type": "code",
   "execution_count": null,
   "metadata": {},
   "outputs": [
    {
     "name": "stdout",
     "output_type": "stream",
     "text": [
      "120\n"
     ]
    }
   ],
   "source": [
    "import functools\n",
    "lst = [1, 2, 3, 4, 5]\n",
    "def product(lst):\n",
    "  return functools.reduce(lambda x, y: x * y, lst)\n",
    "print(product(lst))"
   ]
  },
  {
   "cell_type": "markdown",
   "metadata": {},
   "source": [
    "3. Create a Python program that uses `reduce()` to find the maximum element in a list of numbers.\n"
   ]
  },
  {
   "cell_type": "code",
   "execution_count": null,
   "metadata": {},
   "outputs": [
    {
     "name": "stdout",
     "output_type": "stream",
     "text": [
      "5\n"
     ]
    }
   ],
   "source": [
    "import functools\n",
    "lst = [1, 2, 3, 4, 5]\n",
    "def max(lst):\n",
    "     return functools.reduce(lambda x, y: x if x > y else y, lst)\n",
    "print(max(lst))"
   ]
  },
  {
   "cell_type": "markdown",
   "metadata": {},
   "source": [
    "4. How can you use the `reduce()` function to concatenate a list of strings into a single string?\n"
   ]
  },
  {
   "cell_type": "code",
   "execution_count": null,
   "metadata": {},
   "outputs": [],
   "source": [
    "lst = [\"apple\", \"banana\", \"cherry\"]\n",
    "import functools\n",
    "def concatenation(lst):\n",
    "    return functools.reduce(lambda x, y: x + y, lst)\n",
    "print(concatenation(lst))"
   ]
  },
  {
   "cell_type": "markdown",
   "metadata": {},
   "source": [
    "5. Write a Python program that calculates the factorial of a number using the `reduce()` function.\n"
   ]
  },
  {
   "cell_type": "code",
   "execution_count": null,
   "metadata": {},
   "outputs": [
    {
     "name": "stdout",
     "output_type": "stream",
     "text": [
      "1124000727777607680000\n"
     ]
    }
   ],
   "source": [
    "import functools\n",
    "def factorial(n):\n",
    "  return functools.reduce(lambda x, y: x * y, range(1, n + 1))\n",
    "n = int(input(\"Enter a number: \"))\n",
    "print(factorial(n))"
   ]
  },
  {
   "cell_type": "markdown",
   "metadata": {},
   "source": [
    "6. Create a Python program that uses `reduce()` to find the GCD (Greatest Common Divisor) of a list of numbers.\n"
   ]
  },
  {
   "cell_type": "code",
   "execution_count": null,
   "metadata": {},
   "outputs": [],
   "source": [
    "import functools\n",
    "def gcd(a, b):\n",
    "  return functools.reduce(lambda x, y: x if x % y == 0 else y, max(a, b))\n",
    "a = int(input(\"Enter a number: \"))\n",
    "b = int(input(\"Enter a number: \"))\n",
    "print(gcd(a, b))"
   ]
  },
  {
   "cell_type": "markdown",
   "metadata": {},
   "source": [
    "7. Write a Python program that uses the `reduce()` function to find the sum of the digits of a given number.\n"
   ]
  },
  {
   "cell_type": "code",
   "execution_count": null,
   "metadata": {},
   "outputs": [
    {
     "name": "stdout",
     "output_type": "stream",
     "text": [
      "23\n"
     ]
    }
   ],
   "source": [
    "import functools\n",
    "def sum_digits(n):\n",
    "  return functools.reduce(lambda x, y: x + y, map(int, str(n)))\n",
    "n = int(input(\"Enter a number: \"))\n",
    "print(sum_digits(n))"
   ]
  },
  {
   "cell_type": "markdown",
   "metadata": {},
   "source": [
    "Filter :-"
   ]
  },
  {
   "cell_type": "markdown",
   "metadata": {},
   "source": [
    "1. Explain the purpose of the `filter()` function in Python and provide an example of how it can be used to filter elements from an iterable.\n"
   ]
  },
  {
   "cell_type": "markdown",
   "metadata": {},
   "source": [
    "filter() function is used to apply a given function to all the elements of an iterable (tuple, lists, etc.)"
   ]
  },
  {
   "cell_type": "code",
   "execution_count": null,
   "metadata": {},
   "outputs": [],
   "source": [
    "user_ages = {\n",
    "    \"A\": 25,\n",
    "    \"B\": 30,\n",
    "    \"C\": 35\n",
    "}\n",
    "\n",
    "adult_users = filter(lambda user: user[\"age\"] > 18, user_ages.items())\n",
    "\n",
    "print(list(adult_users))"
   ]
  },
  {
   "cell_type": "markdown",
   "metadata": {},
   "source": [
    "2. Write a Python program that uses the `filter()` function to select even numbers from a list of integers.\n"
   ]
  },
  {
   "cell_type": "code",
   "execution_count": null,
   "metadata": {},
   "outputs": [],
   "source": [
    "x = [1, 2, 3, 4, 5, 6, 7, 8, 9, 10]\n",
    "def is_even(x):\n",
    "  return filter(lambda x: x % 2 == 0, x)"
   ]
  },
  {
   "cell_type": "markdown",
   "metadata": {},
   "source": [
    "3. Create a Python program that uses the `filter()` function to select names that start with a specific letter from a list of strings.\n"
   ]
  },
  {
   "cell_type": "code",
   "execution_count": null,
   "metadata": {},
   "outputs": [
    {
     "name": "stdout",
     "output_type": "stream",
     "text": [
      "['apple,']\n"
     ]
    }
   ],
   "source": [
    "def starts_with_letter(lst, letter):\n",
    "  return filter(lambda x: x.startswith(letter), lst)\n",
    "input_lst = input(\"Enter a list of names: \").split()\n",
    "lst = []\n",
    "for i in input_lst:\n",
    "  lst.append(i.strip())\n",
    "letter = input(\"Enter a letter: \")\n",
    "print(list(starts_with_letter(lst, letter)))"
   ]
  },
  {
   "cell_type": "markdown",
   "metadata": {},
   "source": [
    "4. Write a Python program that uses the `filter()` function to select prime numbers from a list of integers.\n"
   ]
  },
  {
   "cell_type": "code",
   "execution_count": null,
   "metadata": {},
   "outputs": [],
   "source": [
    "def is_prime(x):\n",
    "     return filter(lambda x: x % x == 0, range(2, x))\n",
    "x = int(input(\"Enter a number: \"))\n",
    "print(list(is_prime(x)))"
   ]
  },
  {
   "cell_type": "markdown",
   "metadata": {},
   "source": [
    "5. How can you use the `filter()` function to remove None values from a list in Python?\n"
   ]
  },
  {
   "cell_type": "code",
   "execution_count": null,
   "metadata": {},
   "outputs": [],
   "source": [
    "def remove_None(lst):\n",
    "     return filter(None, lst)\n",
    "lst = [1, None, 2, None, 3, None]\n",
    "print(list(remove_None(lst)))"
   ]
  },
  {
   "cell_type": "markdown",
   "metadata": {},
   "source": [
    "6. Create a Python program that uses `filter()` to select words longer than a certain length from a list of strings.\n"
   ]
  },
  {
   "cell_type": "code",
   "execution_count": null,
   "metadata": {},
   "outputs": [
    {
     "name": "stdout",
     "output_type": "stream",
     "text": [
      "Words longer than 3 characters: ['Fire', 'Water']\n"
     ]
    }
   ],
   "source": [
    "lst = [\"Fire\", \"Air\", \"Water\"]\n",
    "\n",
    "def select_words(lst, threshold):\n",
    "    return filter(lambda x: len(x) > threshold, lst)\n",
    "\n",
    "threshold = int(input(\"Enter the minimum length for selecting words: \"))  \n",
    "print(list(select_words(lst, threshold)))\n"
   ]
  },
  {
   "cell_type": "markdown",
   "metadata": {},
   "source": [
    "7. Write a Python program that uses the `filter()` function to select elements greater than a specified threshold from a list of values."
   ]
  },
  {
   "cell_type": "code",
   "execution_count": null,
   "metadata": {},
   "outputs": [
    {
     "ename": "TypeError",
     "evalue": "'list' object is not callable",
     "output_type": "error",
     "traceback": [
      "\u001b[1;31m---------------------------------------------------------------------------\u001b[0m",
      "\u001b[1;31mTypeError\u001b[0m                                 Traceback (most recent call last)",
      "\u001b[1;32mc:\\Users\\RS\\OneDrive\\Documents\\DS\\Ineuron Assignment\\Untitled-1.ipynb Cell 146\u001b[0m line \u001b[0;36m2\n\u001b[0;32m      <a href='vscode-notebook-cell:/c%3A/Users/RS/OneDrive/Documents/DS/Ineuron%20Assignment/Untitled-1.ipynb#Y336sZmlsZQ%3D%3D?line=0'>1</a>\u001b[0m lst2 \u001b[39m=\u001b[39m [\u001b[39m\"\u001b[39m\u001b[39mFire\u001b[39m\u001b[39m\"\u001b[39m, \u001b[39m\"\u001b[39m\u001b[39mAir\u001b[39m\u001b[39m\"\u001b[39m, \u001b[39m\"\u001b[39m\u001b[39mWater\u001b[39m\u001b[39m\"\u001b[39m]\n\u001b[1;32m----> <a href='vscode-notebook-cell:/c%3A/Users/RS/OneDrive/Documents/DS/Ineuron%20Assignment/Untitled-1.ipynb#Y336sZmlsZQ%3D%3D?line=1'>2</a>\u001b[0m threshold \u001b[39m=\u001b[39m \u001b[39mint\u001b[39m(\u001b[39minput\u001b[39m(\u001b[39m\"\u001b[39m\u001b[39mEnter the threshold: \u001b[39m\u001b[39m\"\u001b[39m))\n\u001b[0;32m      <a href='vscode-notebook-cell:/c%3A/Users/RS/OneDrive/Documents/DS/Ineuron%20Assignment/Untitled-1.ipynb#Y336sZmlsZQ%3D%3D?line=3'>4</a>\u001b[0m filtered_elements \u001b[39m=\u001b[39m element_greater(lst2, threshold)\n\u001b[0;32m      <a href='vscode-notebook-cell:/c%3A/Users/RS/OneDrive/Documents/DS/Ineuron%20Assignment/Untitled-1.ipynb#Y336sZmlsZQ%3D%3D?line=5'>6</a>\u001b[0m \u001b[39mprint\u001b[39m(\u001b[39m\"\u001b[39m\u001b[39mElements greater than the threshold:\u001b[39m\u001b[39m\"\u001b[39m, \u001b[39mlist\u001b[39m(filtered_elements))\n",
      "\u001b[1;31mTypeError\u001b[0m: 'list' object is not callable"
     ]
    }
   ],
   "source": [
    "def greater_than_threshold(value):\n",
    "    threshold = 5\n",
    "    return value > threshold\n",
    "\n",
    "values = [2, 4, 6, 8, 10]\n",
    "\n",
    "filtered_values = list(filter(greater_than_threshold, values))\n",
    "print(filtered_values)\n"
   ]
  },
  {
   "cell_type": "markdown",
   "metadata": {},
   "source": [
    "Recursion:-\n",
    "\n",
    "\n"
   ]
  },
  {
   "cell_type": "markdown",
   "metadata": {},
   "source": [
    "1. Explain the concept of recursion in Python. How does it differ from iteration?\n"
   ]
  },
  {
   "cell_type": "markdown",
   "metadata": {},
   "source": [
    "Recursion is a technique in which a function calls itself. It differs from iteration in that\n",
    "Recursion uses a function to repeat itself, while iteration uses a loop."
   ]
  },
  {
   "cell_type": "markdown",
   "metadata": {},
   "source": [
    "2. Write a Python program to calculate the factorial of a number using recursion.\n"
   ]
  },
  {
   "cell_type": "code",
   "execution_count": null,
   "metadata": {},
   "outputs": [],
   "source": [
    "def factorial(n):\n",
    "    if n == 1:\n",
    "        return 1\n",
    "    else:\n",
    "        return n * factorial(n-1)\n",
    "n = int(input(\"Enter a number: \"))\n",
    "print(factorial(n))"
   ]
  },
  {
   "cell_type": "markdown",
   "metadata": {},
   "source": [
    "3. Create a recursive Python function to find the nth Fibonacci number.\n"
   ]
  },
  {
   "cell_type": "code",
   "execution_count": null,
   "metadata": {},
   "outputs": [],
   "source": [
    "def fibnacci(n):\n",
    "    if n == 0:\n",
    "        return 0\n",
    "    elif n == 1:\n",
    "        return 1\n",
    "    else:\n",
    "        return fibnacci(n-1) + fibnacci(n-2)\n",
    "n = int(input(\"Enter a number: \"))\n",
    "print(fibnacci(n))"
   ]
  },
  {
   "cell_type": "markdown",
   "metadata": {},
   "source": [
    "-----------\n",
    "4. Write a recursive Python function to calculate the sum of all elements in a list.\n"
   ]
  },
  {
   "cell_type": "code",
   "execution_count": null,
   "metadata": {},
   "outputs": [
    {
     "name": "stdout",
     "output_type": "stream",
     "text": [
      "1\n"
     ]
    }
   ],
   "source": [
    "def calculate_sum(lst):\n",
    "    if not lst:\n",
    "        return 0\n",
    "    else:\n",
    "        n = lst[0]\n",
    "        rest_of_list = lst[1:]\n",
    "        return n + calculate_sum(rest_of_list)\n",
    "    \n",
    "n = int(input(\"Enter the number of elements: \"))\n",
    "lst = []\n",
    "for i in range(n):\n",
    "    lst.append(i)\n",
    "\n",
    "print(calculate_sum(lst))"
   ]
  },
  {
   "cell_type": "markdown",
   "metadata": {},
   "source": [
    "-----------\n",
    "5. How can you prevent a recursive function from running indefinitely, causing a stack overflow error?\n"
   ]
  },
  {
   "cell_type": "code",
   "execution_count": null,
   "metadata": {},
   "outputs": [],
   "source": []
  },
  {
   "cell_type": "markdown",
   "metadata": {},
   "source": [
    "---------\n",
    "6. Create a recursive Python function to find the greatest common divisor (GCD) of two numbers using the Euclidean algorithm.\n"
   ]
  },
  {
   "cell_type": "code",
   "execution_count": null,
   "metadata": {},
   "outputs": [],
   "source": [
    "def gcd_recursive(a, b):\n",
    "    return a if b == 0 else gcd_recursive(b, a % b)\n",
    "\n",
    "num1 = int(input(\"Enter the first number: \"))\n",
    "num2 = int(input(\"Enter the second number: \"))\n",
    "print(\"The GCD of\", num1, \"and\", num2, \"is:\", gcd_recursive(num1, num2))\n"
   ]
  },
  {
   "cell_type": "markdown",
   "metadata": {},
   "source": [
    "----------\n",
    "7. Write a recursive Python function to reverse a string.\n"
   ]
  },
  {
   "cell_type": "code",
   "execution_count": null,
   "metadata": {},
   "outputs": [],
   "source": [
    "def reverse_string(s):\n",
    "    if len(s) == 0:\n",
    "        return s\n",
    "    else:\n",
    "        return s[-1] + reverse_string(s[:-1])\n",
    "s = input(\"Enter a string: \")\n",
    "print(reverse_string(s))"
   ]
  },
  {
   "cell_type": "markdown",
   "metadata": {},
   "source": [
    "--------\n",
    "8. Create a recursive Python function to calculate the power of a number (x^n).\n"
   ]
  },
  {
   "cell_type": "code",
   "execution_count": null,
   "metadata": {},
   "outputs": [],
   "source": [
    "def power(x, y):\n",
    "    if y == 0:\n",
    "        return 1\n",
    "    else:\n",
    "        return x * power(x, y-1)\n",
    "x = int(input(\"Enter the base number: \"))\n",
    "y = int(input(\"Enter the exponent: \"))\n",
    "print(power(x, y))"
   ]
  },
  {
   "cell_type": "markdown",
   "metadata": {},
   "source": [
    "----\n",
    "9. Write a recursive Python function to find all permutations of a given string.\n"
   ]
  },
  {
   "cell_type": "code",
   "execution_count": null,
   "metadata": {},
   "outputs": [],
   "source": [
    "def permuations(st):\n",
    "     if len(st) == 1:\n",
    "         return [st]\n",
    "     else:\n",
    "         result = []\n",
    "         for i in range(len(st)):\n",
    "             for perm in permuations(st[:i] + st[i+1:]):\n",
    "                 result.append(st[i] + perm)\n",
    "         return result\n",
    "     "
   ]
  },
  {
   "cell_type": "markdown",
   "metadata": {},
   "source": [
    "----\n",
    "10. Write a recursive Python function to check if a string is a palindrome.\n"
   ]
  },
  {
   "cell_type": "code",
   "execution_count": null,
   "metadata": {},
   "outputs": [],
   "source": [
    "def isplaindrome(st):\n",
    "     return st == st[::-1]\n",
    "st = input(\"Enter a string: \")\n",
    "print(isplaindrome(st))"
   ]
  },
  {
   "cell_type": "markdown",
   "metadata": {},
   "source": [
    "---\n",
    "11. Create a recursive Python function to generate all possible combinations of a list of elements."
   ]
  },
  {
   "cell_type": "code",
   "execution_count": null,
   "metadata": {},
   "outputs": [
    {
     "name": "stdout",
     "output_type": "stream",
     "text": [
      "[[1, 2], [1, 3], [2, 3]]\n"
     ]
    }
   ],
   "source": [
    "def combinations(lst, n):\n",
    "    if n == 0:\n",
    "        return [[]]\n",
    "    else:\n",
    "        result = []\n",
    "        for i in range(len(lst)):\n",
    "            for comb in combinations(lst[i+1:], n-1):\n",
    "                result.append([lst[i]] + comb)\n",
    "        return result\n",
    "lst = [1, 2, 3]\n",
    "print(combinations(lst, 2))"
   ]
  },
  {
   "cell_type": "markdown",
   "metadata": {},
   "source": [
    "Basics of Functions:\n",
    "\n",
    "\n"
   ]
  },
  {
   "cell_type": "markdown",
   "metadata": {},
   "source": [
    "1. What is a function in Python, and why is it used?\n"
   ]
  },
  {
   "cell_type": "markdown",
   "metadata": {},
   "source": [
    "+ Functions are a way to group code together to perform a specific task. Code is oragnized into modular and reusable pieces of code.\n"
   ]
  },
  {
   "cell_type": "markdown",
   "metadata": {},
   "source": [
    "2. How do you define a function in Python? Provide an example.\n"
   ]
  },
  {
   "cell_type": "markdown",
   "metadata": {},
   "source": [
    "+ They are defined using the def keyword, followed by the function name, a pair of parentheses, and a colon."
   ]
  },
  {
   "cell_type": "markdown",
   "metadata": {},
   "source": [
    "----------\n",
    "3. Explain the difference between a function definition and a function call.\n"
   ]
  },
  {
   "cell_type": "markdown",
   "metadata": {},
   "source": [
    "+ A function definition is a process of creating a new function. In Python, a function is defined using the def keyword.\n",
    "\n",
    "+ A function call is process of invoking or executing a function."
   ]
  },
  {
   "cell_type": "code",
   "execution_count": null,
   "metadata": {},
   "outputs": [
    {
     "name": "stdout",
     "output_type": "stream",
     "text": [
      "My name is Rahul\n"
     ]
    }
   ],
   "source": [
    "##Example:\n",
    "# Function name\n",
    "def name(x):\n",
    "     print(\"My name is \"+x)\n",
    "# Function call\n",
    "name(\"Rahul\") "
   ]
  },
  {
   "cell_type": "markdown",
   "metadata": {},
   "source": [
    "-----------\n",
    "4. Write a Python program that defines a function to calculate the sum of two numbers and then calls the function.\n"
   ]
  },
  {
   "cell_type": "code",
   "execution_count": null,
   "metadata": {},
   "outputs": [],
   "source": [
    "def sum(x, y):\n",
    "    return x + y\n",
    "print(sum(2, 3))"
   ]
  },
  {
   "cell_type": "markdown",
   "metadata": {},
   "source": [
    "--------\n",
    "5. What is a function signature, and what information does it typically include?\n"
   ]
  },
  {
   "cell_type": "markdown",
   "metadata": {},
   "source": [
    "A function signature is a concise way to describe the essential information about a function. It typically includes the function name, parameter types, and return type. The function signature provides a high-level overview of the function's interface without going into the implementation details."
   ]
  },
  {
   "cell_type": "markdown",
   "metadata": {},
   "source": [
    "6. Create a Python function that takes two arguments and returns their product."
   ]
  },
  {
   "cell_type": "code",
   "execution_count": null,
   "metadata": {},
   "outputs": [
    {
     "name": "stdout",
     "output_type": "stream",
     "text": [
      "12\n"
     ]
    }
   ],
   "source": [
    "def product(x, y):\n",
    "    return x * y\n",
    "print(product(4, 3))"
   ]
  },
  {
   "cell_type": "markdown",
   "metadata": {},
   "source": [
    "Function Parameters and Arguments:\n",
    "\n"
   ]
  },
  {
   "cell_type": "markdown",
   "metadata": {},
   "source": [
    "---\n",
    "1. Explain the concepts of formal parameters and actual arguments in Python functions.\n"
   ]
  },
  {
   "cell_type": "markdown",
   "metadata": {},
   "source": [
    "+ Formal arguments = Function paramters that are defined are called Formal arguments.\n",
    "+ Actual arguments = Function parameters that are passed to the function are called Actual arguments"
   ]
  },
  {
   "cell_type": "code",
   "execution_count": null,
   "metadata": {},
   "outputs": [],
   "source": [
    "# Formal arguement\n",
    "def add(x, y):\n",
    "    z = x + y\n",
    "    print(z)\n"
   ]
  },
  {
   "cell_type": "code",
   "execution_count": null,
   "metadata": {},
   "outputs": [
    {
     "name": "stdout",
     "output_type": "stream",
     "text": [
      "5\n"
     ]
    }
   ],
   "source": [
    "# Actual arguement\n",
    "add(2, 3)"
   ]
  },
  {
   "cell_type": "markdown",
   "metadata": {},
   "source": [
    "----\n",
    "2. Write a Python program that defines a function with default argument values.\n"
   ]
  },
  {
   "cell_type": "code",
   "execution_count": null,
   "metadata": {},
   "outputs": [
    {
     "name": "stdout",
     "output_type": "stream",
     "text": [
      "3\n",
      "6\n"
     ]
    }
   ],
   "source": [
    "def default_values(x, y, z = 0):\n",
    "    print(x + y + z)\n",
    "\n",
    "default_values(x = 1, y = 2)\n",
    "default_values(x = 1, y = 2, z = 3)\n"
   ]
  },
  {
   "cell_type": "markdown",
   "metadata": {},
   "source": [
    "---\n",
    "3. How do you use keyword arguments in Python function calls? Provide an example.\n",
    "\n"
   ]
  },
  {
   "cell_type": "code",
   "execution_count": null,
   "metadata": {},
   "outputs": [
    {
     "name": "stdout",
     "output_type": "stream",
     "text": [
      "temperature 20\n",
      "color blue\n"
     ]
    }
   ],
   "source": [
    "def matter(temperature, color):\n",
    "  print('temperature', temperature)\n",
    "  print('color', color)\n",
    "\n",
    "matter(color = 'blue', temperature = 20)"
   ]
  },
  {
   "cell_type": "markdown",
   "metadata": {},
   "source": [
    "------\n",
    "4. Create a Python function that accepts a variable number of arguments and calculates their sum.\n"
   ]
  },
  {
   "cell_type": "code",
   "execution_count": null,
   "metadata": {},
   "outputs": [],
   "source": [
    "# Calculate the sum of all arguments.\n",
    "def var_num(*arg): # *args: Variable number of arguments.\n",
    "     total = 0\n",
    "     for arg in arg:\n",
    "          total+=arg\n",
    "     return total\n",
    "          "
   ]
  },
  {
   "cell_type": "code",
   "execution_count": null,
   "metadata": {},
   "outputs": [
    {
     "data": {
      "text/plain": [
       "17"
      ]
     },
     "execution_count": 2,
     "metadata": {},
     "output_type": "execute_result"
    }
   ],
   "source": [
    "var_num(2,3,5,7)"
   ]
  },
  {
   "cell_type": "markdown",
   "metadata": {},
   "source": [
    "--------\n",
    "5. What is the purpose of the `*args` and `**kwargs` syntax in function parameter lists?"
   ]
  },
  {
   "cell_type": "markdown",
   "metadata": {},
   "source": [
    "The *args and **kwargs are used to pass a variable number of arguments to a function.\n",
    "These function are used when we don't know the exact number of arguments that will be passed."
   ]
  },
  {
   "cell_type": "markdown",
   "metadata": {},
   "source": [
    "Return Values and Scoping:"
   ]
  },
  {
   "cell_type": "markdown",
   "metadata": {},
   "source": [
    "--------\n",
    "1. Describe the role of the `return` statement in Python functions and provide examples."
   ]
  },
  {
   "cell_type": "markdown",
   "metadata": {},
   "source": [
    "The return statement in Python is used to return a value from a function.  In other words, it defines the output of the function. When the return statement is executed, the function's execution stops, and the specified value is sent back to the caller."
   ]
  },
  {
   "cell_type": "code",
   "execution_count": null,
   "metadata": {},
   "outputs": [
    {
     "name": "stdout",
     "output_type": "stream",
     "text": [
      "7\n"
     ]
    }
   ],
   "source": [
    "# basic addition\n",
    "def sum(x, y):\n",
    "    return x + y\n",
    "print(sum(4,3))"
   ]
  },
  {
   "cell_type": "markdown",
   "metadata": {},
   "source": [
    "-------\n",
    "2. Explain the concept of variable scope in Python, including local and global variables."
   ]
  },
  {
   "cell_type": "code",
   "execution_count": null,
   "metadata": {},
   "outputs": [],
   "source": [
    "x = 10  # Global variable\n",
    "\n",
    "def my_function():\n",
    "    y = 20  # Local variable\n",
    "    print(x)  # Accessing the global variable\n",
    "    print(y)  # Accessing the local variable\n",
    "\n",
    "my_function()\n",
    "print(x)  # Accessing the global variable"
   ]
  },
  {
   "cell_type": "markdown",
   "metadata": {},
   "source": [
    "-----\n",
    "3. Explain the use of the `global` keyword in Python program that demonstrates the use of global variables within functions."
   ]
  },
  {
   "cell_type": "code",
   "execution_count": null,
   "metadata": {},
   "outputs": [],
   "source": [
    "def variables():\n",
    "    global x\n",
    "    x = 10\n",
    "    print(x)"
   ]
  },
  {
   "cell_type": "markdown",
   "metadata": {},
   "source": [
    "------\n",
    "4. Create a Python function that calculates the factorial of a number and returns it."
   ]
  },
  {
   "cell_type": "code",
   "execution_count": null,
   "metadata": {},
   "outputs": [],
   "source": [
    "def factorial(x):\n",
    "  factorial = 1\n",
    "  for i in range(1, x + 1):\n",
    "    factorial *= i\n",
    "  return factorial\n"
   ]
  },
  {
   "cell_type": "code",
   "execution_count": null,
   "metadata": {},
   "outputs": [
    {
     "data": {
      "text/plain": [
       "120"
      ]
     },
     "execution_count": 18,
     "metadata": {},
     "output_type": "execute_result"
    }
   ],
   "source": [
    "factorial(5)"
   ]
  },
  {
   "cell_type": "markdown",
   "metadata": {},
   "source": [
    "-----------\n",
    "5. How can you access variables defined outside a function from within the function?"
   ]
  },
  {
   "cell_type": "code",
   "execution_count": null,
   "metadata": {},
   "outputs": [
    {
     "name": "stdout",
     "output_type": "stream",
     "text": [
      "10\n",
      "20\n"
     ]
    }
   ],
   "source": [
    "def var(x, y):\n",
    "    x = 10\n",
    "    y = 20\n",
    "    print(x)\n",
    "    print(y)\n",
    "\n",
    "var(10, 20)"
   ]
  },
  {
   "cell_type": "markdown",
   "metadata": {},
   "source": [
    "Lambda Functions and Higher-Order Functions:"
   ]
  },
  {
   "cell_type": "markdown",
   "metadata": {},
   "source": [
    "-------\n",
    "1. What are lambda functions in Python, and when are they typically used?"
   ]
  },
  {
   "cell_type": "markdown",
   "metadata": {},
   "source": [
    "Lambda function is a function without a name. It is used to create anonymous functions. They are used when a function is required for a short period of time."
   ]
  },
  {
   "cell_type": "markdown",
   "metadata": {},
   "source": [
    "-----\n",
    "2. Write a Python program that uses lambda functions to sort a list of tuples based on the second element."
   ]
  },
  {
   "cell_type": "code",
   "execution_count": null,
   "metadata": {},
   "outputs": [
    {
     "name": "stdout",
     "output_type": "stream",
     "text": [
      "[(3, 'Grocery'), (4, 'Milk products'), (1, 'fruits'), (2, 'vegetables')]\n"
     ]
    }
   ],
   "source": [
    "lst = [(1,'fruits'), (2,'vegetables'), (3,'Grocery'), (4,'Milk products')]\n",
    "sort_lst = sorted(lst, key=lambda x: x[1]) # we use sorted() function to sort the list based on second element of each tuple.\n",
    "print(sort_lst)"
   ]
  },
  {
   "cell_type": "markdown",
   "metadata": {},
   "source": [
    "--------\n",
    "3. Explain the concept of higher-order functions in Python, and provide an example."
   ]
  },
  {
   "cell_type": "markdown",
   "metadata": {},
   "source": [
    "A higher-order function is a function that takes a one or more function as an argument or returns a function as a result.\n",
    "HIgher-order function provide a way to defnine a function operations that can be applied to differernt types of data."
   ]
  },
  {
   "cell_type": "code",
   "execution_count": null,
   "metadata": {},
   "outputs": [
    {
     "name": "stdout",
     "output_type": "stream",
     "text": [
      "30\n",
      "-10\n",
      "200\n"
     ]
    },
    {
     "ename": "",
     "evalue": "",
     "output_type": "error",
     "traceback": [
      "\u001b[1;31mThe Kernel crashed while executing code in the the current cell or a previous cell. Please review the code in the cell(s) to identify a possible cause of the failure. Click <a href='https://aka.ms/vscodeJupyterKernelCrash'>here</a> for more info. View Jupyter <a href='command:jupyter.viewOutput'>log</a> for further details."
     ]
    }
   ],
   "source": [
    "# higher order function takes three arguement and returns one\n",
    "def higher_order(x, y, order):\n",
    "    return order(x, y)\n",
    "def add(x, y):\n",
    "    return x + y\n",
    "def sub(x, y):\n",
    "    return x - y\n",
    "def mul(x, y):\n",
    "    return x * y\n",
    "result = higher_order(10, 20, add)\n",
    "print(result)\n",
    "result = higher_order(10, 20, sub)\n",
    "print(result)\n",
    "result = higher_order(10, 20, mul)\n",
    "print(result)"
   ]
  },
  {
   "cell_type": "markdown",
   "metadata": {},
   "source": [
    "---------\n",
    "4. Create a Python function that takes a list of numbers and a function as arguments, applying the function to each element in the list."
   ]
  },
  {
   "cell_type": "code",
   "execution_count": null,
   "metadata": {},
   "outputs": [
    {
     "name": "stdout",
     "output_type": "stream",
     "text": [
      "[2, 6, 10, 16, 14]\n"
     ]
    }
   ],
   "source": [
    "def apply_function(numbers, function):\n",
    "  result = []\n",
    "  for num in numbers:\n",
    "    result.append(function(num))\n",
    "  return result\n",
    "numbers = [1,3,5,8,7]\n",
    "sum = apply_function(numbers, lambda x: x + x)\n",
    "print(sum)"
   ]
  },
  {
   "cell_type": "markdown",
   "metadata": {},
   "source": [
    "Built-in Functions:"
   ]
  },
  {
   "cell_type": "markdown",
   "metadata": {},
   "source": [
    "----------\n",
    "1. Describe the role of built-in functions like `len()`, `max()`, and `min()` in Python."
   ]
  },
  {
   "cell_type": "markdown",
   "metadata": {},
   "source": [
    "These function are used to perform operations on the sequence of elements in a list.\n",
    "\n",
    "1. len(): To get the length of the list\n",
    "2. min(): To get the minimum value of the list\n",
    "3. max(): To get the maximum value of the list"
   ]
  },
  {
   "cell_type": "markdown",
   "metadata": {},
   "source": [
    "-------\n",
    "2. Write a Python program that uses the `map()` function to apply a function to each element of a list."
   ]
  },
  {
   "cell_type": "code",
   "execution_count": null,
   "metadata": {},
   "outputs": [
    {
     "name": "stdout",
     "output_type": "stream",
     "text": [
      "[2, 6, 10, 16, 14]\n"
     ]
    }
   ],
   "source": [
    "def apply_function(numbers, function):\n",
    "  result = []\n",
    "  for num in numbers:\n",
    "    result.append(function(num))\n",
    "  return result\n",
    "numbers = [1,3,5,8,7]\n",
    "sum = list(map(lambda x: x + x, numbers))\n",
    "print(sum)"
   ]
  },
  {
   "cell_type": "markdown",
   "metadata": {},
   "source": [
    "-------\n",
    "3.How does the `filter()` function work in Python, and when would you use it?"
   ]
  },
  {
   "cell_type": "markdown",
   "metadata": {},
   "source": [
    "The filter() function in Python is used to filter out elements from an iterable based on a given condition. It takes two arguments: a function and an iterable. The function is called for each element in the iterable, and only the elements for which the function returns True are included in the filtered result."
   ]
  },
  {
   "cell_type": "code",
   "execution_count": 10,
   "metadata": {},
   "outputs": [
    {
     "name": "stdout",
     "output_type": "stream",
     "text": [
      "[2, 4, 6, 8, 10]\n"
     ]
    }
   ],
   "source": [
    "numbers = [1, 2, 3, 4, 5, 6, 7, 8, 9, 10]\n",
    "\n",
    "def is_even(num):\n",
    "    return num % 2 == 0\n",
    "\n",
    "filtered_numbers = list(filter(is_even, numbers))\n",
    "print(filtered_numbers)"
   ]
  },
  {
   "cell_type": "markdown",
   "metadata": {},
   "source": [
    "-----\n",
    "4. Create a Python program that uses the `reduce()` function to find the product of all elements in a list."
   ]
  },
  {
   "cell_type": "code",
   "execution_count": 9,
   "metadata": {},
   "outputs": [
    {
     "name": "stdout",
     "output_type": "stream",
     "text": [
      "120\n"
     ]
    }
   ],
   "source": [
    "from functools import reduce\n",
    "\n",
    "def multiply(x, y):\n",
    "    return x * y\n",
    "\n",
    "numbers = [1, 2, 3, 4, 5]\n",
    "\n",
    "product = reduce(multiply, numbers)\n",
    "print(product) "
   ]
  },
  {
   "cell_type": "markdown",
   "metadata": {},
   "source": [
    "### Function Documentation and Best Practices:"
   ]
  },
  {
   "cell_type": "markdown",
   "metadata": {},
   "source": [
    "------\n",
    "1. Explain the purpose of docstrings in Python functions and how to write them."
   ]
  },
  {
   "cell_type": "markdown",
   "metadata": {},
   "source": [
    "Docstrings in Python functions are used to provide documentation or a description of the function's purpose, usage, parameters, and return values. They serve as a form of inline documentation that helps developers understand how to use the function correctly "
   ]
  },
  {
   "cell_type": "code",
   "execution_count": 11,
   "metadata": {},
   "outputs": [],
   "source": [
    "def add_numbers(a, b):\n",
    "\n",
    "    ###Adds two numbers together and returns the result.\n",
    "\n",
    "    ###Parameters:\n",
    "    ###a (int): The first number.\n",
    "    ###b (int): The second number.\n",
    "\n",
    "    ###Returns:\n",
    "    ###int: The sum of the two numbers.\n",
    "    \n",
    "    return a + b"
   ]
  },
  {
   "cell_type": "markdown",
   "metadata": {},
   "source": [
    "----------\n",
    "2. Describe some best practices for naming functions and variables in Python, including naming conventions and guidelines."
   ]
  },
  {
   "cell_type": "markdown",
   "metadata": {},
   "source": [
    "When it comes to naming functions and variables in Python, it's important to follow naming conventions and best practices to ensure code readability and maintainability. Here are some guidelines:\n",
    "\n",
    "Use descriptive names: Choose names that accurately describe the purpose or functionality of the function or variable. This helps make the code self-explanatory and easier to understand.\n",
    "\n",
    "Follow PEP 8: PEP 8 is the official style guide for Python code. It provides recommendations for naming conventions.Be consistent: Maintain consistency in naming across your codebase. Use similar naming patterns for similar functionalities or concepts. This enhances code readability and makes it easier for others to understand your code.\n",
    "\n",
    "Avoid single-letter names: Except for simple loop variables, avoid using single-letter names (e.g., x, i). Instead, use more descriptive names that provide context and meaning.\n",
    "\n",
    "Use verbs for functions: Choose function names that indicate actions or operations. Use verbs to describe what the function does (e.g., calculate_average, get_data).\n",
    "\n",
    "Avoid reserved words: Do not use Python reserved words or built-in function names as function or variable names. This can lead to syntax errors or confusion.\n",
    "\n",
    "Be mindful of scope: Choose variable names that are meaningful within the scope where they are used. Avoid using global variables when possible, as they can lead to naming conflicts and make the code harder to reason about.\n",
    "\n",
    "Consider context: Take into account the context in which the function or variable is used. Use names that are meaningful within that context and make the code more understandable."
   ]
  }
 ],
 "metadata": {
  "kernelspec": {
   "display_name": "base",
   "language": "python",
   "name": "python3"
  },
  "language_info": {
   "codemirror_mode": {
    "name": "ipython",
    "version": 3
   },
   "file_extension": ".py",
   "mimetype": "text/x-python",
   "name": "python",
   "nbconvert_exporter": "python",
   "pygments_lexer": "ipython3",
   "version": "3.11.4"
  },
  "orig_nbformat": 4
 },
 "nbformat": 4,
 "nbformat_minor": 2
}
