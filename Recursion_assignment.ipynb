{
 "cells": [
  {
   "cell_type": "markdown",
   "metadata": {},
   "source": [
    "1. Can you explain the logic and working of the Tower of Hanoi algorithm by writing a Java program?\n",
    "How does the recursion work, and how are the movements of disks between rods accomplished?"
   ]
  },
  {
   "cell_type": "code",
   "execution_count": 1,
   "metadata": {},
   "outputs": [
    {
     "name": "stdout",
     "output_type": "stream",
     "text": [
      "Enter number of disks\n",
      "Move disk 1 from rod A to rod C\n",
      "Move disk 2 from rod A to rod B\n",
      "Move disk 1 from rod C to rod B\n",
      "Move disk 3 from rod A to rod C\n",
      "Move disk 1 from rod B to rod A\n",
      "Move disk 2 from rod B to rod C\n",
      "Move disk 1 from rod A to rod C\n"
     ]
    }
   ],
   "source": [
    "def tower_of_hanoi(n, a, b, c):\n",
    "     if n == 1:\n",
    "          print(\"Move disk 1 from rod\", a, \"to rod\", c)\n",
    "          return\n",
    "     tower_of_hanoi(n - 1, a, c, b)\n",
    "     print(\"Move disk\", n, \"from rod\", a, \"to rod\", c)\n",
    "     tower_of_hanoi(n - 1, b, a, c)\n",
    "print(\"Enter number of disks\")\n",
    "n = int(input())\n",
    "tower_of_hanoi(n, 'A', 'B', 'C')"
   ]
  },
  {
   "cell_type": "markdown",
   "metadata": {},
   "source": [
    "n represents the number of disks to be moved.\n",
    "a, b, and c are three rods (towers) used in the puzzle.\n",
    "\n",
    "Tower of hanoi's goal is to move all the disks from rod to rod c without placing larger disks on top of smaller disks.\n",
    "\n",
    "+ Time complexity: O(2^n)\n",
    "+ Space complexity: O(n)\n",
    "--------"
   ]
  },
  {
   "cell_type": "markdown",
   "metadata": {},
   "source": [
    "2. Given two strings word1 and word2, return the minimum number of operations required to convert word1\n",
    "to word2.\n",
    "\n",
    "Example 1:\n",
    "Input: word1 = \"horse\", word2 = \"ros\"\n",
    "Output: 3\n",
    "Explanation:\n",
    "horse -> rorse (replace 'h' with 'r')\n",
    "rorse -> rose (remove 'r')\n",
    "rose -> ros (remove 'e')\n",
    "\n",
    "Example 2:\n",
    "Input: word1 = \"intention\", word2 = \"execution\"\n",
    "Output: 5\n",
    "Explanation:\n",
    "intention -> inention (remove 't')\n",
    "inention -> enention (replace 'i' with 'e')\n",
    "enention -> exention (replace 'n' with 'x')\n",
    "exention -> exection (replace 'n' with 'c')\n",
    "exection -> execution (insert 'u')"
   ]
  },
  {
   "cell_type": "code",
   "execution_count": 8,
   "metadata": {},
   "outputs": [],
   "source": [
    "def min_number(word1, word2):\n",
    "     m, n = len(word1), len(word2)\n",
    "     list_f = [[0]*(n+1) for _ in range(2)]\n",
    "     for j in range(1, n+1):\n",
    "          list_f[0][j] = j\n",
    "     for i in range(1, min(m, n) + 1):\n",
    "          list_f[i%2][i] = i\n",
    "          for j in range(1, n+1):\n",
    "               if word1[i-1] == word2[j-1]:\n",
    "                    list_f[i%2][j] = list_f[(i-1)%2][j-1]\n",
    "               else:\n",
    "                    list_f[i%2][j] = 1 + min(list_f[i%2][j-1], list_f[(i-1)%2][j], list_f[(i-1)%2][j-1])\n",
    "          return list_f[i%2][j]"
   ]
  },
  {
   "cell_type": "code",
   "execution_count": 9,
   "metadata": {},
   "outputs": [
    {
     "data": {
      "text/plain": [
       "3"
      ]
     },
     "execution_count": 9,
     "metadata": {},
     "output_type": "execute_result"
    }
   ],
   "source": [
    "min_number(word1 = \"horse\", word2 = \"ros\")"
   ]
  },
  {
   "cell_type": "markdown",
   "metadata": {},
   "source": [
    "This is a levenstein distance algorithm where we find the minimum number of operations required to transform one string into another through insertion, deletion and updation of characters.\n",
    "\n",
    "+ Time complexity: O(min(m, n))\n",
    "+ Space complexity: O(n)\n",
    "--------"
   ]
  },
  {
   "cell_type": "markdown",
   "metadata": {},
   "source": [
    "Q. 3 Print the max value of the array [ 13, 1, -3, 22, 5]."
   ]
  },
  {
   "cell_type": "code",
   "execution_count": 4,
   "metadata": {},
   "outputs": [
    {
     "name": "stdout",
     "output_type": "stream",
     "text": [
      "22\n"
     ]
    }
   ],
   "source": [
    "arr = [13, 1, -3, 22, 5]\n",
    "def max_array(arr):\n",
    "     if len(arr) == 1:\n",
    "          return arr[0]\n",
    "     return max(arr[0], max_array(arr[1:]))\n",
    "\n",
    "\n",
    "print(max_array(arr))"
   ]
  },
  {
   "cell_type": "markdown",
   "metadata": {},
   "source": [
    "The function max_array uses recursion to find the maximum value of the array by dividing the array into smaller sub-arrays to find the maximum value.\n",
    "\n",
    "+ Time complexity: O(n)\n",
    "+ Space complexity: O(n)\n",
    "--------"
   ]
  },
  {
   "cell_type": "markdown",
   "metadata": {},
   "source": [
    "Q.4 Find the sum of the values of the array [92, 23, 15, -20, 10]."
   ]
  },
  {
   "cell_type": "code",
   "execution_count": 6,
   "metadata": {},
   "outputs": [
    {
     "name": "stdout",
     "output_type": "stream",
     "text": [
      "120\n"
     ]
    }
   ],
   "source": [
    "sumofarray = [92, 23, 15, -20, 10]\n",
    "def sum_array(arr):\n",
    "     if len(arr) == 1:\n",
    "          return arr[0]\n",
    "     return arr[0] + sum_array(arr[1:])\n",
    "\n",
    "print(sum_array(sumofarray))"
   ]
  },
  {
   "cell_type": "markdown",
   "metadata": {},
   "source": [
    "The function sum_array uses recursion to calculate the sum of the array elements. For more than one element inside the array it will make a recursive call to add all the elements.\n",
    "\n",
    "+ Time complexity: O(n)\n",
    "+ Space complexity: O(n)\n",
    "--------"
   ]
  },
  {
   "cell_type": "markdown",
   "metadata": {},
   "source": [
    "Q.5 Given a number n. Print if it is an armstrong number or not.An armstrong number is a number if the sum\n",
    "of every digit in that number raised to the power of total digits in that number is equal to the number.\n",
    "Example : 153 = 1^3 + 5^3 + 3^3 = 1 + 125 + 27 = 153 hence 153 is an armstrong number. (Easy)\n",
    "\n",
    "Input1 : 153\n",
    "\n",
    "Output1 : Yes\n",
    "\n",
    "\n",
    "Input 2 : 134\n",
    "\n",
    "Output2 : No"
   ]
  },
  {
   "cell_type": "code",
   "execution_count": 2,
   "metadata": {},
   "outputs": [
    {
     "name": "stdout",
     "output_type": "stream",
     "text": [
      "True\n",
      "False\n"
     ]
    }
   ],
   "source": [
    "def armstrong(n):\n",
    "     n = str(n)\n",
    "     sum = 0\n",
    "     for i in n:\n",
    "          sum = sum + int(i)**len(n)\n",
    "     if sum == int(n):\n",
    "          return True\n",
    "     else:\n",
    "          return False\n",
    "\n",
    "print(armstrong(153))\n",
    "print(armstrong(134))"
   ]
  },
  {
   "cell_type": "markdown",
   "metadata": {},
   "source": [
    "An Armstrong number is a number that is equal to the sum of its own digits raised to the power of the number of digits\n",
    "This function first converts the number to a string and then calculates the sum of the digits raised to the power of the number of digits\n",
    "It checks if the sum is equal to the original number\n",
    "\n",
    "\n",
    "+ Time complexity: O(log n)\n",
    "+ Space complexity: O(1)\n",
    "----------"
   ]
  }
 ],
 "metadata": {
  "kernelspec": {
   "display_name": "base",
   "language": "python",
   "name": "python3"
  },
  "language_info": {
   "codemirror_mode": {
    "name": "ipython",
    "version": 3
   },
   "file_extension": ".py",
   "mimetype": "text/x-python",
   "name": "python",
   "nbconvert_exporter": "python",
   "pygments_lexer": "ipython3",
   "version": "3.11.7"
  }
 },
 "nbformat": 4,
 "nbformat_minor": 2
}
