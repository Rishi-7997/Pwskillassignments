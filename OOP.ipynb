{
 "cells": [
  {
   "cell_type": "markdown",
   "metadata": {},
   "source": [
    "-----------\n",
    "1. What is a constructor in Python? Explain its purpose and usage."
   ]
  },
  {
   "cell_type": "markdown",
   "metadata": {},
   "source": [
    "Constructor is named as __init__ and it is used to initialize the properties of object when it is created.\n",
    "It is defiuned inside the class. Example:"
   ]
  },
  {
   "cell_type": "code",
   "execution_count": 2,
   "metadata": {},
   "outputs": [
    {
     "name": "stdout",
     "output_type": "stream",
     "text": [
      "Rahul\n",
      "Gupta\n"
     ]
    }
   ],
   "source": [
    "class name:\n",
    "     def __init__(self, First_Name, Last_Name):\n",
    "         self.First_Name = First_Name\n",
    "         self.Last_Name = Last_Name\n",
    "\n",
    "name1 = name(\"Rahul\", \"Gupta\")\n",
    "print(name1.First_Name)\n",
    "print(name1.Last_Name)"
   ]
  },
  {
   "cell_type": "markdown",
   "metadata": {},
   "source": [
    "----\n",
    "2. Differentiate between a parameterless constructor and a parameterized constructor in Python."
   ]
  },
  {
   "cell_type": "markdown",
   "metadata": {},
   "source": [
    "Parameterless Constructor is a constructor that has no parameters and is used to initialize default properties of the object in a class.\n",
    "\n",
    "Parameterized Constructor is a constructor that has parameters and is used to initialize properties of the object in a class. It is used to create an object with custom values for its attributes."
   ]
  },
  {
   "cell_type": "markdown",
   "metadata": {},
   "source": [
    "-----\n",
    "3. How do you define a constructor in a Python class? Provide an example."
   ]
  },
  {
   "cell_type": "markdown",
   "metadata": {},
   "source": [
    "Constructor is defined as __init__() method in a class. It is used to initialize the object of the class."
   ]
  },
  {
   "cell_type": "code",
   "execution_count": 3,
   "metadata": {},
   "outputs": [
    {
     "name": "stdout",
     "output_type": "stream",
     "text": [
      "Samsung Galaxy S10\n",
      "20000\n"
     ]
    }
   ],
   "source": [
    "class mobile:\n",
    "     def __init__(self, Model, price):\n",
    "         self.Model = Model\n",
    "         self.price = price\n",
    "name = mobile(\"Samsung Galaxy S10\", \"20000\")\n",
    "print(name.Model)\n",
    "print(name.price)"
   ]
  },
  {
   "cell_type": "markdown",
   "metadata": {},
   "source": [
    "-----------\n",
    "4. Explain the `__init__` method in Python and its role in constructors."
   ]
  },
  {
   "cell_type": "markdown",
   "metadata": {},
   "source": [
    "__init__ method is called when a new object is created.  The __init__ method is also known as the constructor of the class."
   ]
  },
  {
   "cell_type": "code",
   "execution_count": null,
   "metadata": {},
   "outputs": [],
   "source": [
    "class car:\n",
    "    def __init__(self, name, model, year):\n",
    "        self.name = name\n",
    "        self.model = model\n",
    "        self.year = year\n",
    "data = car(\"BMW\", \"X5\", 2019)\n",
    "print(data.name)\n",
    "print(data.model)\n",
    "print(data.year)"
   ]
  },
  {
   "cell_type": "markdown",
   "metadata": {},
   "source": [
    "----\n",
    "5. In a class named `Person`, create a constructor that initializes the `name` and `age` attributes. Provide an\n",
    "example of creating an object of this class."
   ]
  },
  {
   "cell_type": "code",
   "execution_count": 5,
   "metadata": {},
   "outputs": [],
   "source": [
    "class person:\n",
    "    def __init__(self, name, age):\n",
    "        self.name = name\n",
    "        self.age = age"
   ]
  },
  {
   "cell_type": "markdown",
   "metadata": {},
   "source": [
    "----\n",
    "6. How can you call a constructor explicitly in Python? Give an example."
   ]
  },
  {
   "cell_type": "markdown",
   "metadata": {},
   "source": [
    "Constructor can be called in two ways explicitly\n",
    "1. __new__() method = This method is used for creating a new instance of a class. To call the __new__() method explicitly\n",
    "we use\n",
    "\n",
    "object1 = class.__new__(Class)\n",
    "\n",
    "initialize\n",
    "\n",
    "object1.__init__()\n",
    "2. Super() function = This function is used to call methods from parent class. To call methods from parent class.\n",
    "we use\n",
    "\n",
    "object2 = super().__new__(class)\n",
    "\n",
    "object2.__init__()\n"
   ]
  },
  {
   "cell_type": "code",
   "execution_count": 3,
   "metadata": {},
   "outputs": [
    {
     "name": "stdout",
     "output_type": "stream",
     "text": [
      "RS\n"
     ]
    }
   ],
   "source": [
    "class class_name:\n",
    "     def __init__(self, name):\n",
    "          self.name = name\n",
    "\n",
    "object1 = class_name.__new__(class_name)\n",
    "object1.__init__(\"RS\")\n",
    "print(object1.name)\n"
   ]
  },
  {
   "cell_type": "markdown",
   "metadata": {},
   "source": [
    "----\n",
    "7. What is the significance of the `self` parameter in Python constructors? Explain with an example."
   ]
  },
  {
   "cell_type": "markdown",
   "metadata": {},
   "source": [
    "+ Self parameter is a convention in python. It is a naming convention that is commonly used to refer to the instance of the class."
   ]
  },
  {
   "cell_type": "code",
   "execution_count": 1,
   "metadata": {},
   "outputs": [
    {
     "name": "stdout",
     "output_type": "stream",
     "text": [
      "pikemen\n"
     ]
    }
   ],
   "source": [
    "class counters1:\n",
    "     def __init__(self, units):\n",
    "          self.units = units\n",
    "\n",
    "obj = counters1(\"pikemen\")\n",
    "print(obj.units)"
   ]
  },
  {
   "cell_type": "markdown",
   "metadata": {},
   "source": [
    "------\n",
    "8. Discuss the concept of default constructors in Python. When are they used?"
   ]
  },
  {
   "cell_type": "markdown",
   "metadata": {},
   "source": [
    "+ Default constructors are called automatically when an object of a class is created. It is an empty constructor. \n",
    "+ Constructors is defined using a special name __init__ which take any number of argument like self and other. They are used when the object is created without any arguments."
   ]
  },
  {
   "cell_type": "markdown",
   "metadata": {},
   "source": [
    "-----\n",
    "9. Create a Python class called `Rectangle` with a constructor that initializes the `width` and `height`\n",
    "attributes. Provide a method to calculate the area of the rectangle."
   ]
  },
  {
   "cell_type": "code",
   "execution_count": 10,
   "metadata": {},
   "outputs": [
    {
     "name": "stdout",
     "output_type": "stream",
     "text": [
      "The area of the rectangle is:  144\n"
     ]
    }
   ],
   "source": [
    "class rectangle:\n",
    "     def __init__(self, length, width):\n",
    "          self.length = length\n",
    "          self.width = width\n",
    "     def area(self):\n",
    "          return self.length * self.width\n",
    "length = int(input(\"Enter the length: \"))\n",
    "width = int(input(\"Enter the width: \"))\n",
    "instance = rectangle(length, width)\n",
    "area = instance.area()\n",
    "print(\"The area of the rectangle is: \", area)"
   ]
  },
  {
   "cell_type": "markdown",
   "metadata": {},
   "source": [
    "----\n",
    "10. How can you have multiple constructors in a Python class? Explain with an example."
   ]
  },
  {
   "cell_type": "code",
   "execution_count": null,
   "metadata": {},
   "outputs": [],
   "source": [
    "class multiple_constructor:\n",
    "     def __init__(self, a, b=0, c=0):\n",
    "          self.a = a\n",
    "          self.b = b\n",
    "          self.c = c\n",
    "\n",
    "instance = multiple_constructor(10, 20, 30)\n",
    "print(instance.a)\n",
    "print(instance.b)\n",
    "print(instance.c)"
   ]
  },
  {
   "cell_type": "markdown",
   "metadata": {},
   "source": [
    "---\n",
    "11. What is method overloading, and how is it related to constructors in Python?"
   ]
  },
  {
   "cell_type": "markdown",
   "metadata": {},
   "source": [
    "Method overloading is a method to define multiple methods with the same name but different parameters. This allows for polymorphism in Python. Here is an example of method overloading:"
   ]
  },
  {
   "cell_type": "code",
   "execution_count": 2,
   "metadata": {},
   "outputs": [
    {
     "name": "stdout",
     "output_type": "stream",
     "text": [
      "10 10 15\n",
      "10 10 12 red\n"
     ]
    }
   ],
   "source": [
    "class triangle:\n",
    "  def __init__(self, side1, side2, side3):\n",
    "    self.side1 = side1\n",
    "    self.side2 = side2\n",
    "    self.side3 = side3\n",
    "\n",
    "  def __init__(self, side1, side2, side3, color):\n",
    "    self.side1 = side1\n",
    "    self.side2 = side2\n",
    "    self.side3 = side3\n",
    "    self.color = color\n",
    "\n",
    "# Create a triangle without a color.\n",
    "triangle1 = triangle(10, 10, 15, None)\n",
    "\n",
    "# Create a triangle with a color.\n",
    "triangle2 = triangle(10, 10, 12, \"red\")\n",
    "\n",
    "# Print the side lengths and color of each triangle.\n",
    "print(triangle1.side1, triangle1.side2, triangle1.side3)\n",
    "print(triangle2.side1, triangle2.side2, triangle2.side3, triangle2.color)"
   ]
  },
  {
   "cell_type": "markdown",
   "metadata": {},
   "source": [
    "-------\n",
    "12. Explain the use of the `super()` function in Python constructors. Provide an example."
   ]
  },
  {
   "cell_type": "markdown",
   "metadata": {},
   "source": [
    "The super() function is used to call the parent class constructor from the child class. It uses inheritance to call the parent class constructor."
   ]
  },
  {
   "cell_type": "code",
   "execution_count": 7,
   "metadata": {},
   "outputs": [
    {
     "name": "stdout",
     "output_type": "stream",
     "text": [
      "Book name is  Library Book\n",
      "Book page is  25\n"
     ]
    }
   ],
   "source": [
    "class Book:\n",
    "    def __init__(self, name):\n",
    "        self.name = name\n",
    "        print(\"Book name is \", name)\n",
    "\n",
    "class Page(Book):\n",
    "    def __init__(self, name, page):\n",
    "        super().__init__(name)  \n",
    "        self.page = page\n",
    "        print(\"Book page is \", page)\n",
    "\n",
    "child = Page(\"Library Book\", 25)"
   ]
  },
  {
   "cell_type": "markdown",
   "metadata": {},
   "source": [
    "------\n",
    "13. Create a class called `Book` with a constructor that initializes the `title`, `author`, and `published_year`\n",
    "attributes. Provide a method to display book details."
   ]
  },
  {
   "cell_type": "code",
   "execution_count": 8,
   "metadata": {},
   "outputs": [],
   "source": [
    "class book():\n",
    "    def __init__(self, title, author, published_year):\n",
    "        self.title = title\n",
    "        self.author = author\n",
    "        self.published_year = published_year\n",
    "\n",
    "    def __str__(self):\n",
    "        return f\"{self.title} was written by {self.author} in {self.published_year}\""
   ]
  },
  {
   "cell_type": "markdown",
   "metadata": {},
   "source": [
    "--------\n",
    "14. Discuss the differences between constructors and regular methods in Python classes."
   ]
  },
  {
   "cell_type": "markdown",
   "metadata": {},
   "source": [
    "+ Constructors = Constructors are special methods that are used to initialize objects attributes when they are created.\n",
    "Constructors are called when a new keyword is used to create an object from class.\n",
    "They have same name as class itself.\n",
    "\n",
    "+ Regular methods = Regular methods are methods that are defined within a class and are used to perform specific actions.\n",
    "They are called using the object's instance name and the parentheses.\n",
    "Regular methods do not have any special naming convention.\n"
   ]
  },
  {
   "cell_type": "markdown",
   "metadata": {},
   "source": [
    "-----\n",
    "15. Explain the role of the `self` parameter in instance variable initialization within a constructor."
   ]
  },
  {
   "cell_type": "markdown",
   "metadata": {},
   "source": [
    "Self parameter is used to refer to the current instance of the class. It is a reference to the current object.\n",
    "The self parameter is used in instance variable initialization within a constructor to assign values to the instance variable of the class"
   ]
  },
  {
   "cell_type": "markdown",
   "metadata": {},
   "source": [
    "--------\n",
    "16. How do you prevent a class from having multiple instances by using constructors in Python? Provide an\n",
    "example."
   ]
  },
  {
   "cell_type": "markdown",
   "metadata": {},
   "source": [
    "To prevent a class from having multiple instances in python we can use siingleton desgin pattern. This is an example of a singleton class:"
   ]
  },
  {
   "cell_type": "code",
   "execution_count": 7,
   "metadata": {},
   "outputs": [],
   "source": [
    "class book:\n",
    "     _instance = None\n",
    "     \n",
    "     def __new__(year):\n",
    "          if year._instance is None:\n",
    "               year._instance = super(book, year).__new__(year)\n",
    "          return year._instance"
   ]
  },
  {
   "cell_type": "code",
   "execution_count": 10,
   "metadata": {},
   "outputs": [
    {
     "name": "stdout",
     "output_type": "stream",
     "text": [
      "<__main__.book object at 0x0000016BEF04EF50>\n"
     ]
    }
   ],
   "source": [
    "singleton_instance = book()\n",
    "print(singleton_instance)"
   ]
  },
  {
   "cell_type": "markdown",
   "metadata": {},
   "source": [
    "--------\n",
    "17. Create a Python class called `Student` with a constructor that takes a list of subjects as a parameter and\n",
    "initializes the `subjects` attribute."
   ]
  },
  {
   "cell_type": "code",
   "execution_count": 17,
   "metadata": {},
   "outputs": [
    {
     "name": "stdout",
     "output_type": "stream",
     "text": [
      "Maths\n",
      "90\n"
     ]
    }
   ],
   "source": [
    "class student:\n",
    "    def __init__(self, subject, marks):\n",
    "        self.subject = subject\n",
    "        self.marks = marks\n",
    "\n",
    "student_obj = student(\"Maths\", 90)\n",
    "print(student_obj.subject)  # Output: Maths\n",
    "print(student_obj.marks)  # Output: 90"
   ]
  },
  {
   "cell_type": "markdown",
   "metadata": {},
   "source": [
    "--------\n",
    "18. What is the purpose of the `__del__` method in Python classes, and how does it relate to constructors?"
   ]
  },
  {
   "cell_type": "markdown",
   "metadata": {},
   "source": [
    "The __del__ method is a special method in Python that is called when an object is deleted. It is used to free up any resources that were allocated by the object. Here is an example:"
   ]
  },
  {
   "cell_type": "code",
   "execution_count": 18,
   "metadata": {},
   "outputs": [
    {
     "name": "stdout",
     "output_type": "stream",
     "text": [
      "Car name is  BMW\n",
      "Car deleted\n"
     ]
    }
   ],
   "source": [
    "class cars:\n",
    "     def __init__(self, name):\n",
    "          print(\"Car name is \", name)\n",
    "     def __del__(self):\n",
    "          print(\"Car deleted\")\n",
    "car_obj = cars(\"BMW\")\n",
    "del car_obj"
   ]
  },
  {
   "cell_type": "markdown",
   "metadata": {},
   "source": [
    "----------\n",
    "19. Explain the use of constructor chaining in Python. Provide a practical example."
   ]
  },
  {
   "cell_type": "markdown",
   "metadata": {},
   "source": [
    "Constructor chaining is a technique in which multiple constructors are called in the same class. Here is an example:"
   ]
  },
  {
   "cell_type": "code",
   "execution_count": 21,
   "metadata": {},
   "outputs": [
    {
     "name": "stdout",
     "output_type": "stream",
     "text": [
      "Animal Constructor\n",
      "Cat Constructor\n",
      "Tom\n",
      "Tabby\n"
     ]
    }
   ],
   "source": [
    "class Animal:\n",
    "     def __init__(self, name):\n",
    "          self.name = name\n",
    "          print(\"Animal Constructor\")\n",
    "     \n",
    "class Cat(Animal):\n",
    "     def __init__(self, name, color):\n",
    "          super().__init__(name)\n",
    "          self.color = color\n",
    "          print(\"Cat Constructor\")\n",
    "cat1 = Cat(\"Tom\", \"Tabby\")\n",
    "print(cat1.name)\n",
    "print(cat1.color)"
   ]
  },
  {
   "cell_type": "markdown",
   "metadata": {},
   "source": [
    "---------\n",
    "20. Create a Python class called `Car` with a default constructor that initializes the `make` and `model`\n",
    "attributes. Provide a method to display car information."
   ]
  },
  {
   "cell_type": "code",
   "execution_count": 1,
   "metadata": {},
   "outputs": [
    {
     "name": "stdout",
     "output_type": "stream",
     "text": [
      "Audi\n",
      "A4\n",
      "2022\n"
     ]
    }
   ],
   "source": [
    "class car:\n",
    "     def __init__(self, name, make, model):\n",
    "          self.name = name\n",
    "          self.make = make\n",
    "          self.model = model\n",
    "car_obj = car(\"Audi\", \"A4\", \"2022\")\n",
    "print(car_obj.name)\n",
    "print(car_obj.make)\n",
    "print(car_obj.model)"
   ]
  },
  {
   "cell_type": "markdown",
   "metadata": {},
   "source": [
    "### Inheritance:"
   ]
  },
  {
   "cell_type": "markdown",
   "metadata": {},
   "source": [
    "---------\n",
    "1. What is inheritance in Python? Explain its significance in object-oriented programming."
   ]
  },
  {
   "cell_type": "markdown",
   "metadata": {},
   "source": [
    "Inheritance = Inheritance is a mechanism in which one class acquires the properties and behaviors of another class.\n",
    "Its significance in object-oriented programming is that it allows us to reuse code."
   ]
  },
  {
   "cell_type": "markdown",
   "metadata": {},
   "source": [
    "--------------\n",
    "2. Differentiate between single inheritance and multiple inheritance in Python. Provide examples for each."
   ]
  },
  {
   "cell_type": "markdown",
   "metadata": {},
   "source": [
    "Single inheritance = When a class inherits from a single parent class.\n",
    "Multiple inheritance = When a class inherits from multiple parent classes.\n",
    "\n"
   ]
  },
  {
   "cell_type": "code",
   "execution_count": null,
   "metadata": {},
   "outputs": [],
   "source": [
    "# Example of single inheritance:\n",
    "class vehicle:\n",
    "    def __init__(self, color, speed):\n",
    "        self.color = color\n",
    "        self.speed = speed\n",
    "class car(vehicle):\n",
    "    def __init__(self, brand, color, speed):\n",
    "        self.brand = brand\n",
    "        super().__init__(color, speed)\n",
    "car_obj = car(\"BMW\", \"Black\", 120)\n",
    "print(car_obj.brand)\n",
    "print(car_obj.color)\n",
    "print(car_obj.speed)\n",
    "\n"
   ]
  },
  {
   "cell_type": "code",
   "execution_count": null,
   "metadata": {},
   "outputs": [],
   "source": [
    "# Example of multiple inheritance:\n",
    "class vehicle:\n",
    "    def __init__(self, color, speed):\n",
    "        self.color = color\n",
    "        self.speed = speed\n",
    "class car(vehicle):\n",
    "    def __init__(self, brand, color, speed):\n",
    "        self.brand = brand\n",
    "        super().__init__(color, speed)\n",
    "class bike(vehicle):\n",
    "    def __init__(self, brand, color, speed):\n",
    "        self.brand = brand\n",
    "        super().__init__(color, speed)\n",
    "car_obj = car(\"BMW\", \"Black\", 120)\n",
    "bike_obj = bike(\"Honda\", \"Blue\", 80)\n",
    "print(car_obj.brand)\n",
    "print(car_obj.color)\n",
    "print(car_obj.speed)\n",
    "print(bike_obj.brand)\n",
    "print(bike_obj.color)\n",
    "print(bike_obj.speed)"
   ]
  },
  {
   "cell_type": "markdown",
   "metadata": {},
   "source": [
    "--------\n",
    "2. 3. Create a Python class called `Vehicle` with attributes `color` and `speed`. Then, create a child class called `Car` that inherits from `Vehicle` and adds a `brand` attribute. Provide an example of creating a `Car` object."
   ]
  },
  {
   "cell_type": "code",
   "execution_count": null,
   "metadata": {},
   "outputs": [],
   "source": [
    "class Vehicle:\n",
    "    def __init__(self, color, speed):\n",
    "        self.color = color\n",
    "        self.speed = speed\n",
    "class Car(Vehicle):\n",
    "    def __init__(self, brand, color, speed):\n",
    "        self.brand = brand\n",
    "        super().__init__(color, speed)\n",
    "obj_car = Car(\"BMW\", \"Blue\", 100)\n",
    "print(obj_car.brand)\n",
    "print(obj_car.color)\n",
    "print(obj_car.speed)"
   ]
  },
  {
   "cell_type": "markdown",
   "metadata": {},
   "source": [
    "----------\n",
    "4. Explain the concept of method overriding in inheritance. Provide a practical example."
   ]
  },
  {
   "cell_type": "markdown",
   "metadata": {},
   "source": [
    "Method overriding = When a class inherits from a parent class and provides its own implementation of a method that is already defined in the parent class.\n"
   ]
  },
  {
   "cell_type": "code",
   "execution_count": 1,
   "metadata": {},
   "outputs": [
    {
     "name": "stdout",
     "output_type": "stream",
     "text": [
      "Bike is two wheeler\n",
      "Car is four wheeler\n"
     ]
    }
   ],
   "source": [
    "# the Car class overrides the two_wheeler() method that is defined in the Bike class. This allows the Car class to provide its own implementation of the two_wheeler() method, \n",
    "# which prints \"Car is four wheeler\" instead of \"Bike is two wheeler\".\n",
    "class Bike:\n",
    "    def two_wheeler(self):\n",
    "         print(\"Bike is two wheeler\")\n",
    "\n",
    "class Car:\n",
    "     def four_wheeler(self):\n",
    "          print(\"Car is four wheeler\")\n",
    "\n",
    "bike = Bike()\n",
    "bike.two_wheeler()\n",
    "car = Car()\n",
    "car.four_wheeler()\n",
    "          \n",
    "          "
   ]
  },
  {
   "cell_type": "markdown",
   "metadata": {},
   "source": [
    "----\n",
    "5. How can you access the methods and attributes of a parent class from a child class in Python? Give an\n",
    "example."
   ]
  },
  {
   "cell_type": "markdown",
   "metadata": {},
   "source": [
    "Using super() function we can access the methods and attributes of a parent class in a child class.\n",
    "          "
   ]
  },
  {
   "cell_type": "code",
   "execution_count": null,
   "metadata": {},
   "outputs": [],
   "source": [
    "class Car:\n",
    "    def __init__(self, make, model, year):\n",
    "        self.make = make\n",
    "        self.model = model\n",
    "        self.year = year\n",
    "\n",
    "    def start(self):\n",
    "         print(f\"This is a {self.make} of {self.model} and released in {self.year}\")\n",
    "\n",
    "class Sedan(Car):\n",
    "    def __init__(self, make, model, year, color):\n",
    "        super().__init__(make, model, year)\n",
    "        self.color = color\n",
    "    def start(self):\n",
    "         print(f\"This is a {self.color} {self.make} of {self.model} and released in {self.year}\")\n",
    "\n",
    "auto1 = Sedan(\"BMW\", \"X5\", 2022, \"Black\")\n",
    "auto1.start()"
   ]
  },
  {
   "cell_type": "markdown",
   "metadata": {},
   "source": [
    "--------\n",
    "6. Discuss the use of the `super()` function in Python inheritance. When and why is it used? Provide an\n",
    "example."
   ]
  },
  {
   "cell_type": "markdown",
   "metadata": {},
   "source": [
    "The super () function in inheritance is used to call the methods and attributes of a parent class in a child class. It overrides the methods and attributes of the parent class.\n",
    "The super() function is typically used in child class, where it calls the __init__() method to call the parent class constructor."
   ]
  },
  {
   "cell_type": "code",
   "execution_count": 1,
   "metadata": {},
   "outputs": [],
   "source": [
    "class furniture:\n",
    "    def __init__(self, name, color):\n",
    "        self.name = name\n",
    "        self.color = color\n",
    "        self.rating1 = rating1\n",
    "def rating(self):\n",
    "     print(f\"{self.name} has {self.color} and rating is {self.rating1}\")\n",
    "\n",
    "class chair(furniture):\n",
    "    def __init__(self, name, color, rating1):\n",
    "        super().__init__(name, color)\n",
    "        self.rating1 = rating1\n",
    "    def rating(self):\n",
    "        print(f\"{self.name} has {self.color} and rating is {self.rating1}\")     "
   ]
  },
  {
   "cell_type": "markdown",
   "metadata": {},
   "source": [
    "--------\n",
    "7. Create a Python class called `Animal` with a method `speak()`. Then, create child classes `Dog` and `Cat` that inherit from `Animal` and override the `speak()` method. Provide an example of using these classes."
   ]
  },
  {
   "cell_type": "code",
   "execution_count": null,
   "metadata": {},
   "outputs": [],
   "source": [
    "class Animal(self, speak):\n",
    "    def __init__(self, speak):\n",
    "        self.speak = speak\n",
    "\n",
    "class Dog(Animal):\n",
    "    def __init__(self, speak):\n",
    "        super().__init__(speak)\n",
    "    def speak(self):\n",
    "        print(\"Bark\")\n",
    "class Cat(Animal):\n",
    "    def __init__(self, speak):\n",
    "        super().__init__(speak)\n",
    "    def speak(self):\n",
    "        print(\"Meow\")"
   ]
  },
  {
   "cell_type": "markdown",
   "metadata": {},
   "source": [
    "-------\n",
    "8. Explain the role of the `isinstance()` function in Python and how it relates to inheritance."
   ]
  },
  {
   "cell_type": "markdown",
   "metadata": {},
   "source": [
    "The isinstance() function in python is used to check if an object is an instance of a class or not.\n",
    "It takes two arguments: the object and the class. If the object is an instance of the class, it returns True,\n",
    "otherwise it returns False.\n",
    "It is related to inheritance in that it allows you to check if an object is an instance of a class its subclasses."
   ]
  },
  {
   "cell_type": "code",
   "execution_count": 2,
   "metadata": {},
   "outputs": [
    {
     "name": "stdout",
     "output_type": "stream",
     "text": [
      "True\n",
      "True\n",
      "True\n",
      "False\n"
     ]
    }
   ],
   "source": [
    "class computer:\n",
    "     pass\n",
    "class laptop(computer):\n",
    "    pass\n",
    "obj = laptop()\n",
    "print(isinstance(obj, computer))\n",
    "print(isinstance(obj, laptop))\n",
    "print(isinstance(obj, object))\n",
    "print(isinstance(obj, int))"
   ]
  },
  {
   "cell_type": "markdown",
   "metadata": {},
   "source": [
    "---------\n",
    "9. What is the purpose of the `issubclass()` function in Python? Provide an example."
   ]
  },
  {
   "cell_type": "markdown",
   "metadata": {},
   "source": [
    "The issubclass() function in Python is used to check if a class is a subclass of another class."
   ]
  },
  {
   "cell_type": "code",
   "execution_count": 1,
   "metadata": {},
   "outputs": [
    {
     "name": "stdout",
     "output_type": "stream",
     "text": [
      "True\n",
      "False\n",
      "True\n",
      "False\n"
     ]
    }
   ],
   "source": [
    "class computer:\n",
    "     pass\n",
    "class laptop(computer):\n",
    "    pass\n",
    "print(issubclass(laptop, computer))\n",
    "print(issubclass(computer, laptop))\n",
    "print(issubclass(computer, object))\n",
    "print(issubclass(computer, int))"
   ]
  },
  {
   "cell_type": "markdown",
   "metadata": {},
   "source": [
    "-----------\n",
    "10. Discuss the concept of constructor inheritance in Python. How are constructors inherited in child classes?"
   ]
  },
  {
   "cell_type": "markdown",
   "metadata": {},
   "source": [
    "The concept of constructor inheritance in Python is to inherit the constructors of the parent class in the child\n",
    "class. Constructors inherited in child classes are called __init__ methods."
   ]
  },
  {
   "cell_type": "code",
   "execution_count": null,
   "metadata": {},
   "outputs": [],
   "source": [
    "class automobile:\n",
    "     def __init__(self, name):\n",
    "          self.name = name\n",
    "class car(automobile):\n",
    "     def __init__(self, name, model):\n",
    "          super().__init__(name)\n",
    "          self.model = model\n",
    "obj = car(\"Tata\", \"Harrier\")\n",
    "print(obj.name)\n",
    "print(obj.model)"
   ]
  },
  {
   "cell_type": "markdown",
   "metadata": {},
   "source": [
    "------------\n",
    "11. Create a Python class called `Shape` with a method `area()` that calculates the area of a shape. Then, create child classes `Circle` and `Rectangle` that inherit from `Shape` and implement the `area()` method\n",
    "accordingly. Provide an example."
   ]
  },
  {
   "cell_type": "code",
   "execution_count": 3,
   "metadata": {},
   "outputs": [
    {
     "name": "stdout",
     "output_type": "stream",
     "text": [
      "12.566370614359172\n",
      "24\n"
     ]
    }
   ],
   "source": [
    "import math\n",
    "\n",
    "class Shape:\n",
    "    def area(self):\n",
    "        pass\n",
    "\n",
    "class Circle(Shape):\n",
    "    def __init__(self, radius):\n",
    "        self.radius = radius\n",
    "\n",
    "    def area(self):\n",
    "        return math.pi * self.radius ** 2\n",
    "\n",
    "class Rectangle(Shape):\n",
    "    def __init__(self, width, height):\n",
    "        self.width = width\n",
    "        self.height = height\n",
    "\n",
    "    def area(self):\n",
    "        return self.width * self.height\n",
    "\n",
    "\n",
    "x = int(input(\"Enter the radius of the circle: \"))\n",
    "circle = Circle(x)\n",
    "print(circle.area())\n",
    "\n",
    "length = int(input(\"Enter the length of the rectangle: \"))\n",
    "breadth = int(input(\"Enter the breadth of the rectangle: \"))\n",
    "rectangle = Rectangle(4, 6)\n",
    "print(rectangle.area())\n",
    "     "
   ]
  },
  {
   "cell_type": "markdown",
   "metadata": {},
   "source": [
    "------------\n",
    "12. Explain the use of abstract base classes (ABCs) in Python and how they relate to inheritance. Provide an\n",
    "example using the `abc` module."
   ]
  },
  {
   "cell_type": "markdown",
   "metadata": {},
   "source": [
    "Abstract base classes (ABCs) in Python are used to define a base class that can be inherited by other classes.\n",
    "The ABC module in the `abc` module is used to define abstract base classes. An abstract base class is a class\n",
    "that cannot be instantiated, but can be inherited by other classes. The `abc` module provides a way to define\n",
    "abstract base classes in Python."
   ]
  },
  {
   "cell_type": "code",
   "execution_count": 4,
   "metadata": {},
   "outputs": [],
   "source": [
    "from abc import ABC, abstractmethod\n",
    "\n",
    "class State(ABC):\n",
    "     @abstractmethod\n",
    "     def temperature(self):\n",
    "          pass\n",
    "\n",
    "class Water(State):\n",
    "     def temperature(self):\n",
    "          print(\"Water is at normal state\")\n",
    "class Ice(State):\n",
    "     def temperature(self):\n",
    "          print(\"Ice is at freezing state\")\n",
    "class Air(State):\n",
    "     def temperature(self):\n",
    "          print(\"Air is at saturation state\")\n",
    "\n"
   ]
  },
  {
   "cell_type": "markdown",
   "metadata": {},
   "source": [
    "-------------\n",
    "13. How can you prevent a child class from modifying certain attributes or methods inherited from a parent\n",
    "class in Python?"
   ]
  },
  {
   "cell_type": "markdown",
   "metadata": {},
   "source": [
    "In Python, you can prevent a child class from modifying certain attributes or methods inherited from a parent class by using access modifiers. Access modifiers are used to restrict access to certain attributes or methods of a class. In Python, access modifiers are implemented using underscores.\n",
    "\n",
    "+ Use double underscores before the attribute or method name. This will make the attribute or method private and inaccessible to the child class. However, this does not completely prevent the child class from modifying the attribute or method. The child class can still modify the attribute or method by using name mangling.\n",
    "\n",
    "+ Another way to prevent a child class from modifying certain attributes or methods inherited from a parent class is to use property. You can define a property in the parent class that returns the value of the attribute and use the property in the child class instead of the attribute. This will make the attribute read-only and prevent the child class from modifying it."
   ]
  },
  {
   "cell_type": "markdown",
   "metadata": {},
   "source": [
    "----------------\n",
    "14. Create a Python class called `Employee` with attributes `name` and `salary`. Then, create a child class\n",
    "`Manager` that inherits from `Employee` and adds an attribute `department`. Provide an example."
   ]
  },
  {
   "cell_type": "code",
   "execution_count": null,
   "metadata": {},
   "outputs": [],
   "source": [
    "class Employee:\n",
    "    def __init__(self, name, salary):\n",
    "        self.name = name\n",
    "        self.salary = salary\n",
    "class Manager(Employee):\n",
    "    def __init__(self, name, salary, department):\n",
    "        super().__init__(name, salary)\n",
    "        self.department = department"
   ]
  },
  {
   "cell_type": "markdown",
   "metadata": {},
   "source": [
    "---------------\n",
    "15. Discuss the concept of method overloading in Python inheritance. How does it differ from method\n",
    "overriding?"
   ]
  },
  {
   "cell_type": "markdown",
   "metadata": {},
   "source": [
    "Python method overloading is different than java method overloading. it refers to the ability to define multiple\n",
    "functions with the same name but different parameters. Method overloading refers to the ability to define multiple functions with the same name but different parameters."
   ]
  },
  {
   "cell_type": "markdown",
   "metadata": {},
   "source": [
    "--------------\n",
    "16. Explain the purpose of the `__init__()` method in Python inheritance and how it is utilized in child classes."
   ]
  },
  {
   "cell_type": "markdown",
   "metadata": {},
   "source": [
    "The purpose of the __init__ method in Python inheritance is to initialize the attributes of the parent class\n",
    "in the child class. The __init__ method in Python inheritance is used to initialize the attributes of the\n",
    "parent class in the child class."
   ]
  },
  {
   "cell_type": "markdown",
   "metadata": {},
   "source": [
    "-----------------\n",
    "17. Create a Python class called `Bird` with a method `fly()`. Then, create child classes `Eagle` and `Sparrow` that inherit from `Bird` and implement the `fly()` method differently. Provide an example of using these\n",
    "classes."
   ]
  },
  {
   "cell_type": "code",
   "execution_count": null,
   "metadata": {},
   "outputs": [],
   "source": [
    "class Bird:\n",
    "    def fly(self):\n",
    "        print(\"I can fly\")\n",
    "class kiwi(Bird):\n",
    "    def fly(self):\n",
    "        print(\"I can not fly\")"
   ]
  },
  {
   "cell_type": "markdown",
   "metadata": {},
   "source": [
    "-------\n",
    "18. What is the \"diamond problem\" in multiple inheritance, and how does Python address it?"
   ]
  },
  {
   "cell_type": "markdown",
   "metadata": {},
   "source": [
    "In multiple inheritance, the diamond problem is a common problem that arises when a class inherits from more\n",
    "than one parent class. Python addresses this problem by using the `mro()` method to determine the method resolution\n",
    "order (MRO) of a class."
   ]
  },
  {
   "cell_type": "markdown",
   "metadata": {},
   "source": [
    "--------\n",
    "19. Discuss the concept of \"is-a\" and \"has-a\" relationships in inheritance, and provide examples of each."
   ]
  },
  {
   "cell_type": "markdown",
   "metadata": {},
   "source": [
    "\"is a\" and \"has a\" relationships in inheritance are used to establish a relationship between two classes. The\n",
    "\"is a\" relationship is established when the child class inherits from the parent class. The \"has a\" relationship is\n",
    "established when the child class has an attribute or method of the parent class."
   ]
  },
  {
   "cell_type": "markdown",
   "metadata": {},
   "source": [
    "-------------------\n",
    "20. Create a Python class hierarchy for a university system. Start with a base class `Person` and create child\n",
    "classes `Student` and `Professor`, each with their own attributes and methods. Provide an example of using\n",
    "these classes in a university context."
   ]
  },
  {
   "cell_type": "code",
   "execution_count": null,
   "metadata": {},
   "outputs": [],
   "source": [
    "class Person:\n",
    "    def __init__(self, name, age):\n",
    "        self.name = name\n",
    "        self.age = age\n",
    "    def intro(self):\n",
    "        print(f\"My name is {self.name} and I am {self.age} years old.\")\n",
    "\n",
    "class Student(Person):\n",
    "    def __init__(self, name, age, roll_no):\n",
    "        super().__init__(name, age)\n",
    "        self.roll_no = roll_no\n",
    "    def student_intro(self):\n",
    "          print(f\"My name is {self.name} and I am {self.age} years old. My roll number is {self.roll_no}.\")\n",
    "          \n",
    "class Professor(Person):\n",
    "    def __init__(self, name, age, department):\n",
    "        super().__init__(name, age)\n",
    "        self.department = department\n",
    "    def professor_intro(self):\n",
    "          print(f\"My name is {self.name} and I am {self.age} years old. My department is {self.department}.\")\n",
    "          \n",
    "obj_name = Person(\"John\", 20, \"IT\")\n",
    "obj_name.intro()\n",
    "obj_name.student_intro()\n",
    "obj_professor = Professor(\"John\", 20, \"Computer Science\")\n",
    "obj_professor.intro()\n",
    "obj_professor.professor_intro()"
   ]
  },
  {
   "cell_type": "markdown",
   "metadata": {},
   "source": [
    "### Encapsulation:"
   ]
  },
  {
   "cell_type": "markdown",
   "metadata": {},
   "source": [
    "--------\n",
    "1. Explain the concept of encapsulation in Python. What is its role in object-oriented programming?"
   ]
  },
  {
   "cell_type": "markdown",
   "metadata": {},
   "source": [
    "Encapsulation is an object-oriented programming technique that restricts direct access to the attributes and methods of\n",
    "a class. It provides a way to protect the data and methods of a class from unauthorized access."
   ]
  },
  {
   "cell_type": "markdown",
   "metadata": {},
   "source": [
    "---------\n",
    "2. Describe the key principles of encapsulation, including access control and data hiding."
   ]
  },
  {
   "cell_type": "markdown",
   "metadata": {},
   "source": [
    "The key principles of encapsulation in Python are:\n",
    "\n",
    "1. Access control: restricts direct access to the attributes and methods of a class from unauthorized access.\n",
    "In object-oriented programming, access control is implemented using access modifiers, such as public, private, and\n",
    "protected.\n",
    "\n",
    "\n",
    "Public: allows access to the attributes and methods of a class from outside the class.\n",
    "\n",
    "\n",
    "Private: restricts access to the attributes and methods of a class from outside the class.\n",
    "\n",
    "\n",
    "Protected: allows access to the attributes and methods of a class from outside the class, but restricts access\n",
    "to the attributes and methods of a class from subclasses.\n",
    "\n",
    "\n",
    "2. Data hiding: protects the data of a class from unauthorized access.\n"
   ]
  },
  {
   "cell_type": "markdown",
   "metadata": {},
   "source": [
    "--------------\n",
    "3. How can you achieve encapsulation in Python classes? Provide an example."
   ]
  },
  {
   "cell_type": "markdown",
   "metadata": {},
   "source": [
    "Encapsulation in python is achieved by using access modifiers. Access modifiers are used to restrict access to\n",
    "the attributes and methods of a class from outside the class."
   ]
  },
  {
   "cell_type": "code",
   "execution_count": null,
   "metadata": {},
   "outputs": [],
   "source": [
    "# To achievve encapsulation we need getter and setter methods\n",
    "class Bike:\n",
    "     def __init__(self, name, model, cost):\n",
    "          self.__name = name\n",
    "          self.__model = model\n",
    "          self.__cost = cost\n",
    "\n",
    "     def set_name(self, name):\n",
    "          self.__name = name\n",
    "\n",
    "     def get_name(self):\n",
    "          return self.__name\n",
    "\n",
    "     def set_model(self, model):\n",
    "          self.__model = model\n",
    "\n",
    "     def get_model(self):\n",
    "          return self.__model\n",
    "\n",
    "     def set_cost(self, cost):\n",
    "          self.__cost = cost\n",
    "\n",
    "     def get_cost(self):\n",
    "          return self.__cost\n",
    "          "
   ]
  },
  {
   "cell_type": "code",
   "execution_count": null,
   "metadata": {},
   "outputs": [],
   "source": [
    "vechile = Bike(\"Honda\", \"Shine\", \"80000\")\n",
    "print(vechile.get_name())\n",
    "print(vechile.get_model())\n",
    "print(vechile.get_cost())\n",
    "\n",
    "vechile.set_name(\"Yamaha\")\n",
    "vechile.set_model(\"R15\")\n",
    "vechile.set_cost(\"100000\")\n",
    "print(vechile.get_name())"
   ]
  },
  {
   "cell_type": "markdown",
   "metadata": {},
   "source": [
    "------------\n",
    "4. Discuss the difference between public, private, and protected access modifiers in Python."
   ]
  },
  {
   "cell_type": "markdown",
   "metadata": {},
   "source": [
    "1. Public access modifier: Allows access to the attributes and methods of a class from outside the class.\n",
    "Attributes without any access modifier are public by default. They are also accessed and modified directly by external code.\n",
    "\n",
    "\n",
    "2. Private access modifier: Restricts access to the attributes and methods of a class from outside the class.\n",
    "It is denoted by (__) before the attribute name. Private attributes are only accessible within the class and cannot or modified directly by external code.\n",
    "\n",
    "\n",
    "3. Protected access modifier: Allows access to the attributes and methods of a class from outside the class, but\n",
    "restricts access to the attributes and methods of a class from subclasses.\n",
    "It is denoted by single (_) underscore before the attribute name. Protected attributes can be accessed from outside the class. Just like private attributes and methods it is recommended to use getter and setter methods in encapsulation. "
   ]
  },
  {
   "cell_type": "markdown",
   "metadata": {},
   "source": [
    "--------------\n",
    "5. Create a Python class called `Person` with a private attribute `__name`. Provide methods to get and set the\n",
    "name attribute."
   ]
  },
  {
   "cell_type": "code",
   "execution_count": null,
   "metadata": {},
   "outputs": [],
   "source": [
    "class Person:\n",
    "     def __init__(self, name):\n",
    "          self.__name = name\n",
    "\n",
    "     def get_name(self):\n",
    "          return self.__name\n",
    "\n",
    "     def set_name(self, name):\n",
    "          self.__name = name"
   ]
  },
  {
   "cell_type": "code",
   "execution_count": null,
   "metadata": {},
   "outputs": [],
   "source": [
    "person = Person(\"John\")\n",
    "print(person.get_name())\n",
    "person.set_name(\"Jane\")\n",
    "print(person.get_name())"
   ]
  },
  {
   "cell_type": "markdown",
   "metadata": {},
   "source": [
    "--------------\n",
    "6. Explain the purpose of getter and setter methods in encapsulation. Provide examples."
   ]
  },
  {
   "cell_type": "markdown",
   "metadata": {},
   "source": [
    "Getters and setters are also called accessor and mutator methods. They are used to access and modify the\n",
    "private attributes of a class. They play a key role in encapsulation by providing controlled access to the private attributes of an object. They allow external code to interact with the attributes with data integrity and encapsulation.\n",
    "\n",
    "The purpose of getter are to get the value of the private attribute. It provides a way for a external code to access the value of the attribute without directly modifying it. This is useful when we want to expose the attribute value while maintaining control\n",
    "\n",
    "The purpose of setter is to set the value of the private attribute. The purpose of a setter method in programming is to allow the modification or setting of the value of a private attribute within a class.\n"
   ]
  },
  {
   "cell_type": "markdown",
   "metadata": {},
   "source": [
    "-------------------\n",
    "7. What is name mangling in Python, and how does it affect encapsulation?"
   ]
  },
  {
   "cell_type": "markdown",
   "metadata": {},
   "source": [
    "Name mangling in python is a mechanism that allows class attributes to be prefixed with a double underscore\n",
    "(`__`) to prevent the attribute from being accessed directly from outside the class. It affects encapsulation by\n",
    "providing controlled access to the private attributes of an object outside the class"
   ]
  },
  {
   "cell_type": "markdown",
   "metadata": {},
   "source": [
    "----------------\n",
    "8. Create a Python class called `BankAccount` with private attributes for the account balance (`__balance`) and account number (`__account_number`). Provide methods for depositing and withdrawing money."
   ]
  },
  {
   "cell_type": "code",
   "execution_count": null,
   "metadata": {},
   "outputs": [],
   "source": [
    "class BankAccount:\n",
    "     def __init__(self, balance, account_number):\n",
    "          self.__balance = balance\n",
    "          self.__account_number = account_number\n",
    "\n",
    "     def deposit(self, amount):\n",
    "          self.__balance += amount\n",
    "\n",
    "     def withdraw(self, amount):\n",
    "          if self.__balance >= amount:\n",
    "               self.__balance -= amount\n",
    "          else:\n",
    "               print(\"Insufficient balance\")"
   ]
  },
  {
   "cell_type": "markdown",
   "metadata": {},
   "source": [
    "---------------\n",
    "9. Discuss the advantages of encapsulation in terms of code maintainability and security."
   ]
  },
  {
   "cell_type": "markdown",
   "metadata": {},
   "source": [
    "Encapsulation in terms of code maintiability and security:\n",
    "\n",
    "1. Code Organization = Encapsulation allows you to keep group related data and behavior into single unit. This makes it easier to understand and maintian the structure of the code.\n",
    "2. Code reusability = Encapsulation provides reusability. The code is easy to understand and maintain. This reduces code duplication.\n",
    "3. Data hiding = Encapsulation allows you to hide the internal implementation details of a class from the outside world.\n",
    "4. Code Modularity = Encapsulation allows you to organize your code into modules. This makes it easier to maintain and modify the code.\n",
    "5. Security = Encapsulation helps in protecting the data of a class from unauthorized access.\n"
   ]
  },
  {
   "cell_type": "markdown",
   "metadata": {},
   "source": [
    "------------------\n",
    "10. How can you access private attributes in Python? Provide an example demonstrating the use of name\n",
    "mangling."
   ]
  },
  {
   "cell_type": "markdown",
   "metadata": {},
   "source": [
    "Private attributes are conventionally named with a double underscore prefix. Page managing is a mechanism used to\n",
    "allows access to private attributes indirectly."
   ]
  },
  {
   "cell_type": "code",
   "execution_count": 4,
   "metadata": {},
   "outputs": [
    {
     "name": "stdout",
     "output_type": "stream",
     "text": [
      "lord Splender\n",
      "Name\n"
     ]
    }
   ],
   "source": [
    "class Bike:\n",
    "     def __init__(self):\n",
    "          self.__private_name = \"lord Splender\"\n",
    "     \n",
    "     def __private_method(self):\n",
    "          print(\"Name\")\n",
    "\n",
    "obj_name = Bike()\n",
    "print(obj_name._Bike__private_name)\n",
    "obj_name._Bike__private_method()"
   ]
  },
  {
   "cell_type": "markdown",
   "metadata": {},
   "source": [
    "-------------\n",
    "11. Create a Python class hierarchy for a school system, including classes for students, teachers, and courses,\n",
    "and implement encapsulation principles to protect sensitive information."
   ]
  },
  {
   "cell_type": "code",
   "execution_count": 6,
   "metadata": {},
   "outputs": [],
   "source": [
    "class school_system():\n",
    "     def __init__(self):\n",
    "          self.__students = []\n",
    "          self.__teachers = []\n",
    "          self.__courses = []\n",
    "     \n",
    "     def add_student(self, student):\n",
    "          self.__students.append(student)\n",
    "     \n",
    "     def add_teacher(self, teacher):\n",
    "          self.__teachers.append(teacher)\n",
    "     \n",
    "     def add_course(self, course):\n",
    "          self.__courses.append(course)\n",
    "\n",
    "obj_name = school_system()\n",
    "obj_name.add_student(\"John\")\n",
    "obj_name.add_teacher(\"Jane\")\n",
    "obj_name.add_course(\"Maths\")\n"
   ]
  },
  {
   "cell_type": "markdown",
   "metadata": {},
   "source": [
    "--------------\n",
    "12. Explain the concept of property decorators in Python and how they relate to encapsulation."
   ]
  },
  {
   "cell_type": "markdown",
   "metadata": {},
   "source": [
    "Property decorators are used to define a property of an object. They can be accessed as attributes of the object. By defining getters, setters and deleter methods. Property decorators allow you to control the access to the attributes of an object providing encapsulation."
   ]
  },
  {
   "cell_type": "code",
   "execution_count": 7,
   "metadata": {},
   "outputs": [
    {
     "data": {
      "text/plain": [
       "1000"
      ]
     },
     "execution_count": 7,
     "metadata": {},
     "output_type": "execute_result"
    }
   ],
   "source": [
    "class profit:\n",
    "     def __init__(self, profit):\n",
    "          self.__profit = profit\n",
    "     \n",
    "     @property\n",
    "     def profit(self):\n",
    "          return self.__profit\n",
    "     \n",
    "     @profit.setter\n",
    "     def profit(self, profit):\n",
    "          self.__profit = profit\n",
    "          if profit < 0:\n",
    "               raise ValueError(\"Profit cannot be negative\")\n",
    "          self.__profit = profit\n",
    "          \n",
    "\n",
    "obj_name = profit(1000)\n",
    "obj_name.profit"
   ]
  },
  {
   "cell_type": "markdown",
   "metadata": {},
   "source": [
    "--------\n",
    "13. What is data hiding, and why is it important in encapsulation? Provide examples."
   ]
  },
  {
   "cell_type": "markdown",
   "metadata": {},
   "source": [
    "Data hiding is the concept of making the attributes of a class private. It is an important concept in encapsulation. It serves as a key aspect of encapsulation, the principle of combining data and methods into a single unit and controlling access to them.\n",
    "Why is it important?\n",
    "\n",
    "1. Security: By hiding internal data, data hiding protects sensitive information from being directly accessed and modified by external code. This prevents unauthorized changes and ensures data integrity.\n",
    "\n",
    "2. Maintainability: When data is hidden, it becomes easier to modify the internal implementation of the class without affecting the code that uses it. This improves code maintainability and reduces the risk of introducing regressions.\n",
    "\n",
    "3. Encapsulation: Data hiding complements encapsulation by promoting strong boundaries between the internal state of a class and its external interface. This allows classes to be self-contained units with controlled access to their data."
   ]
  },
  {
   "cell_type": "code",
   "execution_count": 6,
   "metadata": {},
   "outputs": [],
   "source": [
    "class Account:\n",
    "    def __init__(self, balance):\n",
    "        self.__balance = balance\n",
    "\n",
    "    def get_balance(self):\n",
    "        return self.__balance\n",
    "\n",
    "    def withdraw(self, amount):\n",
    "        if self.__balance >= amount:\n",
    "            self.__balance -= amount\n",
    "        else:\n",
    "            print(\"Insufficient funds\")\n"
   ]
  },
  {
   "cell_type": "markdown",
   "metadata": {},
   "source": [
    "-----------\n",
    "14. Create a Python class called `Employee` with private attributes for salary (`__salary`) and employee ID (`__employee_id`). Provide a method to calculate yearly bonuses."
   ]
  },
  {
   "cell_type": "code",
   "execution_count": null,
   "metadata": {},
   "outputs": [],
   "source": [
    "class Employee:\n",
    "     def __init__(self, salary, employee_id):\n",
    "          self.__salary = salary\n",
    "          self.__employee_id = employee_id\n",
    "     \n",
    "     def calculate_yearly_bonus(self):\n",
    "          return self.__salary * 12\n",
    "     \n",
    "obj = Employee(10000, 1234)\n",
    "print(obj.calculate_yearly_bonus())"
   ]
  },
  {
   "cell_type": "markdown",
   "metadata": {},
   "source": [
    "------------\n",
    "15. Discuss the use of accessors and mutators in encapsulation. How do they help maintain control over\n",
    "attribute access?"
   ]
  },
  {
   "cell_type": "markdown",
   "metadata": {},
   "source": [
    "Accessors and mutators also known as getters and setters are methods used to access and modify private attributes of a class.\n",
    "+ Accessors provide a way to retrieve attributes. Using \"get\" followed by attribute name we can access the attribute.\n",
    "+ Mutators provide a way to modify attributes. Using \"set\" followed by attribute name we can modify the attribute"
   ]
  },
  {
   "cell_type": "markdown",
   "metadata": {},
   "source": [
    "-----------\n",
    "16. What are the potential drawbacks or disadvantages of using encapsulation in Python?"
   ]
  },
  {
   "cell_type": "code",
   "execution_count": null,
   "metadata": {},
   "outputs": [],
   "source": []
  },
  {
   "cell_type": "markdown",
   "metadata": {},
   "source": [
    "---------\n",
    "17. Create a Python class for a library system that encapsulates book information, including titles, authors,\n",
    "and availability status."
   ]
  },
  {
   "cell_type": "code",
   "execution_count": null,
   "metadata": {},
   "outputs": [],
   "source": [
    "class library_system:\n",
    "     def __init__(self, title, author, availability):\n",
    "          self.__title = title\n",
    "          self.__author = author\n",
    "          self.__availability = availability\n",
    "\n",
    "     def get_title(self):\n",
    "          return self.__title\n",
    "\n",
    "     def get_author(self):\n",
    "          return self.__author\n",
    "\n",
    "     def get_availability(self):\n",
    "          return self.__availability\n",
    "\n",
    "     def set_availability(self, availability):\n",
    "          self.__availability = availability\n",
    "     \n",
    "obj = library_system(\"The Alchemist\", \"Paulo Coelho\", \"Available\")\n",
    "print(obj.get_title())\n",
    "print(obj.get_author())\n",
    "print(obj.get_availability())\n",
    "obj.set_availability(\"Not Available\")\n",
    "print(obj.get_availability())"
   ]
  },
  {
   "cell_type": "markdown",
   "metadata": {},
   "source": [
    "-------------\n",
    "18. Explain how encapsulation enhances code reusability and modularity in Python programs."
   ]
  },
  {
   "cell_type": "markdown",
   "metadata": {},
   "source": [
    "Encapsulation is a fundamental principle of object-oriented programming. It allows you to control the access to\n",
    "an object's attributes and methods. By using encapsulation, you can prevent unauthorized access to the object's\n",
    "internal state. In python encapsulation enhances code reusability and modularity by providing control over\n",
    "attribute access. Private attributes are prefixed with two underscores, making them inaccessible directly from outside the class. Access to private attributes and method calls is controlled through public methods, also known as getters and setters."
   ]
  },
  {
   "cell_type": "markdown",
   "metadata": {},
   "source": [
    "---------\n",
    "19. Describe the concept of information hiding in encapsulation. Why is it essential in software development?"
   ]
  },
  {
   "cell_type": "markdown",
   "metadata": {},
   "source": [
    "In encapsulation we hide the data of a class from unauthorized access. It allows us to control the access to the data of a class.\n",
    "Information hiding is an important concept in software development.\n",
    "\n",
    "1. Modularity: By hiding the implementation details we can create modules that can be developed and maintained independeently\n",
    "of each other.\n",
    "2. Security: Information hiding allows protect sensitive data and unauthorized accesss is prevented.\n",
    "3. Abstraction: Hiding implementation details allows us to create abstract classes that can be inherited by other classes.\n",
    "4. Maintenance and Evolution: When implementation details are hidden we can change structure of the class without affecting users of the class and object.\n"
   ]
  },
  {
   "cell_type": "markdown",
   "metadata": {},
   "source": [
    "------\n",
    "20. Create a Python class called `Customer` with private attributes for customer details like name, address,\n",
    "and contact information. Implement encapsulation to ensure data integrity and security."
   ]
  },
  {
   "cell_type": "code",
   "execution_count": null,
   "metadata": {},
   "outputs": [],
   "source": [
    "\n",
    "class Customer:\n",
    "     def __init__(self, name, address, contact):\n",
    "          self.__name = name\n",
    "          self.__address = address\n",
    "          self.__contact = contact\n",
    "     \n",
    "     def get_name(self):\n",
    "          return self.__name\n",
    "     \n",
    "     def get_address(self):\n",
    "          return self.__address\n",
    "     \n",
    "     def get_contact(self):\n",
    "          return self.__contact\n",
    "\n"
   ]
  },
  {
   "cell_type": "markdown",
   "metadata": {},
   "source": [
    "### Polymorphism"
   ]
  },
  {
   "cell_type": "markdown",
   "metadata": {},
   "source": [
    "---------\n",
    "1. What is polymorphism in Python? Explain how it is related to object-oriented programming."
   ]
  },
  {
   "cell_type": "markdown",
   "metadata": {},
   "source": [
    "Polymorphism is the ability of an object to take on many forms. It is a concept in object-oriented programming where a single entity can have multiple forms. In python polymorphism is achieved through method overloading and method overriding. Method overriding allows a subclass to provide a differnet implementation of a method that is already defined in its superclass. This means that the subclass can override the method in its superclass."
   ]
  },
  {
   "cell_type": "code",
   "execution_count": null,
   "metadata": {},
   "outputs": [],
   "source": [
    "2. Describe the difference between compile-time polymorphism and runtime polymorphism in Python."
   ]
  },
  {
   "cell_type": "markdown",
   "metadata": {},
   "source": [
    "There's no polymorphism in python language. Python support a form of polymorphism called runtime polymorphism or runtime polymorphism or dynamic polymorphism through method overriding method overrding allows a subclass to provide a different implementation of a method that is already defined in its superclass. This allows objects of different subclasses to be treated as objects. The concept of polymorphism is primarily associated with runtime rather than compile-time.  "
   ]
  },
  {
   "cell_type": "markdown",
   "metadata": {},
   "source": [
    "--------\n",
    "3. Create a Python class hierarchy for shapes (e.g., circle, square, triangle) and demonstrate polymorphism\n",
    "through a common method, such as `calculate_area()`."
   ]
  },
  {
   "cell_type": "code",
   "execution_count": null,
   "metadata": {},
   "outputs": [],
   "source": [
    "import math\n",
    "# Base class Shape with a method calculate_area().\n",
    "class shape:\n",
    "     def calculate_area(self):\n",
    "          pass\n",
    "# Derived classes Circle, Square, and Triangle with their respective methods.\n",
    "class circle(shape):\n",
    "     def __init__(self, radius):\n",
    "          self.radius = radius\n",
    "     def calculate_area(self):\n",
    "          return math.pi * self.radius ** 2\n",
    "class square(shape):\n",
    "     def __init__(self, side):\n",
    "          self.side = side\n",
    "     def calculate_area(self):\n",
    "          return self.side ** 2\n",
    "class triangle(shape):\n",
    "     def __init__(self, base, height):\n",
    "          self.base = base\n",
    "          self.height = height\n",
    "     def calculate_area(self):\n",
    "          return 0.5 * self.base * self.height\n",
    "\n",
    "# Usage\n",
    "circle = Circle(5)\n",
    "square = square(4)\n",
    "triangle = triangle(3, 6)\n",
    "\n",
    "print(\"Area of Circle:\", circle.calculate_area())\n",
    "print(\"Area of Square:\", square.calculate_area())\n",
    "print(\"Area of Triangle:\", triangle.calculate_area())"
   ]
  },
  {
   "cell_type": "markdown",
   "metadata": {},
   "source": [
    "-------\n",
    "4. Explain the concept of method overriding in polymorphism. Provide an example.\n"
   ]
  },
  {
   "cell_type": "markdown",
   "metadata": {},
   "source": [
    "Method overriding is a feature in object-oriented programming that allows a subclass to provide a different implementation of a method that is already defined in its superclass. This means subclass can redefine the behavior of the method inherited from superclass. "
   ]
  },
  {
   "cell_type": "code",
   "execution_count": 2,
   "metadata": {},
   "outputs": [
    {
     "name": "stdout",
     "output_type": "stream",
     "text": [
      "Animal makes sound\n",
      "Dog barks\n",
      "Cat meows\n"
     ]
    }
   ],
   "source": [
    "class Animal_Sound:\n",
    "     def sound(self):\n",
    "          print(\"Animal makes sound\")\n",
    "\n",
    "class Dog(Animal_Sound):\n",
    "     def sound(self):\n",
    "          print(\"Dog barks\")\n",
    "\n",
    "class Cat(Animal_Sound):\n",
    "     def sound(self):\n",
    "          print(\"Cat meows\")\n",
    "          \n",
    "animal = Animal_Sound()\n",
    "animal.sound()\n",
    "\n",
    "dog = Dog()\n",
    "dog.sound()\n",
    "\n",
    "cat = Cat()\n",
    "cat.sound()"
   ]
  },
  {
   "cell_type": "markdown",
   "metadata": {},
   "source": [
    "-----------\n",
    "5. How is polymorphism different from method overloading in Python? Provide examples for both."
   ]
  },
  {
   "cell_type": "markdown",
   "metadata": {},
   "source": [
    "In python polymorphism and method overloading are both concepts of object-oriented programming but they have different purposes and different implementation.\n",
    "Polymorphism is the ability of an object to take on many forms. It allows for different clsses to be trated as objects of a common superclass. It allows for differnt beahbior based on the actual type of object. This is achieved through method overriding."
   ]
  },
  {
   "cell_type": "markdown",
   "metadata": {},
   "source": [
    "Polymorphism using method overloading"
   ]
  },
  {
   "cell_type": "code",
   "execution_count": null,
   "metadata": {},
   "outputs": [],
   "source": [
    "class Vechile:\n",
    "     def type(self):\n",
    "          print(\"Vechile type\")\n",
    "class Bike(Vechile):\n",
    "     def type(self):\n",
    "          print(\"Bike has two wheels\")\n",
    "class Car(Vechile):\n",
    "     def type(self):\n",
    "          print(\"Car has four wheels\")\n",
    "\n",
    "bike = Bike()\n",
    "bike.type()\n",
    "\n",
    "car = Car()\n",
    "car.type()"
   ]
  },
  {
   "cell_type": "markdown",
   "metadata": {},
   "source": [
    "---------\n",
    "6. Create a Python class called `Animal` with a method `speak()`. Then, create child classes like `Dog`, `Cat`, and `Bird`, each with their own `speak()` method. Demonstrate polymorphism by calling the `speak()` method\n",
    "on objects of different subclasses."
   ]
  },
  {
   "cell_type": "code",
   "execution_count": null,
   "metadata": {},
   "outputs": [],
   "source": [
    "class Animal:\n",
    "     def type(self):\n",
    "          print(\"Animal type\")\n",
    "     def speak(self):\n",
    "          print(\"Animal makes sound\")\n",
    "\n",
    "class Dog(Animal):\n",
    "     def speak(self):\n",
    "          print(\"Dog barks\")\n",
    "class Cat(Animal):\n",
    "     def speak(self):\n",
    "          print(\"Cat meows\")\n",
    "class Bird(Animal):\n",
    "     def speak(self):\n",
    "          print(\"Bird chirps\")\n",
    "\n",
    "dog = Dog()\n",
    "dog.speak()\n",
    "\n",
    "cat = Cat()\n",
    "cat.speak()\n",
    "\n",
    "bird = Bird()\n",
    "bird.speak()"
   ]
  },
  {
   "cell_type": "markdown",
   "metadata": {},
   "source": [
    "----------\n",
    "7. Discuss the use of abstract methods and classes in achieving polymorphism in Python. Provide an example\n",
    "using the `abc` module."
   ]
  },
  {
   "cell_type": "markdown",
   "metadata": {},
   "source": [
    "Abstract methods and classes in Python are used to define a common interface for a group of methods that have\n",
    "different implementations. Python plays a crucial role in achieving polymorphism by providing a way to define interfaces or contracts that subclasses must adhere to.\n",
    "They ensure that different classes provide implementations for same methods allowing objects of those classes to be treated interchangeably."
   ]
  },
  {
   "cell_type": "code",
   "execution_count": null,
   "metadata": {},
   "outputs": [],
   "source": [
    "from abc import ABC, abstractmethod\n",
    "\n",
    "class Animal(ABC):\n",
    "    @abstractmethod\n",
    "    def sound(self):\n",
    "        pass\n",
    "\n",
    "class Dog(Animal):\n",
    "    def sound(self):\n",
    "        print(\"Dog barks\")\n",
    "\n",
    "class Cat(Animal):\n",
    "    def sound(self):\n",
    "        print(\"Cat meows\")\n",
    "\n",
    "\n",
    "dog = Dog()\n",
    "dog.sound()     # Output: \"Dog barks\"\n",
    "\n",
    "cat = Cat()\n",
    "cat.sound()     # Output: \"Cat meows\""
   ]
  },
  {
   "cell_type": "markdown",
   "metadata": {},
   "source": [
    "----------\n",
    "8. Create a Python class hierarchy for a vehicle system (e.g., car, bicycle, boat) and implement a polymorphic `start()` method that prints a message specific to each vehicle type."
   ]
  },
  {
   "cell_type": "code",
   "execution_count": null,
   "metadata": {},
   "outputs": [],
   "source": [
    "class hierarchy:\n",
    "     def type(self):\n",
    "          print(\"Vehicle type\")\n",
    "     def start(self):\n",
    "          print(\"Vehicle starts\")\n",
    "\n",
    "class car(hierarchy):\n",
    "     def start(self):\n",
    "          print(\"Car starts by key\")\n",
    "class bicycle(hierarchy):\n",
    "     def start(self):\n",
    "          print(\"Bicycle starts by pedal\")\n",
    "class boat(hierarchy):\n",
    "     def start(self):\n",
    "          print(\"Boat also starts by pedal\")\n",
    "\n",
    "car = car()\n",
    "car.start()\n",
    "\n",
    "bicycle = bicycle()\n",
    "bicycle.start()\n",
    "\n",
    "boat = boat()\n",
    "boat.start()"
   ]
  },
  {
   "cell_type": "markdown",
   "metadata": {},
   "source": [
    "--------\n",
    "9. Explain the significance of the `isinstance()` and `issubclass()` functions in Python polymorphism."
   ]
  },
  {
   "cell_type": "markdown",
   "metadata": {},
   "source": [
    "isinstance()\n",
    "\n",
    "The isinstance function checks whether an object is an instance of a class or not.\n",
    "It returns True if the object is an instance of the class, and False otherwise.\n"
   ]
  },
  {
   "cell_type": "code",
   "execution_count": 2,
   "metadata": {},
   "outputs": [
    {
     "name": "stdout",
     "output_type": "stream",
     "text": [
      "True\n",
      "True\n",
      "False\n",
      "True\n",
      "False\n",
      "True\n",
      "False\n"
     ]
    }
   ],
   "source": [
    "class computer:\n",
    "     pass\n",
    "class laptop(computer):\n",
    "    pass\n",
    "class desktop(computer):\n",
    "    pass\n",
    "obj1 = laptop()\n",
    "print(isinstance(obj1, computer))\n",
    "print(isinstance(obj1, laptop))\n",
    "print(isinstance(obj1, desktop))\n",
    "obj2 = desktop()\n",
    "print(isinstance(obj2, computer))\n",
    "print(isinstance(obj2, laptop))\n",
    "print(isinstance(obj2, object))\n",
    "print(isinstance(obj2, int))"
   ]
  },
  {
   "cell_type": "markdown",
   "metadata": {},
   "source": [
    "issubclass()\n",
    "\n",
    "The issubclass function checks whether a class is a subclass of another class or not.\n",
    "It returns True if the subclass is direct or indirectly of the other class, and False otherwise."
   ]
  },
  {
   "cell_type": "code",
   "execution_count": 5,
   "metadata": {},
   "outputs": [
    {
     "name": "stdout",
     "output_type": "stream",
     "text": [
      "True\n",
      "True\n",
      "False\n"
     ]
    }
   ],
   "source": [
    "class computer:\n",
    "     pass\n",
    "class laptop(computer):\n",
    "    pass\n",
    "class desktop(computer):\n",
    "    pass\n",
    "print(issubclass(laptop, computer))\n",
    "print(issubclass(laptop, laptop))\n",
    "print(issubclass(laptop, desktop))"
   ]
  },
  {
   "cell_type": "markdown",
   "metadata": {},
   "source": [
    "------\n",
    "10. What is the role of the `@abstractmethod` decorator in achieving polymorphism in Python? Provide an\n",
    "example."
   ]
  },
  {
   "cell_type": "markdown",
   "metadata": {},
   "source": [
    "The role of the @abstarctmethod decorator in achieving polymorphism in Python nu enforcing the implementation of abstarct method in child class. Abstarct method are declared with the @abstarctmethod decorator ensuring all common methods are shared with common behavior."
   ]
  },
  {
   "cell_type": "code",
   "execution_count": 11,
   "metadata": {},
   "outputs": [
    {
     "name": "stdout",
     "output_type": "stream",
     "text": [
      "Area of the circle: 452.3893421169302\n"
     ]
    }
   ],
   "source": [
    "import math\n",
    "import abc\n",
    "class Shape:\n",
    "    @abc.abstractmethod\n",
    "    def area(self):\n",
    "        pass\n",
    "class Circle(Shape):\n",
    "    def __init__(self, radius):\n",
    "        self.radius = radius\n",
    "    def area(self):\n",
    "        return math.pi * self.radius ** 2\n",
    "x = int(input(\"Enter the radius of the circle: \"))\n",
    "circle = Circle(x)\n",
    "print(\"Area of the circle:\", circle.area())\n"
   ]
  },
  {
   "cell_type": "markdown",
   "metadata": {},
   "source": [
    "------\n",
    "11. Create a Python class called `Shape` with a polymorphic method `area()` that calculates the area of different shapes (e.g., circle, rectangle, triangle)."
   ]
  },
  {
   "cell_type": "code",
   "execution_count": 4,
   "metadata": {},
   "outputs": [
    {
     "name": "stdout",
     "output_type": "stream",
     "text": [
      "Area of the circle: 12.566370614359172\n",
      "Area of the rectangle: 2\n",
      "Area of the triangle: 6.0\n"
     ]
    }
   ],
   "source": [
    "import math\n",
    "from abc import ABC, abstractmethod\n",
    "class Shape(ABC):\n",
    "    def __init__(self, radius, width, base, height):\n",
    "        self.radius = radius\n",
    "        self.width = width\n",
    "        self.base = base\n",
    "        self.height = height\n",
    "    \n",
    "    @abstractmethod\n",
    "    def area(self):\n",
    "        pass\n",
    "    \n",
    "class circle(Shape):\n",
    "    def __init__(self, radius):\n",
    "        self.radius = radius\n",
    "    def area(self):\n",
    "        return math.pi * self.radius ** 2\n",
    "class rectangle(Shape):\n",
    "    def __init__(self, width, height):\n",
    "        self.width = width\n",
    "        self.height = height\n",
    "    def area(self):\n",
    "        return self.width * self.height\n",
    "class triangle(Shape):\n",
    "    def __init__(self, base, height):\n",
    "        self.base = base\n",
    "        self.height = height\n",
    "    def area(self):\n",
    "        return 0.5 * self.base * self.height\n",
    "x = int(input(\"Enter the radius of the circle: \"))\n",
    "circle = circle(x)\n",
    "print(\"Area of the circle:\", circle.area())\n",
    "x = int(input(\"Enter the width of the rectangle: \"))\n",
    "y = int(input(\"Enter the height of the rectangle: \"))\n",
    "rectangle = rectangle(x, y)\n",
    "print(\"Area of the rectangle:\", rectangle.area())\n",
    "x = int(input(\"Enter the base of the triangle: \"))\n",
    "y = int(input(\"Enter the height of the triangle: \"))\n",
    "triangle = triangle(x, y)\n",
    "print(\"Area of the triangle:\", triangle.area())"
   ]
  },
  {
   "cell_type": "markdown",
   "metadata": {},
   "source": [
    "----------\n",
    "12. Discuss the benefits of polymorphism in terms of code reusability and flexibility in Python programs."
   ]
  },
  {
   "cell_type": "markdown",
   "metadata": {},
   "source": [
    "Polymorphism allows objects of different classes to be trated as objects of a common base class. This enables code reusability and flexibility.\n",
    "1. Code Reusability: Polumorphism promotes code reusability by allowing objects of different classes to be treated as objects of a common base class.\n",
    "2. Flexibility: Polymorphism allows objects of different classes to be treated as objects of a common base class. It allows for more modular and extensible code.\n",
    "3. Simplifies Design: Polymorphism simplifies the design of complex systems by allowing objects to be treated at a higher level of abstraction. It allows you to work with objects based on their common interface.\n",
    "4. Easy to Extend: Polymorphism allows you to extend the functionality of an object by adding new classes that inherit from the same base class."
   ]
  },
  {
   "cell_type": "markdown",
   "metadata": {},
   "source": [
    "-------\n",
    "13. Explain the use of the `super()` function in Python polymorphism. How does it help call methods of parent\n",
    "classes?"
   ]
  },
  {
   "cell_type": "markdown",
   "metadata": {},
   "source": [
    "The super() function in Python is used to call methods of parent classes within subclasses. It helps in\n",
    "calling methods of parent classes and allows subclasses to extend and modify the behavior defined in the parent class.\n",
    "The super() function acts as a proxy for the parent class and allows subclasses to call methods defined in the parent class. It takes two arguments:\n",
    "\n",
    "The subclass instance\n",
    "\n",
    "The parent class"
   ]
  },
  {
   "cell_type": "code",
   "execution_count": 14,
   "metadata": {},
   "outputs": [
    {
     "name": "stdout",
     "output_type": "stream",
     "text": [
      "Mouse name: Logitech\n",
      "Mouse price: 2000\n"
     ]
    }
   ],
   "source": [
    "class Peripherals:\n",
    "     def description(self, name, price):\n",
    "          self.name = name\n",
    "          self.price = price\n",
    "\n",
    "class mouse(Peripherals):\n",
    "     def description(self, name, price):\n",
    "          super().description(name, price)\n",
    "          print(\"Mouse name:\", self.name)\n",
    "          print(\"Mouse price:\", self.price)\n",
    "\n",
    "obj = mouse()\n",
    "obj.description(\"Logitech\", 2000)"
   ]
  },
  {
   "cell_type": "markdown",
   "metadata": {},
   "source": [
    "---------\n",
    "14. Create a Python class hierarchy for a banking system with various account types (e.g., savings, checking, credit card) and demonstrate polymorphism by implementing a common `withdraw()` method."
   ]
  },
  {
   "cell_type": "code",
   "execution_count": 23,
   "metadata": {},
   "outputs": [
    {
     "name": "stdout",
     "output_type": "stream",
     "text": [
      "Interest rate is: 5\n",
      "Minimum balance to be maintained: 1000\n",
      "Amount withdrawn from saving account is: 2000\n",
      "Amount withdrawn is:  2000\n",
      "Insufficient balance to withdraw\n"
     ]
    }
   ],
   "source": [
    "class account:\n",
    "     def __init__(self, name, account_no, amount):\n",
    "          self.name = name\n",
    "          self.account_no = account_no\n",
    "          self.amount = amount\n",
    "\n",
    "     def withdraw(self, amount):\n",
    "          self.amount -= amount\n",
    "          print(\"Amount withdrawn is:\", amount)\n",
    "          \n",
    "class SavingAccount(account):\n",
    "     def __init__(self, account_no, amount, interest_rate):\n",
    "          super().__init__(\"savings\", account_no, amount)\n",
    "          self.interest_rate = interest_rate\n",
    "          print(\"Interest rate is:\", self.interest_rate)\n",
    "          \n",
    "     def withdraw(self, amount):\n",
    "          if self.amount >= amount:\n",
    "               self.amount -= amount\n",
    "               print(\"Amount withdrawn from saving account is:\", amount)\n",
    "          else:\n",
    "               print(\"Insufficient balance\")\n",
    "\n",
    "class CheckAmount(account):\n",
    "    def __init__(self, account_no, amount, min_balance):\n",
    "        super().__init__(\"checking\", account_no, amount)\n",
    "        self.min_balance = min_balance\n",
    "        print(\"Minimum balance to be maintained:\", self.min_balance)\n",
    "\n",
    "    def withdraw(self, amount):\n",
    "        if self.amount - self.min_balance >= amount:\n",
    "            self.amount -= amount\n",
    "            print(\"Amount withdrawn is: \", self.amount)\n",
    "        else:\n",
    "            print(\"Insufficient balance to withdraw\")\n",
    "\n",
    "class CreditCard(account):\n",
    "     def __init__(self, account_no, amount, credit_limit):\n",
    "          super().__init__(\"credit card\", account_no, amount)\n",
    "          self.credit_limit = credit_limit\n",
    "          \n",
    "     def withdraw(self, amount):\n",
    "          if self.amount - self.credit_limit >= amount:\n",
    "               self.amount -= amount\n",
    "               print(\"Amount withdrawn from credit card is:\", amount)\n",
    "          else:\n",
    "               print(\"Insufficient balance to withdraw\")\n",
    "\n",
    "obj = account(\"Anshul\", 1234, 10000)     \n",
    "obj1 = SavingAccount(1234, 10000, 5)\n",
    "obj2 = CheckAmount(5678, 5000, 1000)\n",
    "obj3 = CreditCard(9012, 5000, 2000)\n",
    "\n",
    "obj1.withdraw(2000)\n",
    "obj2.withdraw(3000)\n",
    "obj3.withdraw(5000)"
   ]
  },
  {
   "cell_type": "markdown",
   "metadata": {},
   "source": [
    "----------\n",
    "15. Describe the concept of operator overloading in Python and how it relates to polymorphism. Provide\n",
    "examples using operators like `+` and `*`."
   ]
  },
  {
   "cell_type": "markdown",
   "metadata": {},
   "source": [
    "Operator overloading is used to perform operations such as +, *, /, -, etc for objects of different classes. It enables you to use these operators on objects of the same class. It also allows to redefine the behavior of these operators based on the types of operands inbolved.\n",
    "Polymorphim on the other hand is ability of an onbkect to take many forms. Polymorphim in accordance to method overloading allows the use of same operator with differnt types of operands resulting in different behaviors"
   ]
  },
  {
   "cell_type": "markdown",
   "metadata": {},
   "source": [
    "-----------\n",
    "20. Create a Python class for a zoo simulation, demonstrating polymorphism with different animal types (e.g., mammals, birds, reptiles) and their behavior (e.g., eating, sleeping, making sounds)."
   ]
  },
  {
   "cell_type": "code",
   "execution_count": 5,
   "metadata": {},
   "outputs": [
    {
     "name": "stdout",
     "output_type": "stream",
     "text": [
      "Khan the Tiger hunts for food.\n",
      "Polly the Parrot tucks its head under its wing and sleeps.\n",
      "Slither the Snake hisses.\n"
     ]
    }
   ],
   "source": [
    "from abc import ABC, abstractmethod\n",
    "class Animal(ABC):\n",
    "    def __init__(self, name, age, species):\n",
    "        self.name = name\n",
    "        self.age = age\n",
    "        self.species = species\n",
    "    @abstractmethod\n",
    "    def eat(self):\n",
    "        pass\n",
    "    @abstractmethod\n",
    "    def sleep(self):\n",
    "        pass\n",
    "    @abstractmethod\n",
    "    def make_sound(self):\n",
    "        pass\n",
    "class Mammal(Animal):\n",
    "    def __init__(self, name, age, species, fur_color):\n",
    "        super().__init__(name, age, species)\n",
    "        self.fur_color = fur_color\n",
    "    def eat(self):\n",
    "        print(f\"{self.name} the {self.species} hunts for food.\")\n",
    "    def sleep(self):\n",
    "        print(f\"{self.name} the {self.species} sleeps in the shade.\")\n",
    "    def make_sound(self):\n",
    "        print(f\"{self.name} the {self.species} roars loudly!\")\n",
    "class Bird(Animal):\n",
    "    def __init__(self, name, age, species, feather_color):\n",
    "        super().__init__(name, age, species)\n",
    "        self.feather_color = feather_color\n",
    "    def eat(self):\n",
    "        print(f\"{self.name} the {self.species} pecks at some seeds.\")\n",
    "    def sleep(self):\n",
    "        print(f\"{self.name} the {self.species} tucks its head under its wing and sleeps.\")\n",
    "    def make_sound(self):\n",
    "        print(f\"{self.name} the {self.species} chirps happily!\")\n",
    "\n",
    "class Reptile(Animal):\n",
    "    def __init__(self, name, age, species, scale_color):\n",
    "        super().__init__(name, age, species)\n",
    "        self.scale_color = scale_color\n",
    "\n",
    "    def eat(self):\n",
    "        print(f\"{self.name} the {self.species} slithers towards a tasty lizard.\")\n",
    "\n",
    "    def sleep(self):\n",
    "        print(f\"{self.name} the {self.species} basks in the warm sun and naps.\")\n",
    "\n",
    "    def make_sound(self):\n",
    "        print(f\"{self.name} the {self.species} hisses.\")\n",
    "\n",
    "tiger = Mammal(\"Khan\", 5, \"Tiger\", \"Orange\")\n",
    "parrot = Bird(\"Polly\", 3, \"Parrot\", \"Green\")\n",
    "snake = Reptile(\"Slither\", 2, \"Snake\", \"Brown\")\n",
    "\n",
    "tiger.eat()\n",
    "parrot.sleep()\n",
    "snake.make_sound()"
   ]
  },
  {
   "cell_type": "markdown",
   "metadata": {},
   "source": [
    "------\n",
    "1. What is abstraction in Python, and how does it relate to object-oriented programming?"
   ]
  },
  {
   "cell_type": "markdown",
   "metadata": {},
   "source": [
    "Abstraction in python is a concept in object-oriented programming that allows us to create abstract classes\n",
    "and methods that can be inherited by other classes. It helps hide unnecessary details and focusing on essential features. In python abstarction helps developers create clean, reusable and maintainable code.\n",
    "\n",
    "Key aspect of abstarction in python\n",
    "\n",
    "1. Hiding implementation details: Abstraction allows showing necessary functionalities and hiding internal implementation details.\n",
    "2. Focusing on Essential features: Abstarction helps focus on essential features exposing only core functionalities and user interface of a class.\n",
    "3. Utilizing interfaces: Interfaces are the most important part of abstarction. They are blueprints that define the essential features of a class.\n",
    "4. Encapsulation and Data Hiding: Encapsulation is used to hide the data of a class from unauthorized access. It allows us to control the access to the data of a class. Abstraction focuses on the public interface of the class, protecting the internal data and ensuring proper data management."
   ]
  },
  {
   "cell_type": "markdown",
   "metadata": {},
   "source": [
    "------\n",
    "2. Describe the benefits of abstraction in terms of code organization and complexity reduction."
   ]
  },
  {
   "cell_type": "code",
   "execution_count": null,
   "metadata": {},
   "outputs": [],
   "source": [
    "Abstarction in code organization helps in reducing the complexity of the code."
   ]
  },
  {
   "cell_type": "code",
   "execution_count": null,
   "metadata": {},
   "outputs": [],
   "source": [
    "----------\n",
    "3. Create a Python class called `Shape` with an abstract method `calculate_area()`. Then, create child classes (e.g., `Circle`, `Rectangle`) that implement the `calculate_area()` method. Provide an example of\n",
    "using these classes."
   ]
  },
  {
   "cell_type": "code",
   "execution_count": null,
   "metadata": {},
   "outputs": [],
   "source": [
    "import math\n",
    "from abc import ABC, abstractmethod\n",
    "class Shape(ABC):\n",
    "    def __init__(self, radius, width, base, height):\n",
    "        self.radius = radius\n",
    "        self.width = width\n",
    "        self.base = base\n",
    "        self.height = height\n",
    "    \n",
    "    @abstractmethod\n",
    "    def calculate_area(self):\n",
    "        pass\n",
    "    \n",
    "class circle(Shape):\n",
    "    def __init__(self, radius):\n",
    "        self.radius = radius\n",
    "    def area(self):\n",
    "        return math.pi * self.radius ** 2\n",
    "class rectangle(Shape):\n",
    "    def __init__(self, width, height):\n",
    "        self.width = width\n",
    "        self.height = height\n",
    "    def area(self):\n",
    "        return self.width * self.height\n",
    "x = int(input(\"Enter the radius of the circle: \"))\n",
    "circle = circle(x)\n",
    "print(\"Area of the circle:\", circle.area())\n",
    "x = int(input(\"Enter the width of the rectangle: \"))\n",
    "y = int(input(\"Enter the height of the rectangle: \"))\n",
    "rectangle = rectangle(x, y)\n",
    "print(\"Area of the rectangle:\", rectangle.area())"
   ]
  },
  {
   "cell_type": "markdown",
   "metadata": {},
   "source": [
    "-------\n",
    "4. Explain the concept of abstract classes in Python and how they are defined using the `abc` module. Provide\n",
    "an example."
   ]
  },
  {
   "cell_type": "markdown",
   "metadata": {},
   "source": [
    "Abstract classes are classes that have abstract methods. They are meant to be used as a blueprint for other\n",
    "classes. The abstract methods are defined using abc module which stands for \"Abstract Base Classes\".\n",
    "To define abc module, we use \"from abc import ABC, abstractmethod\""
   ]
  },
  {
   "cell_type": "code",
   "execution_count": 2,
   "metadata": {},
   "outputs": [
    {
     "ename": "NameError",
     "evalue": "name 'abstarctmethod' is not defined",
     "output_type": "error",
     "traceback": [
      "\u001b[1;31m---------------------------------------------------------------------------\u001b[0m",
      "\u001b[1;31mNameError\u001b[0m                                 Traceback (most recent call last)",
      "\u001b[1;32mc:\\Users\\RS\\OneDrive\\Documents\\DS\\Ineuron Assignment\\OOP.ipynb Cell 199\u001b[0m line \u001b[0;36m2\n\u001b[0;32m      <a href='vscode-notebook-cell:/c%3A/Users/RS/OneDrive/Documents/DS/Ineuron%20Assignment/OOP.ipynb#Y403sZmlsZQ%3D%3D?line=0'>1</a>\u001b[0m \u001b[39mfrom\u001b[39;00m \u001b[39mabc\u001b[39;00m \u001b[39mimport\u001b[39;00m ABC, abstractmethod\n\u001b[1;32m----> <a href='vscode-notebook-cell:/c%3A/Users/RS/OneDrive/Documents/DS/Ineuron%20Assignment/OOP.ipynb#Y403sZmlsZQ%3D%3D?line=1'>2</a>\u001b[0m \u001b[39mclass\u001b[39;00m \u001b[39manimal\u001b[39;00m(ABC):\n\u001b[0;32m      <a href='vscode-notebook-cell:/c%3A/Users/RS/OneDrive/Documents/DS/Ineuron%20Assignment/OOP.ipynb#Y403sZmlsZQ%3D%3D?line=2'>3</a>\u001b[0m      \u001b[39m@abstarctmethod\u001b[39m\n\u001b[0;32m      <a href='vscode-notebook-cell:/c%3A/Users/RS/OneDrive/Documents/DS/Ineuron%20Assignment/OOP.ipynb#Y403sZmlsZQ%3D%3D?line=3'>4</a>\u001b[0m      \u001b[39mdef\u001b[39;00m \u001b[39meats\u001b[39m(\u001b[39mself\u001b[39m):\n\u001b[0;32m      <a href='vscode-notebook-cell:/c%3A/Users/RS/OneDrive/Documents/DS/Ineuron%20Assignment/OOP.ipynb#Y403sZmlsZQ%3D%3D?line=4'>5</a>\u001b[0m           \u001b[39mpass\u001b[39;00m\n",
      "\u001b[1;32mc:\\Users\\RS\\OneDrive\\Documents\\DS\\Ineuron Assignment\\OOP.ipynb Cell 199\u001b[0m line \u001b[0;36m3\n\u001b[0;32m      <a href='vscode-notebook-cell:/c%3A/Users/RS/OneDrive/Documents/DS/Ineuron%20Assignment/OOP.ipynb#Y403sZmlsZQ%3D%3D?line=1'>2</a>\u001b[0m \u001b[39mclass\u001b[39;00m \u001b[39manimal\u001b[39;00m(ABC):\n\u001b[1;32m----> <a href='vscode-notebook-cell:/c%3A/Users/RS/OneDrive/Documents/DS/Ineuron%20Assignment/OOP.ipynb#Y403sZmlsZQ%3D%3D?line=2'>3</a>\u001b[0m      \u001b[39m@abstarctmethod\u001b[39m\n\u001b[0;32m      <a href='vscode-notebook-cell:/c%3A/Users/RS/OneDrive/Documents/DS/Ineuron%20Assignment/OOP.ipynb#Y403sZmlsZQ%3D%3D?line=3'>4</a>\u001b[0m      \u001b[39mdef\u001b[39;00m \u001b[39meats\u001b[39m(\u001b[39mself\u001b[39m):\n\u001b[0;32m      <a href='vscode-notebook-cell:/c%3A/Users/RS/OneDrive/Documents/DS/Ineuron%20Assignment/OOP.ipynb#Y403sZmlsZQ%3D%3D?line=4'>5</a>\u001b[0m           \u001b[39mpass\u001b[39;00m\n",
      "\u001b[1;31mNameError\u001b[0m: name 'abstarctmethod' is not defined"
     ]
    }
   ],
   "source": [
    "from abc import ABC, abstractmethod\n",
    "class animal(ABC):\n",
    "     @abstractmethod\n",
    "     def eats(self):\n",
    "          pass\n",
    "class cow(animal):\n",
    "     def eats(self):\n",
    "          print(\"Cows eat grass\")\n",
    "class tiger(animal):\n",
    "     def eats(self):\n",
    "          print(\"Tigers eat meat\")\n",
    "\n",
    "cow = cow()\n",
    "tiger = tiger()\n",
    "cow.eats()\n",
    "tiger.eats()"
   ]
  },
  {
   "cell_type": "markdown",
   "metadata": {},
   "source": [
    "-------\n",
    "5. How do abstract classes differ from regular classes in Python? Discuss their use cases."
   ]
  },
  {
   "cell_type": "markdown",
   "metadata": {},
   "source": [
    "Abstract classes differ from regular classes in several ways:\n",
    "\n",
    "bstract classes and regular classes have several key differences:\n",
    "\n",
    "1. Instantiation: \n",
    "\n",
    "Abstract classes: Cannot be directly instantiated using the new keyword. This is because they are meant to serve as a blueprint for concrete classes to inherit from and implement specific functionalities.\n",
    "\n",
    "Regular classes: Can be directly instantiated using the new keyword, creating objects with the defined attributes and methods.\n",
    "\n",
    "2. Abstract methods: \n",
    "\n",
    "Abstract classes: Can contain abstract methods, which are methods declared with no implementation body. These methods serve as placeholders and must be implemented in subclasses.\n",
    "\n",
    "Regular classes: Cannot contain abstract methods. All methods defined in regular classes must have a complete implementation."
   ]
  },
  {
   "cell_type": "markdown",
   "metadata": {},
   "source": [
    "---------\n",
    "6. Create a Python class for a bank account and demonstrate abstraction by hiding the account balance and\n",
    "providing methods to deposit and withdraw funds."
   ]
  },
  {
   "cell_type": "code",
   "execution_count": 3,
   "metadata": {},
   "outputs": [
    {
     "ename": "",
     "evalue": "",
     "output_type": "error",
     "traceback": [
      "\u001b[1;31mThe Kernel crashed while executing code in the the current cell or a previous cell. Please review the code in the cell(s) to identify a possible cause of the failure. Click <a href='https://aka.ms/vscodeJupyterKernelCrash'>here</a> for more info. View Jupyter <a href='command:jupyter.viewOutput'>log</a> for further details."
     ]
    }
   ],
   "source": [
    "from abc import ABC, abstractmethod\n",
    "class bankaccount:\n",
    "    def __init__(self, balance=0):\n",
    "        self.balance = balance\n",
    "\n",
    "    @abstractmethod\n",
    "    def deposit(self, amount):\n",
    "         pass\n",
    "    @abstractmethod\n",
    "    def withdraw(self, amount):\n",
    "         pass\n",
    "\n",
    "class savingaccount(bankaccount):\n",
    "    def __init__(self, amount=0):\n",
    "        super().__init__(amount)\n",
    "\n",
    "    def deposit(self, amount):\n",
    "        if amount <= 0:\n",
    "            print(\"Amount must be positive.\")\n",
    "        self.balance += amount\n",
    "\n",
    "    def withdraw(self, amount):\n",
    "        if amount <= 0:\n",
    "            print(\"Amount must be positive.\")\n",
    "        if amount > self.balance:\n",
    "            print(\"Insufficient funds.\")\n",
    "        self.balance -= amount\n"
   ]
  },
  {
   "cell_type": "markdown",
   "metadata": {},
   "source": [
    "---------\n",
    "7. Discuss the concept of interface classes in Python and their role in achieving abstraction."
   ]
  },
  {
   "cell_type": "markdown",
   "metadata": {},
   "source": [
    "Interface classes are used to define an abstract class that contains only abstract methods. We can implement interface classes using the `abc` module. This helps in achieving abstraction and modularity."
   ]
  },
  {
   "cell_type": "markdown",
   "metadata": {},
   "source": [
    "8. Create a Python class hierarchy for animals and implement abstraction by defining common methods (e.g., `eat()`, `sleep()`) in an abstract base class."
   ]
  },
  {
   "cell_type": "code",
   "execution_count": null,
   "metadata": {},
   "outputs": [],
   "source": [
    "from abc import ABC, abstractmethod\n",
    "class animal(ABC):\n",
    "    @abstractmethod\n",
    "    def eats(self):\n",
    "        pass\n",
    "    def sleep(self):\n",
    "        pass\n",
    "class cow(animal):\n",
    "    def eats(self):\n",
    "        print(\"Cows eat grass\")\n",
    "    def sleep(self):\n",
    "        print(\"Cows sleep in night\")\n",
    "class owls(animal):\n",
    "    def eats(self):\n",
    "        print(\"Owls eat meat\")\n",
    "    def sleep(self):\n",
    "        print(\"Owls sleep in morning\")"
   ]
  },
  {
   "cell_type": "markdown",
   "metadata": {},
   "source": [
    "-------\n",
    "9. Explain the significance of encapsulation in achieving abstraction. Provide examples."
   ]
  },
  {
   "cell_type": "markdown",
   "metadata": {},
   "source": [
    "Encapsulation is used to restrict access to methods and variables. It helps in data hiding by controlling access to members of a class. It exposes only necessary interface to interact with the object. The significance of encapsulation can be divided intp 2 parts:\n",
    "\n",
    "1. Data Hiding: Encapsulation protects sensitive data by hiding it from direct access. By restricting access to internal attributes and providing controlled methods for manipulation, encapsulation ensures data integrity and prevents accidental modification.\n",
    "2. Improved Maintainability: By decoupling the interface from the implementation, encapsulation makes code easier to maintain and modify. Changes to internal implementation details are reflected in the public interface.\n",
    "3. Flexibility and Reusability: Encapsulation promotes modularity and reusability by encapsulating functionality within self-contained units. This allows developers to create reusable components with well-defined interfaces, simplifying code reuse.\n",
    "4. Reduced Complexity: Encapsulation reduces complexity by hiding unnecessary details from users. It allows them to focus on the functionality exposed by the interface rather than understanding the intricate implementation details."
   ]
  },
  {
   "cell_type": "markdown",
   "metadata": {},
   "source": [
    "-----\n",
    "10. What is the purpose of abstract methods, and how do they enforce abstraction in Python classes?"
   ]
  },
  {
   "cell_type": "markdown",
   "metadata": {},
   "source": [
    "In python abstract methods are defined with the @abstractmethod decorator. Abstract methods are methods that have no implementation and serve as placeholders for methods that will be implemented by subclasses.\n",
    "The purpose of abstract methods is to enforce abstraction by providing a common interface for subclasses to implement. The ABC module provides the abstract base class (ABC) and the abstract method decorator (abstractmethod). Python provides a way to define common interfaces and enforce that subclasses implement specific methods leading to better code organization and design."
   ]
  },
  {
   "cell_type": "markdown",
   "metadata": {},
   "source": [
    "------\n",
    "11. Create a Python class for a vehicle system and demonstrate abstraction by defining common methods (e.g., `start()`, `stop()`) in an abstract base class."
   ]
  },
  {
   "cell_type": "code",
   "execution_count": null,
   "metadata": {},
   "outputs": [],
   "source": [
    "from abc import ABC, abstractmethod\n",
    "\n",
    "class VehicleSystem(ABC):\n",
    "    @abstractmethod\n",
    "    def start(self):\n",
    "        pass\n",
    "\n",
    "    @abstractmethod\n",
    "    def stop(self):\n",
    "        pass\n",
    "\n",
    "class Car(VehicleSystem):\n",
    "    def start(self):\n",
    "        print(\"Car started\")\n",
    "\n",
    "    def stop(self):\n",
    "        print(\"Car stopped\")\n",
    "\n",
    "class Motorcycle(VehicleSystem):\n",
    "    def start(self):\n",
    "        print(\"Motorcycle started\")\n",
    "\n",
    "    def stop(self):\n",
    "        print(\"Motorcycle stopped\")\n",
    "\n",
    "car = Car()\n",
    "car.start()\n",
    "car.stop()\n",
    "\n",
    "motorcycle = Motorcycle()\n",
    "motorcycle.start()\n",
    "motorcycle.stop()"
   ]
  },
  {
   "cell_type": "markdown",
   "metadata": {},
   "source": [
    "-------\n",
    "12. Describe the use of abstract properties in Python and how they can be employed in abstract classes."
   ]
  },
  {
   "cell_type": "markdown",
   "metadata": {},
   "source": [
    "Abstract properties are used to define properties in abstract base classes (ABCs) that must be implemented in concrete subclasses. They are similar to abstract methods but are used to enforce the implementation of specific properties rather than methods.\n",
    "\n",
    "To define an abstract property, use the @property decorator along with the @abstractmethod decorator. This combination allows you to define a property without providing an implementation for it."
   ]
  },
  {
   "cell_type": "code",
   "execution_count": null,
   "metadata": {},
   "outputs": [],
   "source": [
    "from abc import ABC, abstractmethod\n",
    "\n",
    "class VehicleSystem(ABC):\n",
    "    @property\n",
    "    @abstractmethod\n",
    "    def max_speed(self):\n",
    "        pass\n",
    "\n",
    "class Car(VehicleSystem):\n",
    "    @property\n",
    "    def max_speed(self):\n",
    "        return 200\n",
    "\n",
    "class Motorcycle(VehicleSystem):\n",
    "    @property\n",
    "    def max_speed(self):\n",
    "        return 300\n",
    "\n",
    "car = Car()\n",
    "print(car.max_speed)\n",
    "\n",
    "motorcycle = Motorcycle()\n",
    "print(motorcycle.max_speed)"
   ]
  },
  {
   "cell_type": "markdown",
   "metadata": {},
   "source": [
    "---------\n",
    "13. Create a Python class hierarchy for employees in a company (e.g., manager, developer, designer) and implement abstraction by defining a common `get_salary()` method."
   ]
  },
  {
   "cell_type": "code",
   "execution_count": 1,
   "metadata": {},
   "outputs": [
    {
     "name": "stdout",
     "output_type": "stream",
     "text": [
      "John Doe's salary: $60000\n",
      "Smith John's salary: $44500.0\n",
      "Jane Smith's salary: $36000\n"
     ]
    }
   ],
   "source": [
    "from abc import ABC, abstractmethod\n",
    "\n",
    "class Employee(ABC):\n",
    "    def __init__(self, name, base_salary):\n",
    "        self.name = name\n",
    "        self.base_salary = base_salary\n",
    "\n",
    "    @abstractmethod\n",
    "    def get_salary(self):\n",
    "        pass\n",
    "\n",
    "class Manager(Employee):\n",
    "\n",
    "    def __init__(self, name, base_salary, bonus):\n",
    "        super().__init__(name, base_salary)\n",
    "        self.bonus = bonus\n",
    "\n",
    "    def get_salary(self):\n",
    "        return self.base_salary + self.bonus\n",
    "\n",
    "class Developer(Employee):\n",
    "    def __init__(self, name, base_salary, experience):\n",
    "        super().__init__(name, base_salary)\n",
    "        self.experience = experience\n",
    "\n",
    "    def get_salary(self):\n",
    "        return self.base_salary + self.experience * 1000\n",
    "\n",
    "class Designer(Employee):\n",
    "\n",
    "    def __init__(self, name, base_salary, skills):\n",
    "        super().__init__(name, base_salary)\n",
    "        self.skills = skills\n",
    "\n",
    "    def get_salary(self):\n",
    "        return self.base_salary + len(self.skills) * 500\n",
    "\n",
    "\n",
    "manager = Manager(\"John Doe\", 50000, 10000)\n",
    "developer = Developer(\"Smith John\", 40000, 4.5)\n",
    "designer = Designer(\"Jane Smith\", 35000, [\"UI/UX\", \"Graphic Design\"])\n",
    "\n",
    "print(f\"{manager.name}'s salary: ${manager.get_salary()}\")\n",
    "print(f\"{developer.name}'s salary: ${developer.get_salary()}\")\n",
    "print(f\"{designer.name}'s salary: ${designer.get_salary()}\")\n",
    "     "
   ]
  },
  {
   "cell_type": "markdown",
   "metadata": {},
   "source": [
    "-----\n",
    "14. Discuss the differences between abstract classes and concrete classes in Python, including their\n",
    "instantiation."
   ]
  },
  {
   "cell_type": "markdown",
   "metadata": {},
   "source": [
    "Abstract classes cannot be instantiated and are meant to be inherited from.\n",
    "\n",
    "Concrete classes can be instantiated and provide a complete implementation.\n"
   ]
  },
  {
   "cell_type": "code",
   "execution_count": 1,
   "metadata": {},
   "outputs": [
    {
     "name": "stdout",
     "output_type": "stream",
     "text": [
      "Woof!\n"
     ]
    },
    {
     "ename": "TypeError",
     "evalue": "Can't instantiate abstract class Animal with abstract method make_sound",
     "output_type": "error",
     "traceback": [
      "\u001b[1;31m---------------------------------------------------------------------------\u001b[0m",
      "\u001b[1;31mTypeError\u001b[0m                                 Traceback (most recent call last)",
      "\u001b[1;32mc:\\Users\\RS\\OneDrive\\Documents\\DS\\Ineuron Assignment\\OOP.ipynb Cell 221\u001b[0m line \u001b[0;36m1\n\u001b[0;32m     <a href='vscode-notebook-cell:/c%3A/Users/RS/OneDrive/Documents/DS/Ineuron%20Assignment/OOP.ipynb#Y435sZmlsZQ%3D%3D?line=15'>16</a>\u001b[0m dog\u001b[39m.\u001b[39mmake_sound()  \u001b[39m# Output: Woof!\u001b[39;00m\n\u001b[0;32m     <a href='vscode-notebook-cell:/c%3A/Users/RS/OneDrive/Documents/DS/Ineuron%20Assignment/OOP.ipynb#Y435sZmlsZQ%3D%3D?line=17'>18</a>\u001b[0m \u001b[39m# Attempting to instantiate an abstract class (will raise an error)\u001b[39;00m\n\u001b[1;32m---> <a href='vscode-notebook-cell:/c%3A/Users/RS/OneDrive/Documents/DS/Ineuron%20Assignment/OOP.ipynb#Y435sZmlsZQ%3D%3D?line=18'>19</a>\u001b[0m animal \u001b[39m=\u001b[39m Animal()\n",
      "\u001b[1;31mTypeError\u001b[0m: Can't instantiate abstract class Animal with abstract method make_sound"
     ]
    }
   ],
   "source": [
    "from abc import ABC, abstractmethod\n",
    "\n",
    "# Abstract class\n",
    "class Animal(ABC):\n",
    "    @abstractmethod\n",
    "    def make_sound(self):\n",
    "        pass\n",
    "\n",
    "# Concrete class\n",
    "class Dog(Animal):\n",
    "    def make_sound(self):\n",
    "        print(\"Woof!\")\n",
    "\n",
    "# Instantiating a concrete class\n",
    "dog = Dog()\n",
    "dog.make_sound()  # Output: Woof!\n",
    "\n",
    "# Attempting to instantiate an abstract class (will raise an error)\n",
    "animal = Animal()  # TypeError: Can't instantiate abstract class Animal with abstract methods make_sound"
   ]
  },
  {
   "cell_type": "markdown",
   "metadata": {},
   "source": [
    "-------\n",
    "15. Explain the concept of abstract data types (ADTs) and their role in achieving abstraction in Python."
   ]
  },
  {
   "cell_type": "markdown",
   "metadata": {},
   "source": [
    "Abstract Data Types (ADTs) are a concept in computer science that define a set of operations that can be performed on a data structure, without specifying the implementation details of the data structure. \n",
    "\n",
    "In Python, ADTs are typically implemented using classes. The class serves as the abstract data type, defining the operations (methods) that can be performed on the data structure. The implementation of these methods may vary, but the interface remains consistent.\n",
    "\n",
    "ADTs play a crucial role in achieving abstraction in Python by encapsulating the details of how a data structure is implemented. This allows developers to work with the data structure at a higher level of abstraction, without needing to understand or worry about the internal implementation.\n",
    "\n",
    "The benefits of using ADTs and abstraction include:\n",
    "\n",
    "Modularity: ADTs provide a modular way to organize and structure code. They allow developers to separate concerns and focus on the specific functionality provided by the ADT.\n",
    "\n",
    "Code reuse: ADTs can be reused across different projects and scenarios. Once an ADT is defined, it can be used in various applications without the need to rewrite the implementation logic.\n",
    "\n",
    "Information hiding: ADTs hide the internal implementation details of a data structure. This allows developers to change the implementation without affecting the code that uses the ADT, as long as the interface remains the same.\n",
    "\n",
    "Simplification: ADTs simplify the usage of complex data structures by providing a simplified interface. Users of the ADT only need to understand the provided methods and their behaviors, without worrying about the underlying complexities."
   ]
  },
  {
   "cell_type": "markdown",
   "metadata": {},
   "source": [
    "-------\n",
    "16. Create a Python class for a computer system, demonstrating abstraction by defining common methods (e.g., `power_on()`, `shutdown()`) in an abstract base class."
   ]
  },
  {
   "cell_type": "code",
   "execution_count": null,
   "metadata": {},
   "outputs": [],
   "source": [
    "from abc import ABC, abstractmethod\n",
    "class computer:\n",
    "     @abstractmethod\n",
    "     def power_on(self):\n",
    "          pass\n",
    "     @abstractmethod\n",
    "     def shutdown(self):\n",
    "          pass\n",
    "class windows(computer):\n",
    "     def power_on(self):\n",
    "          print(\"Login successful\")\n",
    "     def shutdown(self):\n",
    "          print(\"shutting down\")"
   ]
  },
  {
   "cell_type": "markdown",
   "metadata": {},
   "source": [
    "---------\n",
    "17. Discuss the benefits of using abstraction in large-scale software development projects."
   ]
  },
  {
   "cell_type": "markdown",
   "metadata": {},
   "source": [
    "Using abstraction in large-scale software development projects offers several benefits:\n",
    "\n",
    "Modularity and Maintainability: Abstraction allows breaking down complex systems into smaller, manageable modules. Each module can be developed, tested, and maintained independently. This modular approach improves code organization and makes it easier to understand and modify specific parts of the system without affecting the entire codebase. It also promotes code reuse, as modules can be used in different parts of the project or even in other projects.\n",
    "\n",
    "Encapsulation and Information Hiding: Abstraction enables encapsulation by hiding the internal details and complexities of a module or component. This reduces the complexity of the codebase, as developers can interact with the module through a well-defined interface without needing to know the inner workings. Encapsulation also helps in maintaining data integrity and preventing unintended modifications to the internal state of a module.\n",
    "\n",
    "Reduced Complexity and Cognitive Load: Large-scale projects can quickly become complex and overwhelming. Abstraction allows developers to work at higher levels of abstraction, focusing on the core functionalities and concepts rather than the implementation details. By hiding unnecessary complexities, abstraction reduces the cognitive load on developers, making it easier to understand and reason about the codebase.\n",
    "\n",
    "Improved Collaboration: Abstraction provides clear boundaries between different modules or components, allowing teams to work on different parts of the system independently. Teams can develop and test their modules in isolation, reducing conflicts and dependencies. Well-defined interfaces provided by abstraction also facilitate communication and collaboration between teams, as they can interact with each other through a common understanding of the exposed functionalities.\n",
    "\n",
    "Flexibility and Scalability: Abstraction promotes loose coupling between modules, reducing dependencies and allowing for flexible system architectures. By abstracting away implementation details, changes to one module can be made without affecting other modules that depend on it. This flexibility enables the system to scale and evolve over time, accommodating new features, technologies, and requirements.\n",
    "\n",
    "Testing and Debugging: Abstraction improves the testability of the codebase. Modules with well-defined interfaces can be tested independently, allowing for easier unit testing and mocking of dependencies. Additionally, abstraction makes debugging more manageable, as developers can narrow down issues to specific modules or components."
   ]
  },
  {
   "cell_type": "markdown",
   "metadata": {},
   "source": [
    "-------\n",
    "18. Explain how abstraction enhances code reusability and modularity in Python programs."
   ]
  },
  {
   "cell_type": "markdown",
   "metadata": {},
   "source": [
    "Abstraction enhances code reusability and modularity in Python programs in the following ways:\n",
    "\n",
    "Encapsulation and Information Hiding: Abstraction allows you to encapsulate the implementation details of a module or class, exposing only the essential interface. This hides the complexity of the underlying code and provides a higher level of abstraction. By hiding the implementation details, you create a clear separation between the interface and the implementation, making it easier to reuse and maintain the code.\n",
    "\n",
    "Modularity through Class and Function Decomposition: Abstraction enables you to break down your code into smaller, modular components. These components can be developed, tested, and maintained independently. You can define classes and functions that encapsulate specific functionality, allowing you to work on different parts of the program in isolation. This modularity not only promotes code reuse within the same project but also facilitates reuse in other projects.\n",
    "\n",
    "Code Organization and Readability: Abstraction helps in organizing your codebase by grouping related functionality into separate modules, classes, or functions. This improves code readability and makes it easier to navigate and understand the codebase. Well-organized and readable code enhances modularity and promotes code reuse as it becomes easier to identify and extract reusable components.\n",
    "\n",
    "Inheritance and Polymorphism: Python supports object-oriented programming concepts like inheritance and polymorphism, which are powerful tools for code reuse and modularity. Abstraction allows you to define abstract classes and interfaces that provide a common contract for subclasses. By inheriting from these abstract classes, you can reuse and extend their functionality while maintaining a consistent interface. Polymorphism allows different objects to be treated interchangeably based on their shared interface, enabling modular and reusable code.\n",
    "\n",
    "Standard Libraries and Third-Party Packages: Python provides a rich ecosystem of standard libraries and third-party packages that offer abstracted functionality. These libraries and packages are designed to be reusable and modular, allowing you to leverage existing solutions in your own code. By using these abstractions, you can focus on higher-level tasks and avoid reinventing the wheel.\n",
    "\n",
    "Dependency Injection and Composition: Abstraction enables you to use dependency injection and composition patterns to create loosely coupled and modular code. By abstracting dependencies behind interfaces or abstract classes, you can easily swap implementations without affecting the dependent code. This promotes code reusability and modularity by allowing different implementations to be used interchangeably."
   ]
  },
  {
   "cell_type": "markdown",
   "metadata": {},
   "source": [
    "---------\n",
    "19. Create a Python class for a library system, implementing abstraction by defining common methods (e.g., `add_book()`, `borrow_book()`) in an abstract base class."
   ]
  },
  {
   "cell_type": "code",
   "execution_count": null,
   "metadata": {},
   "outputs": [],
   "source": [
    "from abc import ABC, abstractmethod\n",
    "\n",
    "class Library(ABC):\n",
    "    @abstractmethod\n",
    "    def add_book(self, book):\n",
    "        pass\n",
    "\n",
    "    @abstractmethod\n",
    "    def borrow_book(self, book):\n",
    "        pass\n",
    "\n",
    "    @abstractmethod\n",
    "    def return_book(self, book):\n",
    "        pass\n",
    "\n",
    "class MyLibrary(Library):\n",
    "    def __init__(self):\n",
    "        self.books = []\n",
    "\n",
    "    def add_book(self, book):\n",
    "        self.books.append(book)\n",
    "        print(f\"Added book: {book}\")\n",
    "\n",
    "    def borrow_book(self, book):\n",
    "        if book in self.books:\n",
    "            self.books.remove(book)\n",
    "            print(f\"Borrowed book: {book}\")\n",
    "        else:\n",
    "            print(f\"Book {book} not available\")\n",
    "\n",
    "    def return_book(self, book):\n",
    "        self.books.append(book)\n",
    "        print(f\"Returned book: {book}\")\n",
    "\n",
    "library = MyLibrary()\n",
    "library.add_book(\"Python Crash Course\")\n",
    "library.add_book(\"Clean Code\")\n",
    "library.borrow_book(\"Python Crash Course\")\n",
    "library.return_book(\"Python Crash Course\")\n",
    "library.borrow_book(\"Python Crash Course\")\n",
    "library.borrow_book(\"Design Patterns\")"
   ]
  },
  {
   "cell_type": "markdown",
   "metadata": {},
   "source": [
    "----------\n",
    "20. Describe the concept of method abstraction in Python and how it relates to polymorphism."
   ]
  },
  {
   "cell_type": "markdown",
   "metadata": {},
   "source": [
    "Method abstraction in Python refers to the ability to define methods in a way that hides their implementation details and focuses on their behavior or functionality. It allows developers to define methods with common names and parameters across different classes or objects while leaving the specific implementation details to each individual class.\n",
    "\n",
    "Method abstraction is closely related to polymorphism, which is a fundamental concept in object-oriented programming. Polymorphism allows objects of different types to be treated as interchangeable, as long as they share a common interface or base class. In Python, polymorphism is achieved through method overriding and method overloading."
   ]
  }
 ],
 "metadata": {
  "kernelspec": {
   "display_name": "base",
   "language": "python",
   "name": "python3"
  },
  "language_info": {
   "codemirror_mode": {
    "name": "ipython",
    "version": 3
   },
   "file_extension": ".py",
   "mimetype": "text/x-python",
   "name": "python",
   "nbconvert_exporter": "python",
   "pygments_lexer": "ipython3",
   "version": "3.11.4"
  }
 },
 "nbformat": 4,
 "nbformat_minor": 2
}
