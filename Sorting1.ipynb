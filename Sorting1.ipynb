{
 "cells": [
  {
   "cell_type": "markdown",
   "metadata": {},
   "source": [
    "------\n",
    "1.Given an array of n numbers, give an algorithm which gives the element appearing maximum\n",
    "number of times?"
   ]
  },
  {
   "cell_type": "code",
   "execution_count": 3,
   "metadata": {},
   "outputs": [
    {
     "name": "stdout",
     "output_type": "stream",
     "text": [
      "4\n"
     ]
    }
   ],
   "source": [
    "def frequent_element(arr):\n",
    "    count = {}\n",
    "    for i in arr:\n",
    "        if i in count:\n",
    "            count[i] += 1\n",
    "        else:\n",
    "            count[i] = 1\n",
    "    max_count = max(count.values())\n",
    "    for i in count:\n",
    "        if count[i] == max_count:\n",
    "            return i\n",
    "\n",
    "arr = [1, 2, 2, 3, 3, 3, 4, 4, 4, 4]\n",
    "print(frequent_element(arr))\n",
    "    "
   ]
  },
  {
   "cell_type": "markdown",
   "metadata": {},
   "source": [
    "---------\n",
    "Problem 2 : We are given a list of n-1 integers and these integers are in the range of 1 to n . There are no\n",
    "duplicates in the list. One of the integers is missing in the list. Give an algorithm to find that element Ex:\n",
    "[1,2,4,6,3,7,8] 5 is the missing num."
   ]
  },
  {
   "cell_type": "code",
   "execution_count": 5,
   "metadata": {},
   "outputs": [
    {
     "name": "stdout",
     "output_type": "stream",
     "text": [
      "5\n"
     ]
    }
   ],
   "source": [
    "list = [1,2,4,6,3,7,8]\n",
    "def find_missing(list):\n",
    "     n = len(list) + 1\n",
    "     total = n * (n + 1) / 2\n",
    "     sum_of_list = sum(list)\n",
    "     return (int)(total - sum_of_list)\n",
    "print(find_missing(list))"
   ]
  },
  {
   "cell_type": "markdown",
   "metadata": {},
   "source": [
    "------------\n",
    "Problem 3 : Given an array of n positive numbers. All numbers occurs even number of times except 1 which\n",
    "occurs odd number of times. Find that number in O(n) time and O(1) space. Ex: [1,2,3,2,3,1,3]. 3 is repeats odd\n",
    "times."
   ]
  },
  {
   "cell_type": "code",
   "execution_count": 4,
   "metadata": {},
   "outputs": [
    {
     "name": "stdout",
     "output_type": "stream",
     "text": [
      "3\n"
     ]
    }
   ],
   "source": [
    "arr = [1,2,3,2,3,1,3]\n",
    "def missing_number(arr):\n",
    "     num = 0\n",
    "     for i in arr:\n",
    "         num ^= i\n",
    "     return num\n",
    "print(missing_number(arr))\n"
   ]
  },
  {
   "cell_type": "markdown",
   "metadata": {},
   "source": [
    "-----------\n",
    "Problem 4 : Given an array of n elements. Find two elements in the array such that their sum is equal to given\n",
    "element K."
   ]
  },
  {
   "cell_type": "code",
   "execution_count": 9,
   "metadata": {},
   "outputs": [
    {
     "name": "stdout",
     "output_type": "stream",
     "text": [
      "Pair with sum 8: 3 and 5\n"
     ]
    }
   ],
   "source": [
    "def two_elements(arr,k):\n",
    "    for i in range(len(arr)):\n",
    "        for j in range(i+1,len(arr)):\n",
    "            if arr[i]+arr[j]==k:\n",
    "                return arr[i],arr[j]\n",
    "    return -1\n",
    "\n",
    "arr = [3, 5, 4, 6, 2, 0, 7]\n",
    "k = 8\n",
    "print(two_elements(arr, k))\n"
   ]
  },
  {
   "cell_type": "code",
   "execution_count": 10,
   "metadata": {},
   "outputs": [
    {
     "name": "stdout",
     "output_type": "stream",
     "text": [
      "Pair with sum 8: 2 and 6\n"
     ]
    }
   ],
   "source": [
    "def two_elements(arr,k):\n",
    "     arr.sort()\n",
    "     left = 0\n",
    "     right = len(arr) - 1\n",
    "     while left < right:\n",
    "         if arr[left] + arr[right] == k:\n",
    "             return arr[left], arr[right]\n",
    "         elif arr[left] + arr[right] < k:\n",
    "             left += 1\n",
    "         else:\n",
    "             right -= 1\n",
    "     return -1\n",
    "\n",
    "arr = [3, 5, 4, 6, 2, 0, 7]\n",
    "k = 8\n",
    "print(two_elements(arr, k))\n"
   ]
  },
  {
   "cell_type": "markdown",
   "metadata": {},
   "source": [
    "-----------\n",
    "Problem 5 : Given an array of both positive and negative numbers, find two numbers such that their sum is\n",
    "closest to 0. Ex: [ 1 ,60 ,-10, 70, -80,85]. Ans : -80,85."
   ]
  },
  {
   "cell_type": "code",
   "execution_count": null,
   "metadata": {},
   "outputs": [],
   "source": [
    "def two_element(arr, k):\n",
    "     for i in range(len(arr)):\n",
    "        for j in range(i+1,len(arr)):\n",
    "            if arr[i]+arr[j]==k:\n",
    "                return arr[i],arr[j]"
   ]
  },
  {
   "cell_type": "code",
   "execution_count": 4,
   "metadata": {},
   "outputs": [
    {
     "name": "stdout",
     "output_type": "stream",
     "text": [
      "[-80, 85]\n"
     ]
    }
   ],
   "source": [
    "def two_positive(arr,k):\n",
    "     arr.sort()\n",
    "     left = 0\n",
    "     right = len(arr) - 1\n",
    "     min_diff = float('inf')\n",
    "     while left < right:\n",
    "         if abs(arr[left] + arr[right] - k) < min_diff:\n",
    "             min_diff = abs(arr[left] + arr[right] - k)\n",
    "             res = [arr[left], arr[right]]\n",
    "         if arr[left] + arr[right] > k:\n",
    "             right -= 1\n",
    "         else:\n",
    "             left += 1\n",
    "     return res\n",
    "\n",
    "arr = [ 1 ,60 ,-10, 70, -80,85]\n",
    "k = 0\n",
    "print(two_positive(arr, k))"
   ]
  },
  {
   "cell_type": "markdown",
   "metadata": {},
   "source": [
    "-----------\n",
    "Problem 6 : Given an array of n elements . Find three elements such that their sum is equal to the given number."
   ]
  },
  {
   "cell_type": "code",
   "execution_count": null,
   "metadata": {},
   "outputs": [],
   "source": [
    "def three_elements(arr, k):\n",
    "     for i in range(len(arr)):\n",
    "        for j in range(i+1,len(arr)):\n",
    "            for k in range(j+1,len(arr)):\n",
    "                if arr[i]+arr[j]+arr[k]==k:\n",
    "                    return arr[i],arr[j],arr[k]\n",
    "     return -1\n",
    "     "
   ]
  },
  {
   "cell_type": "code",
   "execution_count": 8,
   "metadata": {},
   "outputs": [
    {
     "name": "stdout",
     "output_type": "stream",
     "text": [
      "(1, 4, 8)\n"
     ]
    },
    {
     "ename": "",
     "evalue": "",
     "output_type": "error",
     "traceback": [
      "\u001b[1;31mThe Kernel crashed while executing code in the current cell or a previous cell. \n",
      "\u001b[1;31mPlease review the code in the cell(s) to identify a possible cause of the failure. \n",
      "\u001b[1;31mClick <a href='https://aka.ms/vscodeJupyterKernelCrash'>here</a> for more info. \n",
      "\u001b[1;31mView Jupyter <a href='command:jupyter.viewOutput'>log</a> for further details."
     ]
    }
   ],
   "source": [
    "def three_elements(arr, k):\n",
    "     arr.sort()\n",
    "     for i in range(len(arr)-2):\n",
    "          left = i + 1\n",
    "          right = len(arr) - 1\n",
    "          while left < right:\n",
    "               if arr[i] + arr[left] + arr[right] == k:\n",
    "                    return (arr[i], arr[left], arr[right])\n",
    "               elif arr[i] + arr[left] + arr[right] < k:\n",
    "                    left += 1\n",
    "               else:\n",
    "                    right -= 1\n",
    "\n",
    "arr = [1, 4, 45, 6, 10, 8]\n",
    "k = 13\n",
    "print(three_elements(arr, k))"
   ]
  },
  {
   "cell_type": "markdown",
   "metadata": {},
   "source": [
    "-------------\n",
    "Problem 7 : Given an array of n elements . Find three elements i, j, k in the array such that i * i + j * j = k*k.>"
   ]
  },
  {
   "cell_type": "code",
   "execution_count": 10,
   "metadata": {},
   "outputs": [
    {
     "name": "stdout",
     "output_type": "stream",
     "text": [
      "None\n"
     ]
    }
   ],
   "source": [
    "def find_elements(arr):\n",
    "     arr.sort()\n",
    "     for i in range(len(arr)-2):\n",
    "          left = i + 1\n",
    "          right = len(arr) - 1\n",
    "          while left < right:\n",
    "               if arr[i]*arr[i] + arr[left]*arr[left] == arr[right]*arr[right]:\n",
    "                    return (arr[i], arr[left], arr[right])\n",
    "               elif arr[i]*arr[i] + arr[left]*arr[left] < arr[right]*arr[right]:\n",
    "                    left += 1\n",
    "               else:\n",
    "                    right -= 1\n",
    "\n",
    "arr = [3, 1, 4, 6, 5]\n",
    "print(find_elements(arr))"
   ]
  },
  {
   "cell_type": "markdown",
   "metadata": {},
   "source": [
    "--------\n",
    " Problem 8 : An element is a majority if it appears more than n/2 times. Give an algorithm takes an array of n element as argument and identifies a majority (if it exists)."
   ]
  },
  {
   "cell_type": "code",
   "execution_count": null,
   "metadata": {},
   "outputs": [],
   "source": [
    "def majority_element(arr, n):\n",
    "     for i in range(n):\n",
    "        count = 0\n",
    "        for j in range(n):\n",
    "            if arr[i] == arr[j]:\n",
    "                count += 1\n",
    "        if count > n/2:\n",
    "            return arr[i]\n",
    "     return -1"
   ]
  },
  {
   "cell_type": "code",
   "execution_count": 7,
   "metadata": {},
   "outputs": [
    {
     "name": "stdout",
     "output_type": "stream",
     "text": [
      "4\n"
     ]
    }
   ],
   "source": [
    "def majority_element(arr):\n",
    "     arr.sort()\n",
    "     return arr[len(arr)//2]\n",
    "\n",
    "arr = [3, 3, 4, 2, 4, 4, 2, 4, 4]\n",
    "print(majority_element(arr))\n",
    "\n"
   ]
  },
  {
   "cell_type": "markdown",
   "metadata": {},
   "source": [
    "---------\n",
    "Problem 9 : Given n × n matrix, and in each row all 1’s are followed by 0’s. Find the row with the maximum number of 0’s."
   ]
  },
  {
   "cell_type": "code",
   "execution_count": 7,
   "metadata": {},
   "outputs": [
    {
     "name": "stdout",
     "output_type": "stream",
     "text": [
      "1\n"
     ]
    }
   ],
   "source": [
    "def find_row_with_max_zeros(matrix):\n",
    "    n = len(matrix)\n",
    "    max_zeros = 0\n",
    "    max_row = 0\n",
    "    for i in range(n):\n",
    "        zeros = 0\n",
    "        for j in range(n):\n",
    "            if matrix[i][j] == 0:\n",
    "                zeros += 1\n",
    "        if zeros > max_zeros:\n",
    "            max_zeros = zeros\n",
    "            max_row = i\n",
    "    return max_row\n",
    "\n",
    "matrix = [\n",
    "    [1, 1, 0, 0, 0],\n",
    "    [0, 0, 0, 0, 0],\n",
    "    [1, 1, 0, 0, 1],\n",
    "    [1, 1, 1, 1, 0],\n",
    "    [1, 1, 1, 0, 0]\n",
    "]\n",
    "print(find_row_with_max_zeros(matrix))\n",
    "\n"
   ]
  },
  {
   "cell_type": "markdown",
   "metadata": {},
   "source": [
    "---------\n",
    "Problem 10 : Sort an array of 0’s, 1’s and 2’s [or R’s, G’s and B’s]: Given an array A[] consisting of 0’s, 1’s and 2’s, give an algorithm for sorting A[].The algorithm should put all 0’s first, then all 1’s and finally all 2’s at the end. Example Input = {0,1,1,0,1,2,1,2,0,0,0,1}, Output = {0,0,0,0,0,1,1,1,1,1,2,2}"
   ]
  },
  {
   "cell_type": "code",
   "execution_count": 10,
   "metadata": {},
   "outputs": [
    {
     "name": "stdout",
     "output_type": "stream",
     "text": [
      "Sorted Array: [0, 0, 0, 0, 0, 1, 1, 1, 1, 1, 2, 2]\n"
     ]
    }
   ],
   "source": [
    "def sortarray012(arr):\n",
    "    low = 0\n",
    "    high = len(arr) - 1\n",
    "    mid = 0\n",
    "    while mid <= high:\n",
    "        if arr[mid] == 0:\n",
    "            arr[low], arr[mid] = arr[mid], arr[low]\n",
    "            low = low + 1\n",
    "            mid = mid + 1\n",
    "        elif arr[mid] == 1:\n",
    "            mid = mid + 1\n",
    "        else:\n",
    "            arr[mid], arr[high] = arr[high], arr[mid]\n",
    "            high = high - 1\n",
    "    return arr\n",
    "\n",
    "arr = [0, 1, 1, 2, 2, 2, 1, 2, 0, 1, 0, 1]\n",
    "print(sortarray012(arr))"
   ]
  }
 ],
 "metadata": {
  "kernelspec": {
   "display_name": "base",
   "language": "python",
   "name": "python3"
  },
  "language_info": {
   "codemirror_mode": {
    "name": "ipython",
    "version": 3
   },
   "file_extension": ".py",
   "mimetype": "text/x-python",
   "name": "python",
   "nbconvert_exporter": "python",
   "pygments_lexer": "ipython3",
   "version": "3.11.7"
  }
 },
 "nbformat": 4,
 "nbformat_minor": 2
}
