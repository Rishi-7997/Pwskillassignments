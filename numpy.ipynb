{
 "cells": [
  {
   "cell_type": "markdown",
   "metadata": {},
   "source": [
    "---------------\n",
    "1. What is a Python library? Why do we use Python libraries?"
   ]
  },
  {
   "cell_type": "markdown",
   "metadata": {},
   "source": [
    "Python library is a collection of modules and functions that can be used by other programs.\n",
    "These libraries are imported and installed into the Python environment to make the program easier to use.\n",
    "The capabilities of these libraries are:\n",
    "\n",
    "1. Data Analysis and Visualization: It helps in the analysis of data and visualization of data. Libraries include pandas, matplotlib.\n",
    "\n",
    "2. Machine Learning: It helps in the machine learning and deep learning. Libraries include scikit-learn, tensorflow, keras\n",
    "\n",
    "3. Web development: It helps in the web development and web scrapping. Libraries include requests, bs4, selenium for web scrapping and flask, django for web development.\n",
    "\n",
    "4. Networking and Communication: Libraries like requests, socket, urllib are responsible for http requests, networking and communication with various web services.\n",
    "\n",
    "5. GUI development: Libraries like Tkinter, PyQT, Qt are used for GUI development.\n",
    "\n",
    "6. Natural Language Processing: Libraries like spacy, nltk are used for Natural Language Processing.\n",
    "\n",
    "7. File I/O: Libraries like os, csv, shutil are used for file I/O.\n",
    "\n",
    "8. Testing: Libraries like unittest, pytest are used for testing.\n",
    "\n",
    "Uses of python libraries\n",
    "\n",
    "1. Improved code reusability: It makes the code more readable and maintainable.\n",
    "\n",
    "2. Save time: It saves time in development and debugging.\n",
    "\n",
    "3. Standarization and consistency: It helps in standardization of data and consistent data representation.\n",
    "\n",
    "4. Innovation and efficiency: It improves the efficiency of the program and provides better functionalities.\n",
    "\n"
   ]
  },
  {
   "cell_type": "markdown",
   "metadata": {},
   "source": [
    "-----------\n",
    "2. What is the difference between Numpy array and List?"
   ]
  },
  {
   "cell_type": "code",
   "execution_count": 10,
   "metadata": {},
   "outputs": [
    {
     "name": "stdout",
     "output_type": "stream",
     "text": [
      "| NumPy Array | List |\n",
      "|---|---|\n",
      "| Numpy array can  store mixed type of data. | List can store only one type of data. |\n",
      "| Numpy array is faster than list. | List is slower than Numpy array. |\n",
      "| Numpy array is easier to work with. | List is easier to work with. |\n",
      "| Numerical data stored in memory is more efficient. | Numerical data stored in memory is less efficient. |\n",
      "| Slicing and indexing is advanced. | Slicing and indexing is basic. |\n",
      "| One-dimensional array | Can be made multidimensional. |\n"
     ]
    }
   ],
   "source": [
    "data = [\n",
    "     [\"Numpy array can  store mixed type of data.\", \"List can store only one type of data.\"],\n",
    "     [\"Numpy array is faster than list.\", \"List is slower than Numpy array.\"],\n",
    "     [\"Numpy array is easier to work with.\", \"List is easier to work with.\"],\n",
    "     [\"Numerical data stored in memory is more efficient.\", \"Numerical data stored in memory is less efficient.\"],\n",
    "     [\"Slicing and indexing is advanced.\", \"Slicing and indexing is basic.\"],\n",
    "     [\"One-dimensional array\", \"Can be made multidimensional.\"]\n",
    "]\n",
    "\n",
    "print(\"| NumPy Array | List |\")\n",
    "print(\"|---|---|\")\n",
    "\n",
    "for row in data:\n",
    "    print(\"| \" + row[0] + \" | \" + row[1] + \" |\")\n"
   ]
  },
  {
   "cell_type": "markdown",
   "metadata": {},
   "source": [
    "----------\n",
    "3. Find the shape, size and dimension of the following array?\n",
    "[[1, 2, 3, 4]\n",
    "[5, 6, 7, 8],\n",
    "[9, 10, 11, 12]]"
   ]
  },
  {
   "cell_type": "code",
   "execution_count": 11,
   "metadata": {},
   "outputs": [
    {
     "name": "stdout",
     "output_type": "stream",
     "text": [
      "array shape: (3, 4)\n",
      "array size: 12\n",
      "array dimension: 2\n"
     ]
    }
   ],
   "source": [
    "import numpy as np\n",
    "arr = np.array([[1, 2, 3, 4],\n",
    "                [5, 6, 7, 8],\n",
    "                [9, 10, 11, 12]])\n",
    "print(\"array shape:\",arr.shape)\n",
    "print(\"array size:\",arr.size)\n",
    "print(\"array dimension:\",arr.ndim)"
   ]
  },
  {
   "cell_type": "markdown",
   "metadata": {},
   "source": [
    "--------\n",
    "4. Write python code to access the first row of the following array?\n",
    "[[1, 2, 3, 4]\n",
    "[5, 6, 7, 8],\n",
    "[9, 10, 11, 12]]"
   ]
  },
  {
   "cell_type": "code",
   "execution_count": 12,
   "metadata": {},
   "outputs": [
    {
     "name": "stdout",
     "output_type": "stream",
     "text": [
      "[1 2 3 4]\n"
     ]
    }
   ],
   "source": [
    "arr = np.array([[1, 2, 3, 4],\n",
    "               [5, 6, 7, 8],\n",
    "               [9, 10, 11, 12]])\n",
    "first_row = arr[0]\n",
    "print(first_row)"
   ]
  },
  {
   "cell_type": "markdown",
   "metadata": {},
   "source": [
    "-------------\n",
    "5. How do you access the element at the third row and fourth column from the given numpy array?\n",
    "[[1, 2, 3, 4]\n",
    "[5, 6, 7, 8],\n",
    "[9, 10, 11, 12]]"
   ]
  },
  {
   "cell_type": "code",
   "execution_count": 13,
   "metadata": {},
   "outputs": [
    {
     "name": "stdout",
     "output_type": "stream",
     "text": [
      "element at second row and third column: 12\n"
     ]
    }
   ],
   "source": [
    "arr = np.array([[1, 2, 3, 4],\n",
    "               [5, 6, 7, 8],\n",
    "               [9, 10, 11, 12]])\n",
    "second_third = arr[2, 3]\n",
    "print(\"element at second row and third column:\", second_third)"
   ]
  },
  {
   "cell_type": "markdown",
   "metadata": {},
   "source": [
    "-------\n",
    "6. Write code to extract all odd-indexed elements from the given numpy array?\n",
    "[[1, 2, 3, 4]\n",
    "[5, 6, 7, 8],\n",
    "[9, 10, 11, 12]]"
   ]
  },
  {
   "cell_type": "code",
   "execution_count": 14,
   "metadata": {},
   "outputs": [
    {
     "name": "stdout",
     "output_type": "stream",
     "text": [
      "odd elements: [[ 2  4]\n",
      " [ 6  8]\n",
      " [10 12]]\n"
     ]
    }
   ],
   "source": [
    "arr = np.array([[1, 2, 3, 4],\n",
    "               [5, 6, 7, 8],\n",
    "               [9, 10, 11, 12]])\n",
    "odd_elements = arr[:, 1::2]\n",
    "print(\"odd elements:\", odd_elements)\n"
   ]
  },
  {
   "cell_type": "markdown",
   "metadata": {},
   "source": [
    "---\n",
    "7. How can you generate a random 3x3 matrix with values between 0 and 1?"
   ]
  },
  {
   "cell_type": "code",
   "execution_count": 15,
   "metadata": {},
   "outputs": [
    {
     "name": "stdout",
     "output_type": "stream",
     "text": [
      "[[0.53769249 0.90552935 0.20478855]\n",
      " [0.26085011 0.92258779 0.9085714 ]\n",
      " [0.65888892 0.43900676 0.57838722]]\n"
     ]
    }
   ],
   "source": [
    "arr = np.random.rand(3, 3)\n",
    "print(arr)"
   ]
  },
  {
   "cell_type": "markdown",
   "metadata": {},
   "source": [
    "-------\n",
    "8. Describe the difference between np.random.rand and np.random.randn?"
   ]
  },
  {
   "cell_type": "markdown",
   "metadata": {},
   "source": [
    "* np.random.rand(d0, d1, ..., dn):\n",
    "\n",
    "1. Generates samples from a uniform distribution on the interval [0, 1). The interval includes 0, but not 1. \n",
    "\n",
    "2. This distribution is also referred to as the standard uniform distribution. \n",
    "\n",
    "3. Its commonly used for generating random numbers for simulations or statistical modeling.\n",
    "\n",
    "* np.random.randn(d0, d1, ..., dn):\n",
    "\n",
    "1. Generates samples from a standard normal distribution (also known as the Gaussian distribution) with a mean of 0 and a standard deviation of 1.\n",
    "\n",
    "2. This distribution has a bell-shaped curve with most values concentrated around the mean (0) and fewer values farther out in the tails.\n",
    "\n",
    "3. It's commonly used for generating random noise with a normal distribution for simulations or statistical modeling."
   ]
  },
  {
   "cell_type": "markdown",
   "metadata": {},
   "source": [
    "---\n",
    "9. Write code to increase the dimension of the following array?\n",
    "[[1, 2, 3, 4]\n",
    "[5, 6, 7, 8],\n",
    "[9, 10, 11, 12]]"
   ]
  },
  {
   "cell_type": "code",
   "execution_count": 16,
   "metadata": {},
   "outputs": [
    {
     "name": "stdout",
     "output_type": "stream",
     "text": [
      "(3, 1, 4)\n"
     ]
    }
   ],
   "source": [
    "arr = np.array([[1, 2, 3, 4],\n",
    "               [5, 6, 7, 8],\n",
    "               [9, 10, 11, 12]])\n",
    "new_arr = np.expand_dims(arr, axis=1)\n",
    "print(new_arr.shape)"
   ]
  },
  {
   "cell_type": "markdown",
   "metadata": {},
   "source": [
    "---\n",
    "10. How to transpose the following array in NumPy?\n",
    "[[1, 2, 3, 4]\n",
    "[5, 6, 7, 8],\n",
    "[9, 10, 11, 12]]"
   ]
  },
  {
   "cell_type": "code",
   "execution_count": 17,
   "metadata": {},
   "outputs": [
    {
     "name": "stdout",
     "output_type": "stream",
     "text": [
      "[[ 1  5  9]\n",
      " [ 2  6 10]\n",
      " [ 3  7 11]\n",
      " [ 4  8 12]]\n"
     ]
    }
   ],
   "source": [
    "arr = np.array([[1, 2, 3, 4],\n",
    "               [5, 6, 7, 8],\n",
    "               [9, 10, 11, 12]])\n",
    "transposed_arr = arr.T\n",
    "print(transposed_arr)"
   ]
  },
  {
   "cell_type": "markdown",
   "metadata": {},
   "source": [
    "-----\n",
    "11. Consider the following matrix:\n",
    "Matrix A2 [[1, 2, 3, 4] [5, 6, 7, 8],[9, 10, 11, 12]]\n",
    "Matrix B2 [[1, 2, 3, 4] [5, 6, 7, 8],[9, 10, 11, 12]]\n",
    "\n",
    "Perform the following operation using Python:\n",
    "1. Index wise multiplication\n",
    "2. Matrix multiplication\n",
    "3. Add both the matics\n",
    "4. Subtract matrix B from A \n",
    "5. Divide Matrix B by A"
   ]
  },
  {
   "cell_type": "code",
   "execution_count": 18,
   "metadata": {},
   "outputs": [
    {
     "name": "stdout",
     "output_type": "stream",
     "text": [
      "Element-wise multiplication: [[  1   4   9  16]\n",
      " [ 25  36  49  64]\n",
      " [ 81 100 121 144]]\n",
      "Matrix multiplication: [[107 122 137 152]\n",
      " [122 140 158 176]\n",
      " [137 158 179 200]\n",
      " [152 176 200 224]]\n",
      "Matrix sum: [[ 2  4  6  8]\n",
      " [10 12 14 16]\n",
      " [18 20 22 24]]\n",
      "Matrix difference (A - B): [[0 0 0 0]\n",
      " [0 0 0 0]\n",
      " [0 0 0 0]]\n",
      "Matrix division (B / A, element-wise): [[1. 1. 1. 1.]\n",
      " [1. 1. 1. 1.]\n",
      " [1. 1. 1. 1.]]\n"
     ]
    }
   ],
   "source": [
    "A2 = np.array([[1, 2, 3, 4],\n",
    "               [5, 6, 7, 8],\n",
    "               [9, 10, 11, 12]])\n",
    "B2 = np.array([[1, 2, 3, 4],\n",
    "               [5, 6, 7, 8],\n",
    "               [9, 10, 11, 12]])\n",
    "\n",
    "\n",
    "element_wise = A2 * B2\n",
    "print(\"Element-wise multiplication:\", element_wise)\n",
    "\n",
    "A = A2.T \n",
    "matrix_product = np.matmul(A, B2)\n",
    "print(\"Matrix multiplication:\", matrix_product)\n",
    "\n",
    "\n",
    "matrix_sum = A2 + B2\n",
    "print(\"Matrix sum:\", matrix_sum)\n",
    "\n",
    "\n",
    "matrix_difference = A2 - B2\n",
    "print(\"Matrix difference (A - B):\", matrix_difference)\n",
    "\n",
    "\n",
    "matrix_division = np.true_divide(B2, A2)\n",
    "print(\"Matrix division (B / A, element-wise):\", matrix_division)"
   ]
  },
  {
   "cell_type": "markdown",
   "metadata": {},
   "source": [
    "-------------\n",
    "12. Which function in Numpy can be used to swap the byte order of an array?"
   ]
  },
  {
   "cell_type": "markdown",
   "metadata": {},
   "source": [
    "The function in numpy is np.ndarray.byteswap(). Its method applied to an array to toogle the byte order of the array."
   ]
  },
  {
   "cell_type": "markdown",
   "metadata": {},
   "source": [
    "------\n",
    "13. What is the significance of the np.linalg.inv function?"
   ]
  },
  {
   "cell_type": "markdown",
   "metadata": {},
   "source": [
    "The np.linalg.inv function in numpy is used to calculate the inverse of a matrix.\n",
    "\n",
    "A * A⁻¹ = I\n",
    "\n"
   ]
  },
  {
   "cell_type": "markdown",
   "metadata": {},
   "source": [
    "---------\n",
    "14. What does the np.reshape function do, and how is it used?"
   ]
  },
  {
   "cell_type": "markdown",
   "metadata": {},
   "source": [
    "The np.reshape is used to change the shape of an array without changing its data. It allows rearranging the elements of an array in a particular way.\n",
    "\n",
    "Use cases:\n",
    "\n",
    "1. Changing the number of rows and columns of an array to make it more compact or easier to work with.\n",
    "2. It is also used to remove dimensions of the array that are not needed.\n",
    "3. Flattens the array into a 1D array."
   ]
  },
  {
   "cell_type": "markdown",
   "metadata": {},
   "source": [
    "-----\n",
    "15. What is broadcasting in Numpy?"
   ]
  },
  {
   "cell_type": "markdown",
   "metadata": {},
   "source": [
    "Broadcasting in NumPy is used to perform operations on arrays of different shapes. It automatically expands the smaller array to match the shape of the larger array.\n"
   ]
  }
 ],
 "metadata": {
  "kernelspec": {
   "display_name": "base",
   "language": "python",
   "name": "python3"
  },
  "language_info": {
   "codemirror_mode": {
    "name": "ipython",
    "version": 3
   },
   "file_extension": ".py",
   "mimetype": "text/x-python",
   "name": "python",
   "nbconvert_exporter": "python",
   "pygments_lexer": "ipython3",
   "version": "3.11.7"
  }
 },
 "nbformat": 4,
 "nbformat_minor": 2
}
