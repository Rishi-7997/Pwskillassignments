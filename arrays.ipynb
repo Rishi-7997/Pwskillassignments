{
 "cells": [
  {
   "cell_type": "markdown",
   "metadata": {},
   "source": [
    "1. Given an array, check if it contains any duplicates or not.\n",
    "\n",
    "arr = [1, 2, 4, 2, 5, 9]\n",
    "\n",
    "Output = True"
   ]
  },
  {
   "cell_type": "code",
   "execution_count": 3,
   "metadata": {},
   "outputs": [
    {
     "name": "stdout",
     "output_type": "stream",
     "text": [
      "True\n"
     ]
    }
   ],
   "source": [
    "arr = [1,2,4,2,5,9]\n",
    "def duplicate(arr):\n",
    "     for i in arr:\n",
    "         if arr.count(i) > 1:\n",
    "             return True\n",
    "     return False\n",
    "       \n",
    "print(duplicate(arr))"
   ]
  },
  {
   "cell_type": "markdown",
   "metadata": {},
   "source": [
    "There are two loops in this code which means time complexity is O(n^2). The first loop runs for the length of the array. The second loop counts the length of the array. And amount of memory used is because it doesnt increase withe the size of the input array.\n",
    "\n",
    "+ Time Complexity: O(n^2)\n",
    "\n",
    "+ Space Complexity: O(1)"
   ]
  },
  {
   "cell_type": "markdown",
   "metadata": {},
   "source": [
    "2. Given an array and an integer k, rotate the array to the right by k steps.\n",
    "\n",
    "arr = [1, 2, 3, 4, 5, 6, 7], k = 3\n",
    "\n",
    "Output = [5, 6, 7, 1, 2, 3, 4]"
   ]
  },
  {
   "cell_type": "code",
   "execution_count": 1,
   "metadata": {},
   "outputs": [
    {
     "name": "stdout",
     "output_type": "stream",
     "text": [
      "[5, 6, 7, 1, 2, 4, 2]\n"
     ]
    }
   ],
   "source": [
    "arr = [1,2,4,2,5,6,7]\n",
    "k = 3\n",
    "def rotate(arr, k):\n",
    "     if k < len(arr):\n",
    "          arr[:] = arr[-k:] + arr[:-k]\n",
    "     else:\n",
    "          for j in range(k):\n",
    "               arr[:] = arr[-1:] + arr[:-1]\n",
    "     return arr\n",
    "               \n",
    "print(rotate(arr, k))"
   ]
  },
  {
   "cell_type": "markdown",
   "metadata": {},
   "source": [
    "In first condition k is less than the length of the list so we use slicing and concatenation operation the time complexity is O(n). In second case k is greater than the length of the list so we use for loop and time complexity is O(n*k).\n",
    "\n",
    "The space complexity is O(1) because arr is a finite list that does not use any extra space.\n",
    "\n",
    "+ Time Complexity: O(n*k)\n",
    "\n",
    "+ Space Complexity: O(1)\n"
   ]
  },
  {
   "cell_type": "markdown",
   "metadata": {},
   "source": [
    "3. Reverse the given array in-place, means without using any extra data structure.\n",
    "arr = [2, 4, 5, 7, 9, 12]\n",
    "Output = [12, 9, 7, 5, 4, 2]"
   ]
  },
  {
   "cell_type": "code",
   "execution_count": null,
   "metadata": {},
   "outputs": [],
   "source": [
    "arr = [2, 4, 5, 7, 9, 12]\n",
    "def reverse(arr):\n",
    "    i = 0\n",
    "    j = len(arr) - 1\n",
    "    while i < j:\n",
    "        arr[i], arr[j] = arr[j], arr[i]\n",
    "        i += 1\n",
    "        j -= 1\n",
    "    return arr\n",
    "print(reverse(arr))"
   ]
  },
  {
   "cell_type": "markdown",
   "metadata": {},
   "source": [
    "The time complexity of this given function max is O(n), where n is the number of elements inside arr. Function iterates through each element to find the maximum element in an array.\n",
    "\n",
    "The space complexity of this function is O(1), because the function only uses a fixed amount of extra space to store variables which is i, j and swap values.\n",
    "\n",
    "+ Time Complexity: O(n)\n",
    "\n",
    "+ Space Complexity: O(1)"
   ]
  },
  {
   "cell_type": "markdown",
   "metadata": {},
   "source": [
    "4. Given an array of integers, find the maximum element in an array\n",
    "arr = [10, 5, 20, 8, 15]\n",
    "Output = 20"
   ]
  },
  {
   "cell_type": "code",
   "execution_count": null,
   "metadata": {},
   "outputs": [],
   "source": [
    "arr = [10, 5, 20, 8, 15]\n",
    "def max(arr):\n",
    "    max = arr[0]\n",
    "    for i in arr:\n",
    "        if i > max:\n",
    "            max = i\n",
    "    return max\n",
    "print(max(arr))"
   ]
  },
  {
   "cell_type": "markdown",
   "metadata": {},
   "source": [
    "The time complexity of this given function max is O(n), where n is the number of elements inside arr. Function iterates through each element to find the maximum element in an array.\n",
    "\n",
    "The space complexity of the function is O(1) because it uses constant space to store the maximum value.\n",
    "\n",
    "+ Time Complexity: O(n)\n",
    "\n",
    "+ Space Complexity: O(1)"
   ]
  },
  {
   "cell_type": "markdown",
   "metadata": {},
   "source": [
    "5. Given a sorted array, remove the duplicate element without using any extra data structure.\n",
    "arr = [1, 1, 2, 2, 2, 3, 3, 4, 4, 4, 5, 5]\n",
    "Output = [1, 2, 3, 4, 5]"
   ]
  },
  {
   "cell_type": "code",
   "execution_count": null,
   "metadata": {},
   "outputs": [],
   "source": [
    "arr = [1, 1, 2, 2, 2, 3, 3, 4, 4, 4, 5, 5]\n",
    "def remove_duplicate(arr):\n",
    "    i = 0\n",
    "    for j in range(1, len(arr)):\n",
    "        if arr[i] != arr[j]:\n",
    "            i += 1\n",
    "            arr[i] = arr[j]\n",
    "    return arr[:i+1]"
   ]
  },
  {
   "cell_type": "markdown",
   "metadata": {},
   "source": [
    "The time complixity of this algorithm is O(n) because n is the length of the input list arr and it iterates through arr to make output list.\n",
    "\n",
    "The space complexity is O(n) because it creates a new list to store unique elements.\n",
    "\n",
    "\n",
    "+ Time Complexity: O(n)\n",
    "\n",
    "+ Space Complexity: O(n)\n",
    "\n"
   ]
  }
 ],
 "metadata": {
  "kernelspec": {
   "display_name": "base",
   "language": "python",
   "name": "python3"
  },
  "language_info": {
   "codemirror_mode": {
    "name": "ipython",
    "version": 3
   },
   "file_extension": ".py",
   "mimetype": "text/x-python",
   "name": "python",
   "nbconvert_exporter": "python",
   "pygments_lexer": "ipython3",
   "version": "3.11.5"
  }
 },
 "nbformat": 4,
 "nbformat_minor": 2
}
