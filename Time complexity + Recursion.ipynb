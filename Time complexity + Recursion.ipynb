{
 "cells": [
  {
   "cell_type": "markdown",
   "metadata": {},
   "source": [
    "Problem 1 :\n"
   ]
  },
  {
   "cell_type": "code",
   "execution_count": 2,
   "metadata": {},
   "outputs": [],
   "source": [
    "def quicksort(arr):\n",
    "     if len(arr) <= 1:\n",
    "          return arr\n",
    "     pivot = arr[len(arr) // 2]\n",
    "     left = [x for x in arr if x < pivot]\n",
    "     middle = [x for x in arr if x == pivot]\n",
    "     right = [x for x in arr if x > pivot]\n",
    "     return quicksort(left) + middle + quicksort(right)"
   ]
  },
  {
   "cell_type": "markdown",
   "metadata": {},
   "source": [
    "The time complexity of quicksort algo is O(nlogn) with worst case of O(n^2).\n",
    "\n",
    "The space complexity is O(logn) with worst case of O(n) where n is the number of elements in the array. \n",
    "\n",
    "It is also known as the Timsort algorithm. "
   ]
  },
  {
   "cell_type": "markdown",
   "metadata": {},
   "source": [
    "Problem 2 :\n"
   ]
  },
  {
   "cell_type": "code",
   "execution_count": 3,
   "metadata": {},
   "outputs": [],
   "source": [
    "def nested_loop_example(matrix):\n",
    "     rows, cols = len(matrix), len(matrix[0])\n",
    "     total = 0\n",
    "     for i in range(rows):\n",
    "          for j in range(cols):\n",
    "               total += matrix[i][j]\n",
    "          return total"
   ]
  },
  {
   "cell_type": "markdown",
   "metadata": {},
   "source": [
    "The time complexity of the above example is O(rows * cols) where rows and cols are the number of rows and columns in the matrix.\n",
    "The space complexity is O(1) as no extra space is required."
   ]
  },
  {
   "cell_type": "markdown",
   "metadata": {},
   "source": [
    "Problem 3 :\n"
   ]
  },
  {
   "cell_type": "code",
   "execution_count": 4,
   "metadata": {},
   "outputs": [],
   "source": [
    "def example_function(arr):\n",
    "     result = 0\n",
    "     for element in arr:\n",
    "          result += element\n",
    "     return result"
   ]
  },
  {
   "cell_type": "markdown",
   "metadata": {},
   "source": [
    "The time complexity of above example is O(n) because function iterates through the array only once.\n",
    "\n",
    "The space complexity of above example is O(1) because function does not use any additional space."
   ]
  },
  {
   "cell_type": "markdown",
   "metadata": {},
   "source": [
    "Problem 4 :\n"
   ]
  },
  {
   "cell_type": "code",
   "execution_count": 11,
   "metadata": {},
   "outputs": [],
   "source": [
    "def longest_increasing_subsequence(nums):\n",
    "     n = len(nums)\n",
    "     lis = [1] * n\n",
    "     for i in range(1, n):\n",
    "          for j in range(0, i):\n",
    "               if nums[i] > nums[j] and lis[i] < lis[j] + 1:\n",
    "                    lis[i] = lis[j] + 1\n",
    "     return max(lis)"
   ]
  },
  {
   "cell_type": "markdown",
   "metadata": {},
   "source": [
    "The time complexity of the above code is O(n^2) because two nested loops are used. \n",
    "\n",
    "The space complexity of the above algorithm is O(n) as we are storing all the LIS values in a list.\n"
   ]
  },
  {
   "cell_type": "markdown",
   "metadata": {},
   "source": [
    "Problem 5 :\n"
   ]
  },
  {
   "cell_type": "code",
   "execution_count": 1,
   "metadata": {},
   "outputs": [],
   "source": [
    "def mysterious_function(arr):\n",
    "     n = len(arr)\n",
    "     result = 0\n",
    "     for i in range(n):\n",
    "          for j in range(i, n):\n",
    "               result += arr[i] * arr[j]\n",
    "     return result"
   ]
  },
  {
   "cell_type": "markdown",
   "metadata": {},
   "source": [
    "The time complexity of the above code is O(n^2) due to nested loop where n is the number of elements in the array.\n",
    "\n",
    "The space complexity of the above code is O(n) due to the use of an array of size n."
   ]
  },
  {
   "cell_type": "markdown",
   "metadata": {},
   "source": [
    "---------------\n",
    "Solve the following problems on recursion"
   ]
  },
  {
   "cell_type": "markdown",
   "metadata": {},
   "source": [
    "Problem 6 : Sum of Digits\n"
   ]
  },
  {
   "cell_type": "markdown",
   "metadata": {},
   "source": [
    "Write a recursive function to calculate the sum of digits of a given positive integer.\n",
    "sum_of_digits(123) -> 6"
   ]
  },
  {
   "cell_type": "code",
   "execution_count": 15,
   "metadata": {},
   "outputs": [
    {
     "name": "stdout",
     "output_type": "stream",
     "text": [
      "6\n"
     ]
    }
   ],
   "source": [
    "def recursive_function(n):\n",
    "     if n == 0:\n",
    "          return 0\n",
    "     elif n == 1:\n",
    "          return 1\n",
    "     else:\n",
    "          return (n%10 + recursive_function(n//10))\n",
    "     \n",
    "print(recursive_function(123))"
   ]
  },
  {
   "cell_type": "markdown",
   "metadata": {},
   "source": [
    "Problem 7: Fibonacci Series\n"
   ]
  },
  {
   "cell_type": "markdown",
   "metadata": {},
   "source": [
    "Write a recursive function to generate the first n numbers of the Fibonacci series.\n",
    "fibonacci_series(6) -> [0, 1, 1, 2, 3, 5]"
   ]
  },
  {
   "cell_type": "code",
   "execution_count": 20,
   "metadata": {},
   "outputs": [
    {
     "name": "stdout",
     "output_type": "stream",
     "text": [
      "[0, 1, 1, 2, 3, 5, 8]\n"
     ]
    }
   ],
   "source": [
    "def fibonacci_series(n):\n",
    "     if n == 0:\n",
    "          return [0]\n",
    "     elif n == 1:\n",
    "          return [0, 1]\n",
    "     else:\n",
    "          result = fibonacci_series(n-1)\n",
    "          result.append(result[-1] + result[-2])\n",
    "          return result\n",
    "\n",
    "print(fibonacci_series(6))"
   ]
  },
  {
   "cell_type": "markdown",
   "metadata": {},
   "source": [
    "Problem 8 : Subset Sum\n"
   ]
  },
  {
   "cell_type": "markdown",
   "metadata": {},
   "source": [
    "Given a set of positive integers and a target sum, write a recursive function to determine if there exists a subset\n",
    "of the integers that adds up to the target sum.\n",
    "subset_sum([3, 34, 4, 12, 5, 2], 9) -> True"
   ]
  },
  {
   "cell_type": "code",
   "execution_count": 1,
   "metadata": {},
   "outputs": [
    {
     "name": "stdout",
     "output_type": "stream",
     "text": [
      "True\n"
     ]
    }
   ],
   "source": [
    "arr = [3, 34, 4, 12, 5, 2]\n",
    "target = 9\n",
    "def sum(arr, target):\n",
    "     if len(arr) == 0:\n",
    "          return False\n",
    "     elif len(arr) == 1:\n",
    "          return arr[0] == target\n",
    "     else:\n",
    "          return sum(arr[:-1], target-arr[-1]) or sum(arr[:-1], target)\n",
    "print(sum(arr, target))"
   ]
  },
  {
   "cell_type": "markdown",
   "metadata": {},
   "source": [
    "Problem 9: Word Break\n"
   ]
  },
  {
   "cell_type": "markdown",
   "metadata": {},
   "source": [
    "Given a non-empty string and a dictionary of words, write a recursive function to determine if the string can be\n",
    "segmented into a space-separated sequence of dictionary words.\n",
    "word_break( leetcode , [ leet , code ]) -> True"
   ]
  },
  {
   "cell_type": "code",
   "execution_count": 2,
   "metadata": {},
   "outputs": [
    {
     "name": "stdout",
     "output_type": "stream",
     "text": [
      "True\n"
     ]
    }
   ],
   "source": [
    "def word_break(s, wordDict):\n",
    "     word_set = set(wordDict)\n",
    "     list_of_words = [False] * (len(s) + 1)\n",
    "     list_of_words[0] = True\n",
    "     \n",
    "     for i in range(1, len(s) + 1):\n",
    "          for j in word_set:\n",
    "               length = len(j)\n",
    "               \n",
    "               if i>=length and list_of_words[i-length] and s[i-length:i] == j:\n",
    "                    list_of_words[i] = True\n",
    "                    break\n",
    "     return list_of_words[len(s)]\n",
    "\n",
    "print(word_break(\"leetcode\", [\"leet\", \"code\"]))"
   ]
  },
  {
   "cell_type": "markdown",
   "metadata": {},
   "source": [
    "Problem 10 : N-Queens"
   ]
  },
  {
   "cell_type": "markdown",
   "metadata": {},
   "source": [
    "\n",
    "Implement a recursive function to solve the N Queens problem, where you have to place N queens on an N×N\n",
    "chessboard in such a way that no two queens threaten each other.\n",
    "n_queens(4)\n",
    "[\n",
    "[\".Q..\",\n",
    "\"...Q\",\n",
    "\"Q...\",\n",
    "\"..Q.\"],\n",
    "[\"..Q.\",\n",
    "\"Q...\",\n",
    "\"...Q\",\n",
    "\".Q..\"]\n",
    "]"
   ]
  },
  {
   "cell_type": "code",
   "execution_count": 1,
   "metadata": {},
   "outputs": [
    {
     "name": "stdout",
     "output_type": "stream",
     "text": [
      "[1, 0, 0, 0]\n",
      "[1, 0, 0, 0]\n",
      "[1, 0, 0, 0]\n",
      "[1, 0, 0, 0]\n"
     ]
    }
   ],
   "source": [
    "def N_queens(row, col, board):\n",
    "    for i in range(col):\n",
    "        if board[row][i] == 1:\n",
    "            return False\n",
    "\n",
    "\n",
    "    for i, j in zip(range(row, -1, -1), range(col, -1, -1)):\n",
    "        if board[i][j] == 1:\n",
    "            return False\n",
    "\n",
    "\n",
    "    for i, j in zip(range(row, len(board)), range(col, -1, -1)):\n",
    "        if board[i][j] == 1:\n",
    "            return False\n",
    "\n",
    "    return True\n",
    "\n",
    "def solve_N_queens(board, row):\n",
    "    \n",
    "    if row >= len(board):\n",
    "        return True\n",
    "\n",
    "    \n",
    "    for col in range(len(board)):\n",
    "        if N_queens(row, col, board):\n",
    "            board[row][col] = 1  \n",
    "            if solve_N_queens(board, row + 1): \n",
    "                return True\n",
    "            board[row][col] = 0  \n",
    "\n",
    "    return False  \n",
    "\n",
    "\n",
    "def n_queens(n):\n",
    "    board = [[0] * n for _ in range(n)]  \n",
    "    if solve_N_queens(board, 0):\n",
    "        return board  \n",
    "    else:\n",
    "        return None\n",
    "\n",
    "\n",
    "result = n_queens(4)\n",
    "if result:\n",
    "    for row in result:\n",
    "        print(row)\n",
    "else:\n",
    "    print(\"No solution exists.\")\n"
   ]
  }
 ],
 "metadata": {
  "kernelspec": {
   "display_name": "base",
   "language": "python",
   "name": "python3"
  },
  "language_info": {
   "codemirror_mode": {
    "name": "ipython",
    "version": 3
   },
   "file_extension": ".py",
   "mimetype": "text/x-python",
   "name": "python",
   "nbconvert_exporter": "python",
   "pygments_lexer": "ipython3",
   "version": "3.11.7"
  }
 },
 "nbformat": 4,
 "nbformat_minor": 2
}
